{
  "cells": [
    {
      "cell_type": "markdown",
      "source": [
        "# Automated ML"
      ],
      "metadata": {}
    },
    {
      "cell_type": "code",
      "source": [
        "# Imports\n",
        "\n",
        "import os\n",
        "import joblib\n",
        "import numpy as np\n",
        "import pandas as pd\n",
        "import requests\n",
        "import json\n",
        "\n",
        "import azureml.core\n",
        "from azureml.core.experiment import Experiment\n",
        "from azureml.core.workspace import Workspace\n",
        "from azureml.train.automl import AutoMLConfig\n",
        "from azureml.core.dataset import Dataset\n",
        "from azureml.core.compute import ComputeTarget, AmlCompute\n",
        "from azureml.core.compute_target import ComputeTargetException\n",
        "from azureml.widgets import RunDetails\n",
        "from azureml.core.model import Model, InferenceConfig\n",
        "from azureml.core.webservice import AciWebservice"
      ],
      "outputs": [],
      "execution_count": 1,
      "metadata": {
        "gather": {
          "logged": 1629301452647
        },
        "jupyter": {
          "outputs_hidden": false,
          "source_hidden": false
        },
        "nteract": {
          "transient": {
            "deleting": false
          }
        }
      }
    },
    {
      "cell_type": "markdown",
      "source": [
        "## Dataset\n",
        "\n",
        "### Overview\n"
      ],
      "metadata": {}
    },
    {
      "cell_type": "code",
      "source": [
        "# Worspace and experiment\n",
        "\n",
        "ws = Workspace.from_config()\n",
        "experiment_name = 'automl-experiment'\n",
        "project_folder = './automl-project'\n",
        "\n",
        "experiment=Experiment(ws, experiment_name)\n",
        "\n",
        "print('Workspace name: ' + ws.name, \n",
        "      'Azure region: ' + ws.location, \n",
        "      'Subscription id: ' + ws.subscription_id, \n",
        "      'Resource group: ' + ws.resource_group, sep = '\\n')"
      ],
      "outputs": [
        {
          "output_type": "stream",
          "name": "stdout",
          "text": [
            "Workspace name: quick-starts-ws-154916\n",
            "Azure region: southcentralus\n",
            "Subscription id: aa7cf8e8-d23f-4bce-a7b9-1f0b4e0ac8ee\n",
            "Resource group: aml-quickstarts-154916\n"
          ]
        }
      ],
      "execution_count": 2,
      "metadata": {
        "gather": {
          "logged": 1629301459214
        },
        "jupyter": {
          "outputs_hidden": false,
          "source_hidden": false
        },
        "nteract": {
          "transient": {
            "deleting": false
          }
        }
      }
    },
    {
      "cell_type": "code",
      "source": [
        "# Create compute cluster\n",
        "\n",
        "compute_cluster_name = \"alpha\"\n",
        "\n",
        "try:\n",
        "    compute_cluster = ComputeTarget(workspace=ws, name=compute_cluster_name)\n",
        "    print(\"Found existing cluster, please use it.\")\n",
        "except ComputeTargetException:\n",
        "    compute_config = AmlCompute.provisioning_configuration(vm_size='STANDARD_D2_V2', max_nodes=4)\n",
        "    compute_cluster = ComputeTarget.create(ws, compute_cluster_name, compute_config)\n",
        "\n",
        "compute_cluster.wait_for_completion(show_output=True)"
      ],
      "outputs": [
        {
          "output_type": "stream",
          "name": "stdout",
          "text": [
            "InProgress.....\n",
            "SucceededProvisioning operation finished, operation \"Succeeded\"\n",
            "Succeeded\n",
            "AmlCompute wait for completion finished\n",
            "\n",
            "Minimum number of nodes requested have been provisioned\n"
          ]
        }
      ],
      "execution_count": 3,
      "metadata": {
        "gather": {
          "logged": 1629301494541
        }
      }
    },
    {
      "cell_type": "code",
      "source": [
        "# Dataset\n",
        "\n",
        "found = False\n",
        "key = \"Heart Failure Dataset\"\n",
        "description_text = \"Heart Failure Dataset for Udacity Project 3\"\n",
        "\n",
        "if key in ws.datasets.keys():\n",
        "        found = True\n",
        "        dataset = ws.datasets[key]\n",
        "\n",
        "if not found:\n",
        "        # Create AML Dataset and register it into Workspace\n",
        "        example_data = 'https://raw.githubusercontent.com/peppegili/3_Capstone_Project_ML_Engineer/master/data/heart_failure_clinical_records_dataset.csv'\n",
        "        dataset = Dataset.Tabular.from_delimited_files(example_data)        \n",
        "        #Register Dataset in Workspace\n",
        "        dataset = dataset.register(workspace=ws,\n",
        "                                   name=key,\n",
        "                                   description=description_text)\n",
        "\n",
        "df = dataset.to_pandas_dataframe()\n",
        "df.describe()"
      ],
      "outputs": [
        {
          "output_type": "execute_result",
          "execution_count": 4,
          "data": {
            "text/plain": "              age     anaemia  creatinine_phosphokinase    diabetes  \\\ncount  299.000000  299.000000                299.000000  299.000000   \nmean    60.833893    0.431438                581.839465    0.418060   \nstd     11.894809    0.496107                970.287881    0.494067   \nmin     40.000000    0.000000                 23.000000    0.000000   \n25%     51.000000    0.000000                116.500000    0.000000   \n50%     60.000000    0.000000                250.000000    0.000000   \n75%     70.000000    1.000000                582.000000    1.000000   \nmax     95.000000    1.000000               7861.000000    1.000000   \n\n       ejection_fraction  high_blood_pressure      platelets  \\\ncount         299.000000           299.000000     299.000000   \nmean           38.083612             0.351171  263358.029264   \nstd            11.834841             0.478136   97804.236869   \nmin            14.000000             0.000000   25100.000000   \n25%            30.000000             0.000000  212500.000000   \n50%            38.000000             0.000000  262000.000000   \n75%            45.000000             1.000000  303500.000000   \nmax            80.000000             1.000000  850000.000000   \n\n       serum_creatinine  serum_sodium         sex    smoking        time  \\\ncount         299.00000    299.000000  299.000000  299.00000  299.000000   \nmean            1.39388    136.625418    0.648829    0.32107  130.260870   \nstd             1.03451      4.412477    0.478136    0.46767   77.614208   \nmin             0.50000    113.000000    0.000000    0.00000    4.000000   \n25%             0.90000    134.000000    0.000000    0.00000   73.000000   \n50%             1.10000    137.000000    1.000000    0.00000  115.000000   \n75%             1.40000    140.000000    1.000000    1.00000  203.000000   \nmax             9.40000    148.000000    1.000000    1.00000  285.000000   \n\n       DEATH_EVENT  \ncount    299.00000  \nmean       0.32107  \nstd        0.46767  \nmin        0.00000  \n25%        0.00000  \n50%        0.00000  \n75%        1.00000  \nmax        1.00000  ",
            "text/html": "<div>\n<style scoped>\n    .dataframe tbody tr th:only-of-type {\n        vertical-align: middle;\n    }\n\n    .dataframe tbody tr th {\n        vertical-align: top;\n    }\n\n    .dataframe thead th {\n        text-align: right;\n    }\n</style>\n<table border=\"1\" class=\"dataframe\">\n  <thead>\n    <tr style=\"text-align: right;\">\n      <th></th>\n      <th>age</th>\n      <th>anaemia</th>\n      <th>creatinine_phosphokinase</th>\n      <th>diabetes</th>\n      <th>ejection_fraction</th>\n      <th>high_blood_pressure</th>\n      <th>platelets</th>\n      <th>serum_creatinine</th>\n      <th>serum_sodium</th>\n      <th>sex</th>\n      <th>smoking</th>\n      <th>time</th>\n      <th>DEATH_EVENT</th>\n    </tr>\n  </thead>\n  <tbody>\n    <tr>\n      <th>count</th>\n      <td>299.000000</td>\n      <td>299.000000</td>\n      <td>299.000000</td>\n      <td>299.000000</td>\n      <td>299.000000</td>\n      <td>299.000000</td>\n      <td>299.000000</td>\n      <td>299.00000</td>\n      <td>299.000000</td>\n      <td>299.000000</td>\n      <td>299.00000</td>\n      <td>299.000000</td>\n      <td>299.00000</td>\n    </tr>\n    <tr>\n      <th>mean</th>\n      <td>60.833893</td>\n      <td>0.431438</td>\n      <td>581.839465</td>\n      <td>0.418060</td>\n      <td>38.083612</td>\n      <td>0.351171</td>\n      <td>263358.029264</td>\n      <td>1.39388</td>\n      <td>136.625418</td>\n      <td>0.648829</td>\n      <td>0.32107</td>\n      <td>130.260870</td>\n      <td>0.32107</td>\n    </tr>\n    <tr>\n      <th>std</th>\n      <td>11.894809</td>\n      <td>0.496107</td>\n      <td>970.287881</td>\n      <td>0.494067</td>\n      <td>11.834841</td>\n      <td>0.478136</td>\n      <td>97804.236869</td>\n      <td>1.03451</td>\n      <td>4.412477</td>\n      <td>0.478136</td>\n      <td>0.46767</td>\n      <td>77.614208</td>\n      <td>0.46767</td>\n    </tr>\n    <tr>\n      <th>min</th>\n      <td>40.000000</td>\n      <td>0.000000</td>\n      <td>23.000000</td>\n      <td>0.000000</td>\n      <td>14.000000</td>\n      <td>0.000000</td>\n      <td>25100.000000</td>\n      <td>0.50000</td>\n      <td>113.000000</td>\n      <td>0.000000</td>\n      <td>0.00000</td>\n      <td>4.000000</td>\n      <td>0.00000</td>\n    </tr>\n    <tr>\n      <th>25%</th>\n      <td>51.000000</td>\n      <td>0.000000</td>\n      <td>116.500000</td>\n      <td>0.000000</td>\n      <td>30.000000</td>\n      <td>0.000000</td>\n      <td>212500.000000</td>\n      <td>0.90000</td>\n      <td>134.000000</td>\n      <td>0.000000</td>\n      <td>0.00000</td>\n      <td>73.000000</td>\n      <td>0.00000</td>\n    </tr>\n    <tr>\n      <th>50%</th>\n      <td>60.000000</td>\n      <td>0.000000</td>\n      <td>250.000000</td>\n      <td>0.000000</td>\n      <td>38.000000</td>\n      <td>0.000000</td>\n      <td>262000.000000</td>\n      <td>1.10000</td>\n      <td>137.000000</td>\n      <td>1.000000</td>\n      <td>0.00000</td>\n      <td>115.000000</td>\n      <td>0.00000</td>\n    </tr>\n    <tr>\n      <th>75%</th>\n      <td>70.000000</td>\n      <td>1.000000</td>\n      <td>582.000000</td>\n      <td>1.000000</td>\n      <td>45.000000</td>\n      <td>1.000000</td>\n      <td>303500.000000</td>\n      <td>1.40000</td>\n      <td>140.000000</td>\n      <td>1.000000</td>\n      <td>1.00000</td>\n      <td>203.000000</td>\n      <td>1.00000</td>\n    </tr>\n    <tr>\n      <th>max</th>\n      <td>95.000000</td>\n      <td>1.000000</td>\n      <td>7861.000000</td>\n      <td>1.000000</td>\n      <td>80.000000</td>\n      <td>1.000000</td>\n      <td>850000.000000</td>\n      <td>9.40000</td>\n      <td>148.000000</td>\n      <td>1.000000</td>\n      <td>1.00000</td>\n      <td>285.000000</td>\n      <td>1.00000</td>\n    </tr>\n  </tbody>\n</table>\n</div>"
          },
          "metadata": {}
        }
      ],
      "execution_count": 4,
      "metadata": {
        "gather": {
          "logged": 1629301506990
        }
      }
    },
    {
      "cell_type": "markdown",
      "source": [
        "## AutoML Configuration"
      ],
      "metadata": {}
    },
    {
      "cell_type": "code",
      "source": [
        "# AutoML config\n",
        "\n",
        "automl_settings = {\n",
        "    \"experiment_timeout_minutes\": 20,\n",
        "    \"max_concurrent_iterations\": 5,\n",
        "    \"n_cross_validations\": 4,\n",
        "    \"primary_metric\" : 'accuracy'\n",
        "}\n",
        "\n",
        "automl_config = AutoMLConfig(compute_target=compute_cluster,\n",
        "                             task=\"classification\",\n",
        "                             training_data=dataset,\n",
        "                             label_column_name=\"DEATH_EVENT\",   \n",
        "                             path=project_folder,\n",
        "                             enable_early_stopping=True,\n",
        "                             featurization='auto',\n",
        "                             debug_log=\"automl_errors.log\",\n",
        "                             **automl_settings\n",
        "                            )"
      ],
      "outputs": [],
      "execution_count": 5,
      "metadata": {
        "gather": {
          "logged": 1629301559116
        },
        "jupyter": {
          "outputs_hidden": false,
          "source_hidden": false
        },
        "nteract": {
          "transient": {
            "deleting": false
          }
        }
      }
    },
    {
      "cell_type": "code",
      "source": [
        "# Submit the experiment\n",
        "automl = experiment.submit(automl_config)"
      ],
      "outputs": [
        {
          "output_type": "stream",
          "name": "stdout",
          "text": [
            "Submitting remote run.\n"
          ]
        },
        {
          "output_type": "display_data",
          "data": {
            "text/plain": "<IPython.core.display.HTML object>",
            "text/html": "<table style=\"width:100%\"><tr><th>Experiment</th><th>Id</th><th>Type</th><th>Status</th><th>Details Page</th><th>Docs Page</th></tr><tr><td>automl-experiment</td><td>AutoML_bbbb0754-d3e4-47bd-8a5a-831ba68fb866</td><td>automl</td><td>NotStarted</td><td><a href=\"https://ml.azure.com/runs/AutoML_bbbb0754-d3e4-47bd-8a5a-831ba68fb866?wsid=/subscriptions/aa7cf8e8-d23f-4bce-a7b9-1f0b4e0ac8ee/resourcegroups/aml-quickstarts-154916/workspaces/quick-starts-ws-154916&amp;tid=660b3398-b80e-49d2-bc5b-ac1dc93b5254\" target=\"_blank\" rel=\"noopener\">Link to Azure Machine Learning studio</a></td><td><a href=\"https://docs.microsoft.com/en-us/python/api/overview/azure/ml/intro?view=azure-ml-py\" target=\"_blank\" rel=\"noopener\">Link to Documentation</a></td></tr></table>"
          },
          "metadata": {}
        }
      ],
      "execution_count": 6,
      "metadata": {
        "gather": {
          "logged": 1629301568562
        },
        "jupyter": {
          "outputs_hidden": false,
          "source_hidden": false
        },
        "nteract": {
          "transient": {
            "deleting": false
          }
        }
      }
    },
    {
      "cell_type": "markdown",
      "source": [
        "## Run Details"
      ],
      "metadata": {}
    },
    {
      "cell_type": "code",
      "source": [
        "RunDetails(automl).show()\n",
        "automl.wait_for_completion(show_output=True)\n",
        "\n",
        "assert(automl.get_status() == \"Completed\")"
      ],
      "outputs": [
        {
          "output_type": "display_data",
          "data": {
            "text/plain": "_AutoMLWidget(widget_settings={'childWidgetDisplay': 'popup', 'send_telemetry': False, 'log_level': 'INFO', 's…",
            "application/vnd.jupyter.widget-view+json": {
              "version_major": 2,
              "version_minor": 0,
              "model_id": "46dc4bd5f198414bb1ec1d06876d9c46"
            }
          },
          "metadata": {}
        },
        {
          "output_type": "display_data",
          "data": {
            "application/aml.mini.widget.v1": "{\"status\": \"Completed\", \"workbench_run_details_uri\": \"https://ml.azure.com/runs/AutoML_bbbb0754-d3e4-47bd-8a5a-831ba68fb866?wsid=/subscriptions/aa7cf8e8-d23f-4bce-a7b9-1f0b4e0ac8ee/resourcegroups/aml-quickstarts-154916/workspaces/quick-starts-ws-154916&tid=660b3398-b80e-49d2-bc5b-ac1dc93b5254\", \"run_id\": \"AutoML_bbbb0754-d3e4-47bd-8a5a-831ba68fb866\", \"run_properties\": {\"run_id\": \"AutoML_bbbb0754-d3e4-47bd-8a5a-831ba68fb866\", \"created_utc\": \"2021-08-18T15:46:06.86449Z\", \"properties\": {\"num_iterations\": \"1000\", \"training_type\": \"TrainFull\", \"acquisition_function\": \"EI\", \"primary_metric\": \"accuracy\", \"train_split\": \"0\", \"acquisition_parameter\": \"0\", \"num_cross_validation\": \"4\", \"target\": \"alpha\", \"AMLSettingsJsonString\": \"{\\\"path\\\":null,\\\"name\\\":\\\"automl-experiment\\\",\\\"subscription_id\\\":\\\"aa7cf8e8-d23f-4bce-a7b9-1f0b4e0ac8ee\\\",\\\"resource_group\\\":\\\"aml-quickstarts-154916\\\",\\\"workspace_name\\\":\\\"quick-starts-ws-154916\\\",\\\"region\\\":\\\"southcentralus\\\",\\\"compute_target\\\":\\\"alpha\\\",\\\"spark_service\\\":null,\\\"azure_service\\\":\\\"remote\\\",\\\"many_models\\\":false,\\\"pipeline_fetch_max_batch_size\\\":1,\\\"enable_batch_run\\\":false,\\\"enable_run_restructure\\\":false,\\\"start_auxiliary_runs_before_parent_complete\\\":false,\\\"enable_code_generation\\\":false,\\\"iterations\\\":1000,\\\"primary_metric\\\":\\\"accuracy\\\",\\\"task_type\\\":\\\"classification\\\",\\\"data_script\\\":null,\\\"test_size\\\":0.0,\\\"validation_size\\\":0.0,\\\"n_cross_validations\\\":4,\\\"y_min\\\":null,\\\"y_max\\\":null,\\\"num_classes\\\":null,\\\"featurization\\\":\\\"auto\\\",\\\"_ignore_package_version_incompatibilities\\\":false,\\\"is_timeseries\\\":false,\\\"max_cores_per_iteration\\\":1,\\\"max_concurrent_iterations\\\":5,\\\"iteration_timeout_minutes\\\":null,\\\"mem_in_mb\\\":null,\\\"enforce_time_on_windows\\\":false,\\\"experiment_timeout_minutes\\\":20,\\\"experiment_exit_score\\\":null,\\\"whitelist_models\\\":null,\\\"blacklist_algos\\\":[\\\"TensorFlowLinearClassifier\\\",\\\"TensorFlowDNN\\\"],\\\"supported_models\\\":[\\\"DecisionTree\\\",\\\"SVM\\\",\\\"TensorFlowDNN\\\",\\\"RandomForest\\\",\\\"MultinomialNaiveBayes\\\",\\\"LogisticRegression\\\",\\\"ExtremeRandomTrees\\\",\\\"KNN\\\",\\\"AveragedPerceptronClassifier\\\",\\\"XGBoostClassifier\\\",\\\"TensorFlowLinearClassifier\\\",\\\"BernoulliNaiveBayes\\\",\\\"LightGBM\\\",\\\"GradientBoosting\\\",\\\"SGD\\\",\\\"LinearSVM\\\"],\\\"private_models\\\":[],\\\"auto_blacklist\\\":true,\\\"blacklist_samples_reached\\\":false,\\\"exclude_nan_labels\\\":true,\\\"verbosity\\\":20,\\\"_debug_log\\\":\\\"azureml_automl.log\\\",\\\"show_warnings\\\":false,\\\"model_explainability\\\":true,\\\"service_url\\\":null,\\\"sdk_url\\\":null,\\\"sdk_packages\\\":null,\\\"enable_onnx_compatible_models\\\":false,\\\"enable_split_onnx_featurizer_estimator_models\\\":false,\\\"vm_type\\\":\\\"STANDARD_D2_V2\\\",\\\"telemetry_verbosity\\\":20,\\\"send_telemetry\\\":true,\\\"enable_dnn\\\":false,\\\"scenario\\\":\\\"SDK-1.13.0\\\",\\\"environment_label\\\":null,\\\"save_mlflow\\\":false,\\\"force_text_dnn\\\":false,\\\"enable_feature_sweeping\\\":true,\\\"enable_early_stopping\\\":true,\\\"early_stopping_n_iters\\\":10,\\\"metrics\\\":null,\\\"enable_metric_confidence\\\":false,\\\"enable_ensembling\\\":true,\\\"enable_stack_ensembling\\\":true,\\\"ensemble_iterations\\\":15,\\\"enable_tf\\\":false,\\\"enable_subsampling\\\":null,\\\"subsample_seed\\\":null,\\\"enable_nimbusml\\\":false,\\\"enable_streaming\\\":false,\\\"force_streaming\\\":false,\\\"track_child_runs\\\":true,\\\"allowed_private_models\\\":[],\\\"label_column_name\\\":\\\"DEATH_EVENT\\\",\\\"weight_column_name\\\":null,\\\"cv_split_column_names\\\":null,\\\"enable_local_managed\\\":false,\\\"_local_managed_run_id\\\":null,\\\"cost_mode\\\":1,\\\"lag_length\\\":0,\\\"metric_operation\\\":\\\"maximize\\\",\\\"preprocess\\\":true}\", \"DataPrepJsonString\": \"{\\\\\\\"training_data\\\\\\\": {\\\\\\\"datasetId\\\\\\\": \\\\\\\"5e1e7235-41e4-49fd-a0a7-cde40a0c60a3\\\\\\\"}, \\\\\\\"datasets\\\\\\\": 0}\", \"EnableSubsampling\": null, \"runTemplate\": \"AutoML\", \"azureml.runsource\": \"automl\", \"display_task_type\": \"classification\", \"dependencies_versions\": \"{\\\"azureml-widgets\\\": \\\"1.32.0\\\", \\\"azureml-train\\\": \\\"1.32.0\\\", \\\"azureml-train-restclients-hyperdrive\\\": \\\"1.32.0\\\", \\\"azureml-train-core\\\": \\\"1.32.0\\\", \\\"azureml-train-automl\\\": \\\"1.32.0\\\", \\\"azureml-train-automl-runtime\\\": \\\"1.32.0\\\", \\\"azureml-train-automl-client\\\": \\\"1.32.0\\\", \\\"azureml-tensorboard\\\": \\\"1.32.0\\\", \\\"azureml-telemetry\\\": \\\"1.32.0\\\", \\\"azureml-sdk\\\": \\\"1.32.0\\\", \\\"azureml-samples\\\": \\\"0+unknown\\\", \\\"azureml-responsibleai\\\": \\\"1.32.0\\\", \\\"azureml-pipeline\\\": \\\"1.32.0\\\", \\\"azureml-pipeline-steps\\\": \\\"1.32.0\\\", \\\"azureml-pipeline-core\\\": \\\"1.32.0\\\", \\\"azureml-opendatasets\\\": \\\"1.32.0\\\", \\\"azureml-model-management-sdk\\\": \\\"1.0.1b6.post1\\\", \\\"azureml-mlflow\\\": \\\"1.32.0\\\", \\\"azureml-interpret\\\": \\\"1.32.0\\\", \\\"azureml-explain-model\\\": \\\"1.32.0\\\", \\\"azureml-defaults\\\": \\\"1.32.0\\\", \\\"azureml-dataset-runtime\\\": \\\"1.32.0\\\", \\\"azureml-dataprep\\\": \\\"2.18.0\\\", \\\"azureml-dataprep-rslex\\\": \\\"1.16.1\\\", \\\"azureml-dataprep-native\\\": \\\"36.0.0\\\", \\\"azureml-datadrift\\\": \\\"1.32.0\\\", \\\"azureml-core\\\": \\\"1.32.0\\\", \\\"azureml-contrib-services\\\": \\\"1.32.0\\\", \\\"azureml-contrib-server\\\": \\\"1.32.0\\\", \\\"azureml-contrib-reinforcementlearning\\\": \\\"1.32.0\\\", \\\"azureml-contrib-pipeline-steps\\\": \\\"1.32.0\\\", \\\"azureml-contrib-notebook\\\": \\\"1.32.0\\\", \\\"azureml-contrib-fairness\\\": \\\"1.32.0\\\", \\\"azureml-contrib-dataset\\\": \\\"1.32.0\\\", \\\"azureml-cli-common\\\": \\\"1.32.0\\\", \\\"azureml-automl-runtime\\\": \\\"1.32.0\\\", \\\"azureml-automl-dnn-nlp\\\": \\\"1.32.0\\\", \\\"azureml-automl-core\\\": \\\"1.32.0\\\", \\\"azureml-accel-models\\\": \\\"1.32.0\\\"}\", \"_aml_system_scenario_identification\": \"Remote.Parent\", \"ClientType\": \"SDK\", \"environment_cpu_name\": \"AzureML-AutoML\", \"environment_cpu_label\": \"prod\", \"environment_gpu_name\": \"AzureML-AutoML-GPU\", \"environment_gpu_label\": \"prod\", \"root_attribution\": \"automl\", \"attribution\": \"AutoML\", \"Orchestrator\": \"AutoML\", \"CancelUri\": \"https://southcentralus.api.azureml.ms/jasmine/v1.0/subscriptions/aa7cf8e8-d23f-4bce-a7b9-1f0b4e0ac8ee/resourceGroups/aml-quickstarts-154916/providers/Microsoft.MachineLearningServices/workspaces/quick-starts-ws-154916/experimentids/27725655-5bb0-4dd1-84e0-9b31083dbce5/cancel/AutoML_bbbb0754-d3e4-47bd-8a5a-831ba68fb866\", \"ClientSdkVersion\": \"1.33.0\", \"snapshotId\": \"00000000-0000-0000-0000-000000000000\", \"SetupRunId\": \"AutoML_bbbb0754-d3e4-47bd-8a5a-831ba68fb866_setup\", \"SetupRunContainerId\": \"dcid.AutoML_bbbb0754-d3e4-47bd-8a5a-831ba68fb866_setup\", \"FeaturizationRunJsonPath\": \"featurizer_container.json\", \"FeaturizationRunId\": \"AutoML_bbbb0754-d3e4-47bd-8a5a-831ba68fb866_featurize\", \"ProblemInfoJsonString\": \"{\\\"dataset_num_categorical\\\": 0, \\\"is_sparse\\\": false, \\\"subsampling\\\": false, \\\"has_extra_col\\\": true, \\\"dataset_classes\\\": 2, \\\"dataset_features\\\": 12, \\\"dataset_samples\\\": 299, \\\"single_frequency_class_detected\\\": false}\", \"ModelExplainRunId\": \"AutoML_bbbb0754-d3e4-47bd-8a5a-831ba68fb866_ModelExplain\"}, \"tags\": {\"model_explain_run\": \"best_run\", \"_aml_system_azureml.automlComponent\": \"AutoML\", \"pipeline_id\": \"\", \"score\": \"\", \"predicted_cost\": \"\", \"fit_time\": \"\", \"training_percent\": \"\", \"iteration\": \"\", \"run_preprocessor\": \"\", \"run_algorithm\": \"\", \"dynamic_whitelisting_iterations\": \"<25>;<28>;<35>;<40>;\", \"automl_best_child_run_id\": \"AutoML_bbbb0754-d3e4-47bd-8a5a-831ba68fb866_43\", \"model_explain_best_run_child_id\": \"AutoML_bbbb0754-d3e4-47bd-8a5a-831ba68fb866_43\"}, \"end_time_utc\": \"2021-08-18T16:20:18.41201Z\", \"status\": \"Completed\", \"log_files\": {}, \"log_groups\": [], \"run_duration\": \"0:34:11\", \"run_number\": \"1\", \"run_queued_details\": {\"status\": \"Completed\", \"details\": null}}, \"child_runs\": [{\"run_id\": \"AutoML_bbbb0754-d3e4-47bd-8a5a-831ba68fb866_0\", \"run_number\": 5, \"metric\": null, \"status\": \"Completed\", \"run_type\": \"azureml.scriptrun\", \"training_percent\": \"100\", \"start_time\": \"2021-08-18T16:00:34.920321Z\", \"end_time\": \"2021-08-18T16:01:51.755765Z\", \"created_time\": \"2021-08-18T15:57:32.876029Z\", \"created_time_dt\": \"2021-08-18T15:57:32.876029Z\", \"duration\": \"0:04:18\", \"iteration\": \"0\", \"goal\": \"accuracy_max\", \"run_name\": \"MaxAbsScaler, LightGBM\", \"run_properties\": \"copy=True\", \"primary_metric\": 0.82261261, \"best_metric\": 0.82261261}, {\"run_id\": \"AutoML_bbbb0754-d3e4-47bd-8a5a-831ba68fb866_4\", \"run_number\": 6, \"metric\": null, \"status\": \"Completed\", \"run_type\": \"azureml.scriptrun\", \"training_percent\": \"100\", \"start_time\": \"2021-08-18T16:00:36.680594Z\", \"end_time\": \"2021-08-18T16:06:28.309184Z\", \"created_time\": \"2021-08-18T15:57:32.935977Z\", \"created_time_dt\": \"2021-08-18T15:57:32.935977Z\", \"duration\": \"0:08:55\", \"iteration\": \"4\", \"goal\": \"accuracy_max\", \"run_name\": \"StandardScalerWrapper, KNN\", \"run_properties\": \"\\n    copy=True,\\n    with_mean=False,\\n    with_std=False\\n\", \"primary_metric\": 0.59527027, \"best_metric\": 0.84247748}, {\"run_id\": \"AutoML_bbbb0754-d3e4-47bd-8a5a-831ba68fb866_1\", \"run_number\": 7, \"metric\": null, \"status\": \"Completed\", \"run_type\": \"azureml.scriptrun\", \"training_percent\": \"100\", \"start_time\": \"2021-08-18T15:58:46.212732Z\", \"end_time\": \"2021-08-18T15:59:36.094046Z\", \"created_time\": \"2021-08-18T15:57:32.961746Z\", \"created_time_dt\": \"2021-08-18T15:57:32.961746Z\", \"duration\": \"0:02:03\", \"iteration\": \"1\", \"goal\": \"accuracy_max\", \"run_name\": \"MaxAbsScaler, XGBoostClassifier\", \"run_properties\": \"copy=True\", \"primary_metric\": 0.83936937, \"best_metric\": 0.83936937}, {\"run_id\": \"AutoML_bbbb0754-d3e4-47bd-8a5a-831ba68fb866_3\", \"run_number\": 8, \"metric\": null, \"status\": \"Completed\", \"run_type\": \"azureml.scriptrun\", \"training_percent\": \"100\", \"start_time\": \"2021-08-18T15:57:50.744896Z\", \"end_time\": \"2021-08-18T15:58:36.079989Z\", \"created_time\": \"2021-08-18T15:57:33.046821Z\", \"created_time_dt\": \"2021-08-18T15:57:33.046821Z\", \"duration\": \"0:01:03\", \"iteration\": \"3\", \"goal\": \"accuracy_max\", \"run_name\": \"SparseNormalizer, XGBoostClassifier\", \"run_properties\": \"copy=True, norm='l2'\", \"primary_metric\": 0.78261261, \"best_metric\": 0.84247748}, {\"run_id\": \"AutoML_bbbb0754-d3e4-47bd-8a5a-831ba68fb866_2\", \"run_number\": 9, \"metric\": null, \"status\": \"Completed\", \"run_type\": \"azureml.scriptrun\", \"training_percent\": \"100\", \"start_time\": \"2021-08-18T15:59:39.448691Z\", \"end_time\": \"2021-08-18T16:00:51.946624Z\", \"created_time\": \"2021-08-18T15:57:33.946613Z\", \"created_time_dt\": \"2021-08-18T15:57:33.946613Z\", \"duration\": \"0:03:18\", \"iteration\": \"2\", \"goal\": \"accuracy_max\", \"run_name\": \"MaxAbsScaler, ExtremeRandomTrees\", \"run_properties\": \"copy=True\", \"primary_metric\": 0.84247748, \"best_metric\": 0.84247748}, {\"run_id\": \"AutoML_bbbb0754-d3e4-47bd-8a5a-831ba68fb866_5\", \"run_number\": 10, \"metric\": null, \"status\": \"Completed\", \"run_type\": \"azureml.scriptrun\", \"training_percent\": \"100\", \"start_time\": \"2021-08-18T16:00:40.387909Z\", \"end_time\": \"2021-08-18T16:06:48.575068Z\", \"created_time\": \"2021-08-18T15:58:45.404168Z\", \"created_time_dt\": \"2021-08-18T15:58:45.404168Z\", \"duration\": \"0:08:03\", \"iteration\": \"5\", \"goal\": \"accuracy_max\", \"run_name\": \"MaxAbsScaler, LightGBM\", \"run_properties\": \"copy=True\", \"primary_metric\": 0.84265766, \"best_metric\": 0.84265766}, {\"run_id\": \"AutoML_bbbb0754-d3e4-47bd-8a5a-831ba68fb866_6\", \"run_number\": 11, \"metric\": null, \"status\": \"Completed\", \"run_type\": \"azureml.scriptrun\", \"training_percent\": \"100\", \"start_time\": \"2021-08-18T16:01:28.540558Z\", \"end_time\": \"2021-08-18T16:02:56.567612Z\", \"created_time\": \"2021-08-18T15:59:38.949578Z\", \"created_time_dt\": \"2021-08-18T15:59:38.949578Z\", \"duration\": \"0:03:17\", \"iteration\": \"6\", \"goal\": \"accuracy_max\", \"run_name\": \"RobustScaler, LogisticRegression\", \"run_properties\": \"copy=True, quantile_range=[10, 90], with_centering=True,\\n             with_scaling=True\", \"primary_metric\": 0.80243243, \"best_metric\": 0.84265766}, {\"run_id\": \"AutoML_bbbb0754-d3e4-47bd-8a5a-831ba68fb866_7\", \"run_number\": 12, \"metric\": null, \"status\": \"Completed\", \"run_type\": \"azureml.scriptrun\", \"training_percent\": \"100\", \"start_time\": \"2021-08-18T16:02:22.83236Z\", \"end_time\": \"2021-08-18T16:03:57.004887Z\", \"created_time\": \"2021-08-18T16:00:54.883907Z\", \"created_time_dt\": \"2021-08-18T16:00:54.883907Z\", \"duration\": \"0:03:02\", \"iteration\": \"7\", \"goal\": \"accuracy_max\", \"run_name\": \"MaxAbsScaler, LightGBM\", \"run_properties\": \"copy=True\", \"primary_metric\": 0.81265766, \"best_metric\": 0.84265766}, {\"run_id\": \"AutoML_bbbb0754-d3e4-47bd-8a5a-831ba68fb866_8\", \"run_number\": 13, \"metric\": null, \"status\": \"Completed\", \"run_type\": \"azureml.scriptrun\", \"training_percent\": \"100\", \"start_time\": \"2021-08-18T16:03:18.181323Z\", \"end_time\": \"2021-08-18T16:04:56.884782Z\", \"created_time\": \"2021-08-18T16:01:54.719823Z\", \"created_time_dt\": \"2021-08-18T16:01:54.719823Z\", \"duration\": \"0:03:02\", \"iteration\": \"8\", \"goal\": \"accuracy_max\", \"run_name\": \"StandardScalerWrapper, KNN\", \"run_properties\": \"\\n    copy=True,\\n    with_mean=False,\\n    with_std=False\\n\", \"primary_metric\": 0.6118018, \"best_metric\": 0.84265766}, {\"run_id\": \"AutoML_bbbb0754-d3e4-47bd-8a5a-831ba68fb866_9\", \"run_number\": 14, \"metric\": null, \"status\": \"Completed\", \"run_type\": \"azureml.scriptrun\", \"training_percent\": \"100\", \"start_time\": \"2021-08-18T16:04:12.762183Z\", \"end_time\": \"2021-08-18T16:05:17.505582Z\", \"created_time\": \"2021-08-18T16:02:59.495802Z\", \"created_time_dt\": \"2021-08-18T16:02:59.495802Z\", \"duration\": \"0:02:18\", \"iteration\": \"9\", \"goal\": \"accuracy_max\", \"run_name\": \"StandardScalerWrapper, SVM\", \"run_properties\": \"\\n    copy=True,\\n    with_mean=True,\\n    with_std=True\\n\", \"primary_metric\": 0.73887387, \"best_metric\": 0.84265766}, {\"run_id\": \"AutoML_bbbb0754-d3e4-47bd-8a5a-831ba68fb866_10\", \"run_number\": 15, \"metric\": null, \"status\": \"Completed\", \"run_type\": \"azureml.scriptrun\", \"training_percent\": \"100\", \"start_time\": \"2021-08-18T16:05:06.045857Z\", \"end_time\": \"2021-08-18T16:06:18.107679Z\", \"created_time\": \"2021-08-18T16:04:00.074469Z\", \"created_time_dt\": \"2021-08-18T16:04:00.074469Z\", \"duration\": \"0:02:18\", \"iteration\": \"10\", \"goal\": \"accuracy_max\", \"run_name\": \"StandardScalerWrapper, XGBoostClassifier\", \"run_properties\": \"\\n    copy=True,\\n    with_mean=False,\\n    with_std=False\\n\", \"primary_metric\": 0.82572072, \"best_metric\": 0.84265766}, {\"run_id\": \"AutoML_bbbb0754-d3e4-47bd-8a5a-831ba68fb866_11\", \"run_number\": 16, \"metric\": null, \"status\": \"Completed\", \"run_type\": \"azureml.scriptrun\", \"training_percent\": \"100\", \"start_time\": \"2021-08-18T16:06:00.669204Z\", \"end_time\": \"2021-08-18T16:07:20.701071Z\", \"created_time\": \"2021-08-18T16:05:01.316531Z\", \"created_time_dt\": \"2021-08-18T16:05:01.316531Z\", \"duration\": \"0:02:19\", \"iteration\": \"11\", \"goal\": \"accuracy_max\", \"run_name\": \"MinMaxScaler, RandomForest\", \"run_properties\": \"copy=True, feature_range=(0, 1\", \"primary_metric\": 0.84576577, \"best_metric\": 0.84576577}, {\"run_id\": \"AutoML_bbbb0754-d3e4-47bd-8a5a-831ba68fb866_12\", \"run_number\": 17, \"metric\": null, \"status\": \"Failed\", \"run_type\": \"azureml.scriptrun\", \"training_percent\": \"100\", \"start_time\": \"2021-08-18T16:05:22.720165Z\", \"end_time\": \"2021-08-18T16:06:25.617545Z\", \"created_time\": \"2021-08-18T16:05:22.720165Z\", \"created_time_dt\": \"2021-08-18T16:05:22.720165Z\", \"duration\": \"0:01:02\", \"iteration\": \"12\", \"goal\": \"accuracy_max\", \"run_name\": \"StandardScalerWrapper, LogisticRegression\", \"run_properties\": \"\\n    copy=True,\\n    with_mean=True,\\n    with_std=False\\n\", \"primary_metric\": 0.75220721, \"best_metric\": 0.84576577}, {\"run_id\": \"AutoML_bbbb0754-d3e4-47bd-8a5a-831ba68fb866_13\", \"run_number\": 18, \"metric\": null, \"status\": \"Completed\", \"run_type\": \"azureml.scriptrun\", \"training_percent\": \"100\", \"start_time\": \"2021-08-18T16:06:53.15412Z\", \"end_time\": \"2021-08-18T16:12:31.141715Z\", \"created_time\": \"2021-08-18T16:06:28.720415Z\", \"created_time_dt\": \"2021-08-18T16:06:28.720415Z\", \"duration\": \"0:06:02\", \"iteration\": \"13\", \"goal\": \"accuracy_max\", \"run_name\": \"StandardScalerWrapper, KNN\", \"run_properties\": \"\\n    copy=True,\\n    with_mean=False,\\n    with_std=True\\n\", \"primary_metric\": 0.71252252, \"best_metric\": 0.84576577}, {\"run_id\": \"AutoML_bbbb0754-d3e4-47bd-8a5a-831ba68fb866_14\", \"run_number\": 19, \"metric\": null, \"status\": \"Completed\", \"run_type\": \"azureml.scriptrun\", \"training_percent\": \"100\", \"start_time\": \"2021-08-18T16:06:46.9301Z\", \"end_time\": \"2021-08-18T16:07:30.708926Z\", \"created_time\": \"2021-08-18T16:06:28.731594Z\", \"created_time_dt\": \"2021-08-18T16:06:28.731594Z\", \"duration\": \"0:01:01\", \"iteration\": \"14\", \"goal\": \"accuracy_max\", \"run_name\": \"RobustScaler, KNN\", \"run_properties\": \"copy=True, quantile_range=[10, 90], with_centering=False,\\n             with_scaling=True\", \"primary_metric\": 0.71900901, \"best_metric\": 0.84576577}, {\"run_id\": \"AutoML_bbbb0754-d3e4-47bd-8a5a-831ba68fb866_15\", \"run_number\": 20, \"metric\": null, \"status\": \"Completed\", \"run_type\": \"azureml.scriptrun\", \"training_percent\": \"100\", \"start_time\": \"2021-08-18T16:07:04.942572Z\", \"end_time\": \"2021-08-18T16:07:50.634138Z\", \"created_time\": \"2021-08-18T16:06:33.562081Z\", \"created_time_dt\": \"2021-08-18T16:06:33.562081Z\", \"duration\": \"0:01:17\", \"iteration\": \"15\", \"goal\": \"accuracy_max\", \"run_name\": \"MinMaxScaler, KNN\", \"run_properties\": \"copy=True, feature_range=(0, 1\", \"primary_metric\": 0.72572072, \"best_metric\": 0.84576577}, {\"run_id\": \"AutoML_bbbb0754-d3e4-47bd-8a5a-831ba68fb866_16\", \"run_number\": 21, \"metric\": null, \"status\": \"Completed\", \"run_type\": \"azureml.scriptrun\", \"training_percent\": \"100\", \"start_time\": \"2021-08-18T16:07:55.104797Z\", \"end_time\": \"2021-08-18T16:09:16.923871Z\", \"created_time\": \"2021-08-18T16:06:52.689701Z\", \"created_time_dt\": \"2021-08-18T16:06:52.689701Z\", \"duration\": \"0:02:24\", \"iteration\": \"16\", \"goal\": \"accuracy_max\", \"run_name\": \"SparseNormalizer, KNN\", \"run_properties\": \"copy=True, norm='max'\", \"primary_metric\": 0.74252252, \"best_metric\": 0.84576577}, {\"run_id\": \"AutoML_bbbb0754-d3e4-47bd-8a5a-831ba68fb866_17\", \"run_number\": 22, \"metric\": null, \"status\": \"Completed\", \"run_type\": \"azureml.scriptrun\", \"training_percent\": \"100\", \"start_time\": \"2021-08-18T16:07:59.052128Z\", \"end_time\": \"2021-08-18T16:08:40.458061Z\", \"created_time\": \"2021-08-18T16:07:38.6341Z\", \"created_time_dt\": \"2021-08-18T16:07:38.6341Z\", \"duration\": \"0:01:01\", \"iteration\": \"17\", \"goal\": \"accuracy_max\", \"run_name\": \"MaxAbsScaler, LogisticRegression\", \"run_properties\": \"copy=True\", \"primary_metric\": 0.81923423, \"best_metric\": 0.84576577}, {\"run_id\": \"AutoML_bbbb0754-d3e4-47bd-8a5a-831ba68fb866_18\", \"run_number\": 23, \"metric\": null, \"status\": \"Completed\", \"run_type\": \"azureml.scriptrun\", \"training_percent\": \"100\", \"start_time\": \"2021-08-18T16:07:58.179998Z\", \"end_time\": \"2021-08-18T16:08:40.643327Z\", \"created_time\": \"2021-08-18T16:07:38.710613Z\", \"created_time_dt\": \"2021-08-18T16:07:38.710613Z\", \"duration\": \"0:01:01\", \"iteration\": \"18\", \"goal\": \"accuracy_max\", \"run_name\": \"StandardScalerWrapper, XGBoostClassifier\", \"run_properties\": \"\\n    copy=True,\\n    with_mean=False,\\n    with_std=False\\n\", \"primary_metric\": 0.84247748, \"best_metric\": 0.84576577}, {\"run_id\": \"AutoML_bbbb0754-d3e4-47bd-8a5a-831ba68fb866_19\", \"run_number\": 24, \"metric\": null, \"status\": \"Completed\", \"run_type\": \"azureml.scriptrun\", \"training_percent\": \"100\", \"start_time\": \"2021-08-18T16:09:11.817967Z\", \"end_time\": \"2021-08-18T16:09:55.906125Z\", \"created_time\": \"2021-08-18T16:07:53.668231Z\", \"created_time_dt\": \"2021-08-18T16:07:53.668231Z\", \"duration\": \"0:02:02\", \"iteration\": \"19\", \"goal\": \"accuracy_max\", \"run_name\": \"StandardScalerWrapper, XGBoostClassifier\", \"run_properties\": \"\\n    copy=True,\\n    with_mean=False,\\n    with_std=False\\n\", \"primary_metric\": 0.8090991, \"best_metric\": 0.84576577}, {\"run_id\": \"AutoML_bbbb0754-d3e4-47bd-8a5a-831ba68fb866_20\", \"run_number\": 25, \"metric\": null, \"status\": \"Completed\", \"run_type\": \"azureml.scriptrun\", \"training_percent\": \"100\", \"start_time\": \"2021-08-18T16:09:46.656505Z\", \"end_time\": \"2021-08-18T16:11:07.64843Z\", \"created_time\": \"2021-08-18T16:08:43.922668Z\", \"created_time_dt\": \"2021-08-18T16:08:43.922668Z\", \"duration\": \"0:02:23\", \"iteration\": \"20\", \"goal\": \"accuracy_max\", \"run_name\": \"MaxAbsScaler, LogisticRegression\", \"run_properties\": \"copy=True\", \"primary_metric\": 0.81247748, \"best_metric\": 0.84576577}, {\"run_id\": \"AutoML_bbbb0754-d3e4-47bd-8a5a-831ba68fb866_21\", \"run_number\": 26, \"metric\": null, \"status\": \"Completed\", \"run_type\": \"azureml.scriptrun\", \"training_percent\": \"100\", \"start_time\": \"2021-08-18T16:09:45.844518Z\", \"end_time\": \"2021-08-18T16:10:47.572805Z\", \"created_time\": \"2021-08-18T16:08:43.924149Z\", \"created_time_dt\": \"2021-08-18T16:08:43.924149Z\", \"duration\": \"0:02:03\", \"iteration\": \"21\", \"goal\": \"accuracy_max\", \"run_name\": \"StandardScalerWrapper, XGBoostClassifier\", \"run_properties\": \"\\n    copy=True,\\n    with_mean=False,\\n    with_std=False\\n\", \"primary_metric\": 0.83927928, \"best_metric\": 0.84576577}, {\"run_id\": \"AutoML_bbbb0754-d3e4-47bd-8a5a-831ba68fb866_22\", \"run_number\": 27, \"metric\": null, \"status\": \"Completed\", \"run_type\": \"azureml.scriptrun\", \"training_percent\": \"100\", \"start_time\": \"2021-08-18T16:10:54.097421Z\", \"end_time\": \"2021-08-18T16:11:37.721463Z\", \"created_time\": \"2021-08-18T16:09:20.110885Z\", \"created_time_dt\": \"2021-08-18T16:09:20.110885Z\", \"duration\": \"0:02:17\", \"iteration\": \"22\", \"goal\": \"accuracy_max\", \"run_name\": \"SparseNormalizer, RandomForest\", \"run_properties\": \"copy=True, norm='l2'\", \"primary_metric\": 0.8159009, \"best_metric\": 0.84576577}, {\"run_id\": \"AutoML_bbbb0754-d3e4-47bd-8a5a-831ba68fb866_23\", \"run_number\": 28, \"metric\": null, \"status\": \"Completed\", \"run_type\": \"azureml.scriptrun\", \"training_percent\": \"100\", \"start_time\": \"2021-08-18T16:11:24.156584Z\", \"end_time\": \"2021-08-18T16:12:45.570465Z\", \"created_time\": \"2021-08-18T16:09:59.085754Z\", \"created_time_dt\": \"2021-08-18T16:09:59.085754Z\", \"duration\": \"0:02:46\", \"iteration\": \"23\", \"goal\": \"accuracy_max\", \"run_name\": \"StandardScalerWrapper, RandomForest\", \"run_properties\": \"\\n    copy=True,\\n    with_mean=False,\\n    with_std=False\\n\", \"primary_metric\": 0.79932432, \"best_metric\": 0.84576577}, {\"run_id\": \"AutoML_bbbb0754-d3e4-47bd-8a5a-831ba68fb866_24\", \"run_number\": 29, \"metric\": null, \"status\": \"Completed\", \"run_type\": \"azureml.scriptrun\", \"training_percent\": \"100\", \"start_time\": \"2021-08-18T16:11:23.211895Z\", \"end_time\": \"2021-08-18T16:12:53.118538Z\", \"created_time\": \"2021-08-18T16:10:50.773975Z\", \"created_time_dt\": \"2021-08-18T16:10:50.773975Z\", \"duration\": \"0:02:02\", \"iteration\": \"24\", \"goal\": \"accuracy_max\", \"run_name\": \"StandardScalerWrapper, XGBoostClassifier\", \"run_properties\": \"\\n    copy=True,\\n    with_mean=False,\\n    with_std=False\\n\", \"primary_metric\": 0.83252252, \"best_metric\": 0.84576577}, {\"run_id\": \"AutoML_bbbb0754-d3e4-47bd-8a5a-831ba68fb866_25\", \"run_number\": 30, \"metric\": null, \"status\": \"Completed\", \"run_type\": \"azureml.scriptrun\", \"training_percent\": \"100\", \"start_time\": \"2021-08-18T16:12:30.443923Z\", \"end_time\": \"2021-08-18T16:13:14.726458Z\", \"created_time\": \"2021-08-18T16:11:12.738893Z\", \"created_time_dt\": \"2021-08-18T16:11:12.738893Z\", \"duration\": \"0:02:01\", \"iteration\": \"25\", \"goal\": \"accuracy_max\", \"run_name\": \"TruncatedSVDWrapper, RandomForest\", \"run_properties\": \"n_components=0.8015789473684211, random_state=None\", \"primary_metric\": 0.80252252, \"best_metric\": 0.84576577}, {\"run_id\": \"AutoML_bbbb0754-d3e4-47bd-8a5a-831ba68fb866_26\", \"run_number\": 31, \"metric\": null, \"status\": \"Completed\", \"run_type\": \"azureml.scriptrun\", \"training_percent\": \"100\", \"start_time\": \"2021-08-18T16:13:01.691434Z\", \"end_time\": \"2021-08-18T16:13:41.344691Z\", \"created_time\": \"2021-08-18T16:11:39.557499Z\", \"created_time_dt\": \"2021-08-18T16:11:39.557499Z\", \"duration\": \"0:02:01\", \"iteration\": \"26\", \"goal\": \"accuracy_max\", \"run_name\": \"StandardScalerWrapper, LightGBM\", \"run_properties\": \"\\n    copy=True,\\n    with_mean=True,\\n    with_std=True\\n\", \"primary_metric\": 0.83594595, \"best_metric\": 0.84576577}, {\"run_id\": \"AutoML_bbbb0754-d3e4-47bd-8a5a-831ba68fb866_27\", \"run_number\": 32, \"metric\": null, \"status\": \"Completed\", \"run_type\": \"azureml.scriptrun\", \"training_percent\": \"100\", \"start_time\": \"2021-08-18T16:13:18.636503Z\", \"end_time\": \"2021-08-18T16:14:23.521261Z\", \"created_time\": \"2021-08-18T16:12:33.484476Z\", \"created_time_dt\": \"2021-08-18T16:12:33.484476Z\", \"duration\": \"0:01:50\", \"iteration\": \"27\", \"goal\": \"accuracy_max\", \"run_name\": \"StandardScalerWrapper, RandomForest\", \"run_properties\": \"\\n    copy=True,\\n    with_mean=True,\\n    with_std=True\\n\", \"primary_metric\": 0.84599099, \"best_metric\": 0.84599099}, {\"run_id\": \"AutoML_bbbb0754-d3e4-47bd-8a5a-831ba68fb866_28\", \"run_number\": 33, \"metric\": null, \"status\": \"Completed\", \"run_type\": \"azureml.scriptrun\", \"training_percent\": \"100\", \"start_time\": \"2021-08-18T16:13:39.818263Z\", \"end_time\": \"2021-08-18T16:14:22.31325Z\", \"created_time\": \"2021-08-18T16:13:20.220396Z\", \"created_time_dt\": \"2021-08-18T16:13:20.220396Z\", \"duration\": \"0:01:02\", \"iteration\": \"28\", \"goal\": \"accuracy_max\", \"run_name\": \"StandardScalerWrapper, RandomForest\", \"run_properties\": \"\\n    copy=True,\\n    with_mean=True,\\n    with_std=True\\n\", \"primary_metric\": 0.70923423, \"best_metric\": 0.84599099}, {\"run_id\": \"AutoML_bbbb0754-d3e4-47bd-8a5a-831ba68fb866_29\", \"run_number\": 34, \"metric\": null, \"status\": \"Completed\", \"run_type\": \"azureml.scriptrun\", \"training_percent\": \"100\", \"start_time\": \"2021-08-18T16:13:27.781835Z\", \"end_time\": \"2021-08-18T16:14:22.449592Z\", \"created_time\": \"2021-08-18T16:13:20.24841Z\", \"created_time_dt\": \"2021-08-18T16:13:20.24841Z\", \"duration\": \"0:01:02\", \"iteration\": \"29\", \"goal\": \"accuracy_max\", \"run_name\": \"MinMaxScaler, LightGBM\", \"run_properties\": \"copy=True, feature_range=(0, 1\", \"primary_metric\": 0.83261261, \"best_metric\": 0.84599099}, {\"run_id\": \"AutoML_bbbb0754-d3e4-47bd-8a5a-831ba68fb866_30\", \"run_number\": 35, \"metric\": null, \"status\": \"Completed\", \"run_type\": \"azureml.scriptrun\", \"training_percent\": \"100\", \"start_time\": \"2021-08-18T16:14:28.105079Z\", \"end_time\": \"2021-08-18T16:15:37.904215Z\", \"created_time\": \"2021-08-18T16:13:20.260723Z\", \"created_time_dt\": \"2021-08-18T16:13:20.260723Z\", \"duration\": \"0:02:17\", \"iteration\": \"30\", \"goal\": \"accuracy_max\", \"run_name\": \"StandardScalerWrapper, XGBoostClassifier\", \"run_properties\": \"\\n    copy=True,\\n    with_mean=False,\\n    with_std=False\\n\", \"primary_metric\": 0.79918919, \"best_metric\": 0.84599099}, {\"run_id\": \"AutoML_bbbb0754-d3e4-47bd-8a5a-831ba68fb866_31\", \"run_number\": 36, \"metric\": null, \"status\": \"Completed\", \"run_type\": \"azureml.scriptrun\", \"training_percent\": \"100\", \"start_time\": \"2021-08-18T16:14:58.181122Z\", \"end_time\": \"2021-08-18T16:15:53.021004Z\", \"created_time\": \"2021-08-18T16:13:43.388928Z\", \"created_time_dt\": \"2021-08-18T16:13:43.388928Z\", \"duration\": \"0:02:09\", \"iteration\": \"31\", \"goal\": \"accuracy_max\", \"run_name\": \"SparseNormalizer, XGBoostClassifier\", \"run_properties\": \"copy=True, norm='l1'\", \"primary_metric\": 0.8227027, \"best_metric\": 0.84599099}, {\"run_id\": \"AutoML_bbbb0754-d3e4-47bd-8a5a-831ba68fb866_32\", \"run_number\": 37, \"metric\": null, \"status\": \"Completed\", \"run_type\": \"azureml.scriptrun\", \"training_percent\": \"100\", \"start_time\": \"2021-08-18T16:14:59.255104Z\", \"end_time\": \"2021-08-18T16:15:42.369896Z\", \"created_time\": \"2021-08-18T16:14:24.474204Z\", \"created_time_dt\": \"2021-08-18T16:14:24.474204Z\", \"duration\": \"0:01:17\", \"iteration\": \"32\", \"goal\": \"accuracy_max\", \"run_name\": \"MaxAbsScaler, RandomForest\", \"run_properties\": \"copy=True\", \"primary_metric\": 0.85252252, \"best_metric\": 0.85252252}, {\"run_id\": \"AutoML_bbbb0754-d3e4-47bd-8a5a-831ba68fb866_33\", \"run_number\": 38, \"metric\": null, \"status\": \"Completed\", \"run_type\": \"azureml.scriptrun\", \"training_percent\": \"100\", \"start_time\": \"2021-08-18T16:14:58.10036Z\", \"end_time\": \"2021-08-18T16:15:41.983943Z\", \"created_time\": \"2021-08-18T16:14:24.486239Z\", \"created_time_dt\": \"2021-08-18T16:14:24.486239Z\", \"duration\": \"0:01:17\", \"iteration\": \"33\", \"goal\": \"accuracy_max\", \"run_name\": \"MinMaxScaler, LightGBM\", \"run_properties\": \"copy=True, feature_range=(0, 1\", \"primary_metric\": 0.82923423, \"best_metric\": 0.85252252}, {\"run_id\": \"AutoML_bbbb0754-d3e4-47bd-8a5a-831ba68fb866_34\", \"run_number\": 39, \"metric\": null, \"status\": \"Completed\", \"run_type\": \"azureml.scriptrun\", \"training_percent\": \"100\", \"start_time\": \"2021-08-18T16:16:04.531036Z\", \"end_time\": \"2021-08-18T16:16:45.627294Z\", \"created_time\": \"2021-08-18T16:14:43.0448Z\", \"created_time_dt\": \"2021-08-18T16:14:43.0448Z\", \"duration\": \"0:02:02\", \"iteration\": \"34\", \"goal\": \"accuracy_max\", \"run_name\": \"StandardScalerWrapper, RandomForest\", \"run_properties\": \"\\n    copy=True,\\n    with_mean=False,\\n    with_std=True\\n\", \"primary_metric\": 0.82563063, \"best_metric\": 0.85252252}, {\"run_id\": \"AutoML_bbbb0754-d3e4-47bd-8a5a-831ba68fb866_35\", \"run_number\": 40, \"metric\": null, \"status\": \"Completed\", \"run_type\": \"azureml.scriptrun\", \"training_percent\": \"100\", \"start_time\": \"2021-08-18T16:16:18.626623Z\", \"end_time\": \"2021-08-18T16:17:00.095569Z\", \"created_time\": \"2021-08-18T16:15:41.345005Z\", \"created_time_dt\": \"2021-08-18T16:15:41.345005Z\", \"duration\": \"0:01:18\", \"iteration\": \"35\", \"goal\": \"accuracy_max\", \"run_name\": \"StandardScalerWrapper, RandomForest\", \"run_properties\": \"\\n    copy=True,\\n    with_mean=False,\\n    with_std=True\\n\", \"primary_metric\": 0.84261261, \"best_metric\": 0.85252252}, {\"run_id\": \"AutoML_bbbb0754-d3e4-47bd-8a5a-831ba68fb866_36\", \"run_number\": 41, \"metric\": null, \"status\": \"Completed\", \"run_type\": \"azureml.scriptrun\", \"training_percent\": \"100\", \"start_time\": \"2021-08-18T16:16:17.761544Z\", \"end_time\": \"2021-08-18T16:17:03.067588Z\", \"created_time\": \"2021-08-18T16:16:01.116996Z\", \"created_time_dt\": \"2021-08-18T16:16:01.116996Z\", \"duration\": \"0:01:01\", \"iteration\": \"36\", \"goal\": \"accuracy_max\", \"run_name\": \"MinMaxScaler, LightGBM\", \"run_properties\": \"copy=True, feature_range=(0, 1\", \"primary_metric\": 0.84256757, \"best_metric\": 0.85252252}, {\"run_id\": \"AutoML_bbbb0754-d3e4-47bd-8a5a-831ba68fb866_37\", \"run_number\": 42, \"metric\": null, \"status\": \"Completed\", \"run_type\": \"azureml.scriptrun\", \"training_percent\": \"100\", \"start_time\": \"2021-08-18T16:16:18.72471Z\", \"end_time\": \"2021-08-18T16:17:03.624167Z\", \"created_time\": \"2021-08-18T16:16:01.132161Z\", \"created_time_dt\": \"2021-08-18T16:16:01.132161Z\", \"duration\": \"0:01:02\", \"iteration\": \"37\", \"goal\": \"accuracy_max\", \"run_name\": \"MinMaxScaler, RandomForest\", \"run_properties\": \"copy=True, feature_range=(0, 1\", \"primary_metric\": 0.83234234, \"best_metric\": 0.85252252}, {\"run_id\": \"AutoML_bbbb0754-d3e4-47bd-8a5a-831ba68fb866_38\", \"run_number\": 43, \"metric\": null, \"status\": \"Canceled\", \"run_type\": \"azureml.scriptrun\", \"training_percent\": \"100\", \"start_time\": \"2021-08-18T16:17:21.076772Z\", \"end_time\": \"2021-08-18T16:17:58.110131Z\", \"created_time\": \"2021-08-18T16:16:01.136664Z\", \"created_time_dt\": \"2021-08-18T16:16:01.136664Z\", \"duration\": \"0:01:56\", \"iteration\": \"38\", \"goal\": \"accuracy_max\", \"run_name\": \"StandardScalerWrapper, RandomForest\", \"run_properties\": \"\\n    copy=True,\\n    with_mean=False,\\n    with_std=True\\n\", \"primary_metric\": 0.83585586, \"best_metric\": 0.85252252}, {\"run_id\": \"AutoML_bbbb0754-d3e4-47bd-8a5a-831ba68fb866_39\", \"run_number\": 44, \"metric\": null, \"status\": \"Canceled\", \"run_type\": \"azureml.scriptrun\", \"training_percent\": \"100\", \"start_time\": \"2021-08-18T16:17:31.243222Z\", \"end_time\": \"2021-08-18T16:17:57.936015Z\", \"created_time\": \"2021-08-18T16:16:57.548945Z\", \"created_time_dt\": \"2021-08-18T16:16:57.548945Z\", \"duration\": \"0:01:00\", \"iteration\": \"39\", \"goal\": \"accuracy_max\", \"run_name\": \"MaxAbsScaler, LightGBM\", \"run_properties\": \"copy=True\", \"primary_metric\": 0.85265766, \"best_metric\": 0.85265766}, {\"run_id\": \"AutoML_bbbb0754-d3e4-47bd-8a5a-831ba68fb866_40\", \"run_number\": 45, \"metric\": null, \"status\": \"Canceled\", \"run_type\": \"azureml.scriptrun\", \"training_percent\": \"100\", \"start_time\": \"2021-08-18T16:17:34.998451Z\", \"end_time\": \"2021-08-18T16:17:58.128593Z\", \"created_time\": \"2021-08-18T16:17:17.103722Z\", \"created_time_dt\": \"2021-08-18T16:17:17.103722Z\", \"duration\": \"0:00:41\", \"iteration\": \"40\", \"goal\": \"accuracy_max\", \"run_name\": \"PCA, RandomForest\", \"run_properties\": \"copy=True, iterated_power='auto', n_components=0.7026315789473684,\\n    random_state=None, svd_solver='auto', tol=0.0, whiten=True\", \"primary_metric\": 0.6790991, \"best_metric\": 0.85265766}, {\"run_id\": \"AutoML_bbbb0754-d3e4-47bd-8a5a-831ba68fb866_42\", \"run_number\": 46, \"metric\": null, \"status\": \"Canceled\", \"run_type\": \"azureml.scriptrun\", \"training_percent\": \"100\", \"start_time\": \"2021-08-18T16:17:17.125204Z\", \"end_time\": \"2021-08-18T16:17:58.061094Z\", \"created_time\": \"2021-08-18T16:17:17.125204Z\", \"created_time_dt\": \"2021-08-18T16:17:17.125204Z\", \"duration\": \"0:00:40\", \"iteration\": \"42\", \"goal\": null, \"run_name\": \"Canceled\", \"run_properties\": null}, {\"run_id\": \"AutoML_bbbb0754-d3e4-47bd-8a5a-831ba68fb866_41\", \"run_number\": 47, \"metric\": null, \"status\": \"Canceled\", \"run_type\": \"azureml.scriptrun\", \"training_percent\": \"100\", \"start_time\": \"2021-08-18T16:17:34.084658Z\", \"end_time\": \"2021-08-18T16:17:58.003401Z\", \"created_time\": \"2021-08-18T16:17:17.129866Z\", \"created_time_dt\": \"2021-08-18T16:17:17.129866Z\", \"duration\": \"0:00:40\", \"iteration\": \"41\", \"goal\": \"accuracy_max\", \"run_name\": \"StandardScalerWrapper, LightGBM\", \"run_properties\": \"\\n    copy=True,\\n    with_mean=False,\\n    with_std=False\\n\", \"primary_metric\": 0.77927928, \"best_metric\": 0.85265766}, {\"run_id\": \"AutoML_bbbb0754-d3e4-47bd-8a5a-831ba68fb866_43\", \"run_number\": 48, \"metric\": null, \"status\": \"Completed\", \"run_type\": \"azureml.scriptrun\", \"training_percent\": \"100\", \"start_time\": \"2021-08-18T16:18:51.65115Z\", \"end_time\": \"2021-08-18T16:20:16.271633Z\", \"created_time\": \"2021-08-18T16:17:59.043066Z\", \"created_time_dt\": \"2021-08-18T16:17:59.043066Z\", \"duration\": \"0:02:17\", \"iteration\": \"43\", \"goal\": \"accuracy_max\", \"run_name\": \"VotingEnsemble\", \"run_properties\": \"\\n    estimators=[('39', Pipeline(\\n        memory=None,\\n        steps=[('maxabsscaler', MaxAbsScaler(\\n            copy=True\\n        \", \"primary_metric\": 0.86608108, \"best_metric\": 0.86608108}, {\"run_id\": \"AutoML_bbbb0754-d3e4-47bd-8a5a-831ba68fb866_44\", \"run_number\": 49, \"metric\": null, \"status\": \"Completed\", \"run_type\": \"azureml.scriptrun\", \"training_percent\": \"100\", \"start_time\": \"2021-08-18T16:18:53.282037Z\", \"end_time\": \"2021-08-18T16:20:02.609423Z\", \"created_time\": \"2021-08-18T16:17:59.084492Z\", \"created_time_dt\": \"2021-08-18T16:17:59.084492Z\", \"duration\": \"0:02:03\", \"iteration\": \"44\", \"goal\": \"accuracy_max\", \"run_name\": \"StackEnsemble\", \"run_properties\": \"\\n    base_learners=[('39', Pipeline(\\n        memory=None,\\n        steps=[('maxabsscaler', MaxAbsScaler(\\n            copy=True\\n        \", \"primary_metric\": 0.84936937, \"best_metric\": 0.86608108}], \"children_metrics\": {\"categories\": [0], \"series\": {\"recall_score_weighted\": [{\"categories\": [\"0\", \"1\", \"2\", \"3\", \"4\", \"5\", \"6\", \"7\", \"8\", \"9\", \"10\", \"11\", \"12\", \"13\", \"14\", \"15\", \"16\", \"17\", \"18\", \"19\", \"20\", \"21\", \"22\", \"23\", \"24\", \"25\", \"26\", \"27\", \"28\", \"29\", \"30\", \"31\", \"32\", \"33\", \"34\", \"35\", \"36\", \"37\", \"38\", \"39\", \"40\", \"41\", \"43\", \"44\"], \"mode\": \"markers\", \"name\": \"recall_score_weighted\", \"stepped\": false, \"type\": \"scatter\", \"data\": [0.8226126126126126, 0.8393693693693695, 0.8424774774774775, 0.7826126126126126, 0.5952702702702702, 0.8426576576576577, 0.8024324324324325, 0.8126576576576576, 0.6118018018018019, 0.7388738738738739, 0.8257207207207207, 0.8457657657657658, 0.7522072072072072, 0.7125225225225225, 0.719009009009009, 0.7257207207207207, 0.7425225225225225, 0.8192342342342342, 0.8424774774774775, 0.809099099099099, 0.8124774774774774, 0.8392792792792793, 0.8159009009009008, 0.7993243243243244, 0.8325225225225226, 0.8025225225225225, 0.835945945945946, 0.8459909909909911, 0.7092342342342342, 0.8326126126126127, 0.7991891891891891, 0.8227027027027027, 0.8525225225225226, 0.8292342342342343, 0.8256306306306306, 0.8426126126126127, 0.8425675675675676, 0.8323423423423423, 0.8358558558558558, 0.8526576576576577, 0.6790990990990992, 0.7792792792792792, 0.8660810810810811, 0.8493693693693695]}, {\"categories\": [\"0\", \"1\", \"2\", \"3\", \"4\", \"5\", \"6\", \"7\", \"8\", \"9\", \"10\", \"11\", \"12\", \"13\", \"14\", \"15\", \"16\", \"17\", \"18\", \"19\", \"20\", \"21\", \"22\", \"23\", \"24\", \"25\", \"26\", \"27\", \"28\", \"29\", \"30\", \"31\", \"32\", \"33\", \"34\", \"35\", \"36\", \"37\", \"38\", \"39\", \"40\", \"41\", \"43\", \"44\"], \"mode\": \"lines\", \"name\": \"recall_score_weighted_max\", \"stepped\": true, \"type\": \"scatter\", \"data\": [0.8226126126126126, 0.8393693693693695, 0.8424774774774775, 0.8424774774774775, 0.8424774774774775, 0.8426576576576577, 0.8426576576576577, 0.8426576576576577, 0.8426576576576577, 0.8426576576576577, 0.8426576576576577, 0.8457657657657658, 0.8457657657657658, 0.8457657657657658, 0.8457657657657658, 0.8457657657657658, 0.8457657657657658, 0.8457657657657658, 0.8457657657657658, 0.8457657657657658, 0.8457657657657658, 0.8457657657657658, 0.8457657657657658, 0.8457657657657658, 0.8457657657657658, 0.8457657657657658, 0.8457657657657658, 0.8459909909909911, 0.8459909909909911, 0.8459909909909911, 0.8459909909909911, 0.8459909909909911, 0.8525225225225226, 0.8525225225225226, 0.8525225225225226, 0.8525225225225226, 0.8525225225225226, 0.8525225225225226, 0.8525225225225226, 0.8526576576576577, 0.8526576576576577, 0.8526576576576577, 0.8660810810810811, 0.8660810810810811]}], \"accuracy\": [{\"categories\": [\"0\", \"1\", \"2\", \"3\", \"4\", \"5\", \"6\", \"7\", \"8\", \"9\", \"10\", \"11\", \"12\", \"13\", \"14\", \"15\", \"16\", \"17\", \"18\", \"19\", \"20\", \"21\", \"22\", \"23\", \"24\", \"25\", \"26\", \"27\", \"28\", \"29\", \"30\", \"31\", \"32\", \"33\", \"34\", \"35\", \"36\", \"37\", \"38\", \"39\", \"40\", \"41\", \"43\", \"44\"], \"mode\": \"markers\", \"name\": \"accuracy\", \"stepped\": false, \"type\": \"scatter\", \"data\": [0.8226126126126126, 0.8393693693693695, 0.8424774774774775, 0.7826126126126126, 0.5952702702702702, 0.8426576576576577, 0.8024324324324325, 0.8126576576576576, 0.6118018018018019, 0.7388738738738739, 0.8257207207207207, 0.8457657657657658, 0.7522072072072072, 0.7125225225225225, 0.719009009009009, 0.7257207207207207, 0.7425225225225225, 0.8192342342342342, 0.8424774774774775, 0.809099099099099, 0.8124774774774774, 0.8392792792792793, 0.8159009009009008, 0.7993243243243244, 0.8325225225225226, 0.8025225225225225, 0.835945945945946, 0.8459909909909911, 0.7092342342342342, 0.8326126126126127, 0.7991891891891891, 0.8227027027027027, 0.8525225225225226, 0.8292342342342343, 0.8256306306306306, 0.8426126126126127, 0.8425675675675676, 0.8323423423423423, 0.8358558558558558, 0.8526576576576577, 0.6790990990990992, 0.7792792792792792, 0.8660810810810811, 0.8493693693693695]}, {\"categories\": [\"0\", \"1\", \"2\", \"3\", \"4\", \"5\", \"6\", \"7\", \"8\", \"9\", \"10\", \"11\", \"12\", \"13\", \"14\", \"15\", \"16\", \"17\", \"18\", \"19\", \"20\", \"21\", \"22\", \"23\", \"24\", \"25\", \"26\", \"27\", \"28\", \"29\", \"30\", \"31\", \"32\", \"33\", \"34\", \"35\", \"36\", \"37\", \"38\", \"39\", \"40\", \"41\", \"43\", \"44\"], \"mode\": \"lines\", \"name\": \"accuracy_max\", \"stepped\": true, \"type\": \"scatter\", \"data\": [0.8226126126126126, 0.8393693693693695, 0.8424774774774775, 0.8424774774774775, 0.8424774774774775, 0.8426576576576577, 0.8426576576576577, 0.8426576576576577, 0.8426576576576577, 0.8426576576576577, 0.8426576576576577, 0.8457657657657658, 0.8457657657657658, 0.8457657657657658, 0.8457657657657658, 0.8457657657657658, 0.8457657657657658, 0.8457657657657658, 0.8457657657657658, 0.8457657657657658, 0.8457657657657658, 0.8457657657657658, 0.8457657657657658, 0.8457657657657658, 0.8457657657657658, 0.8457657657657658, 0.8457657657657658, 0.8459909909909911, 0.8459909909909911, 0.8459909909909911, 0.8459909909909911, 0.8459909909909911, 0.8525225225225226, 0.8525225225225226, 0.8525225225225226, 0.8525225225225226, 0.8525225225225226, 0.8525225225225226, 0.8525225225225226, 0.8526576576576577, 0.8526576576576577, 0.8526576576576577, 0.8660810810810811, 0.8660810810810811]}], \"log_loss\": [{\"categories\": [\"0\", \"1\", \"2\", \"3\", \"4\", \"5\", \"6\", \"7\", \"8\", \"9\", \"10\", \"11\", \"12\", \"13\", \"14\", \"15\", \"16\", \"17\", \"18\", \"19\", \"20\", \"21\", \"22\", \"23\", \"24\", \"25\", \"26\", \"27\", \"28\", \"29\", \"30\", \"31\", \"32\", \"33\", \"34\", \"35\", \"36\", \"37\", \"38\", \"39\", \"40\", \"41\", \"43\", \"44\"], \"mode\": \"markers\", \"name\": \"log_loss\", \"stepped\": false, \"type\": \"scatter\", \"data\": [0.49901034812804135, 0.42798633577006046, 0.5395017779764101, 0.5173913130623582, 3.0379519535810076, 0.39656510544759765, 0.4559767265734401, 0.479007259330207, 1.3180156691319778, 0.5282150452279311, 0.4616553450270509, 0.4624578318126711, 0.4918515794045407, 0.5275271137082158, 2.2625783817649125, 1.7610937869916388, 1.093120813734985, 0.43304627754459374, 0.488614952014827, 0.49468390275314, 0.4327153683963515, 0.45683241031694277, 0.42620658166560366, 0.43368188825219556, 0.37609668828478116, 0.4496578110387127, 0.43000770522758336, 0.3606440789103724, 0.5288978037931088, 0.4420481453886653, 0.497180458089415, 0.42176780601752967, 0.3857995360849875, 0.3844642094233391, 0.4032647051556375, 0.6782390636829647, 0.37780576576416236, 0.377716364157579, 0.4871803463980905, 0.3698845942554935, 0.6408144918924986, 0.4737446442438601, 0.40422708583455386, 0.36321728041806123]}, {\"categories\": [\"0\", \"1\", \"2\", \"3\", \"4\", \"5\", \"6\", \"7\", \"8\", \"9\", \"10\", \"11\", \"12\", \"13\", \"14\", \"15\", \"16\", \"17\", \"18\", \"19\", \"20\", \"21\", \"22\", \"23\", \"24\", \"25\", \"26\", \"27\", \"28\", \"29\", \"30\", \"31\", \"32\", \"33\", \"34\", \"35\", \"36\", \"37\", \"38\", \"39\", \"40\", \"41\", \"43\", \"44\"], \"mode\": \"lines\", \"name\": \"log_loss_min\", \"stepped\": true, \"type\": \"scatter\", \"data\": [0.49901034812804135, 0.42798633577006046, 0.42798633577006046, 0.42798633577006046, 0.42798633577006046, 0.39656510544759765, 0.39656510544759765, 0.39656510544759765, 0.39656510544759765, 0.39656510544759765, 0.39656510544759765, 0.39656510544759765, 0.39656510544759765, 0.39656510544759765, 0.39656510544759765, 0.39656510544759765, 0.39656510544759765, 0.39656510544759765, 0.39656510544759765, 0.39656510544759765, 0.39656510544759765, 0.39656510544759765, 0.39656510544759765, 0.39656510544759765, 0.37609668828478116, 0.37609668828478116, 0.37609668828478116, 0.3606440789103724, 0.3606440789103724, 0.3606440789103724, 0.3606440789103724, 0.3606440789103724, 0.3606440789103724, 0.3606440789103724, 0.3606440789103724, 0.3606440789103724, 0.3606440789103724, 0.3606440789103724, 0.3606440789103724, 0.3606440789103724, 0.3606440789103724, 0.3606440789103724, 0.3606440789103724, 0.3606440789103724]}], \"f1_score_micro\": [{\"categories\": [\"0\", \"1\", \"2\", \"3\", \"4\", \"5\", \"6\", \"7\", \"8\", \"9\", \"10\", \"11\", \"13\", \"14\", \"15\", \"16\", \"17\", \"18\", \"19\", \"20\", \"21\", \"22\", \"23\", \"24\", \"25\", \"26\", \"27\", \"28\", \"29\", \"30\", \"31\", \"32\", \"33\", \"34\", \"35\", \"36\", \"37\", \"38\", \"39\", \"40\", \"41\", \"43\", \"44\"], \"mode\": \"markers\", \"name\": \"f1_score_micro\", \"stepped\": false, \"type\": \"scatter\", \"data\": [0.8226126126126126, 0.8393693693693695, 0.8424774774774774, 0.7826126126126126, 0.5952702702702702, 0.8426576576576577, 0.8024324324324325, 0.8126576576576576, 0.6118018018018019, 0.7388738738738739, 0.8257207207207208, 0.8457657657657658, 0.7125225225225226, 0.719009009009009, 0.7257207207207207, 0.7425225225225225, 0.8192342342342342, 0.8424774774774774, 0.809099099099099, 0.8124774774774774, 0.8392792792792793, 0.8159009009009008, 0.7993243243243244, 0.8325225225225225, 0.8025225225225225, 0.835945945945946, 0.8459909909909911, 0.7092342342342342, 0.8326126126126127, 0.7991891891891891, 0.8227027027027027, 0.8525225225225225, 0.8292342342342343, 0.8256306306306306, 0.8426126126126127, 0.8425675675675676, 0.8323423423423423, 0.8358558558558558, 0.8526576576576577, 0.6790990990990992, 0.7792792792792792, 0.8660810810810811, 0.8493693693693695]}, {\"categories\": [\"0\", \"1\", \"2\", \"3\", \"4\", \"5\", \"6\", \"7\", \"8\", \"9\", \"10\", \"11\", \"13\", \"14\", \"15\", \"16\", \"17\", \"18\", \"19\", \"20\", \"21\", \"22\", \"23\", \"24\", \"25\", \"26\", \"27\", \"28\", \"29\", \"30\", \"31\", \"32\", \"33\", \"34\", \"35\", \"36\", \"37\", \"38\", \"39\", \"40\", \"41\", \"43\", \"44\"], \"mode\": \"lines\", \"name\": \"f1_score_micro_max\", \"stepped\": true, \"type\": \"scatter\", \"data\": [0.8226126126126126, 0.8393693693693695, 0.8424774774774774, 0.8424774774774774, 0.8424774774774774, 0.8426576576576577, 0.8426576576576577, 0.8426576576576577, 0.8426576576576577, 0.8426576576576577, 0.8426576576576577, 0.8457657657657658, 0.8457657657657658, 0.8457657657657658, 0.8457657657657658, 0.8457657657657658, 0.8457657657657658, 0.8457657657657658, 0.8457657657657658, 0.8457657657657658, 0.8457657657657658, 0.8457657657657658, 0.8457657657657658, 0.8457657657657658, 0.8457657657657658, 0.8457657657657658, 0.8459909909909911, 0.8459909909909911, 0.8459909909909911, 0.8459909909909911, 0.8459909909909911, 0.8525225225225225, 0.8525225225225225, 0.8525225225225225, 0.8525225225225225, 0.8525225225225225, 0.8525225225225225, 0.8525225225225225, 0.8526576576576577, 0.8526576576576577, 0.8526576576576577, 0.8660810810810811, 0.8660810810810811]}], \"AUC_micro\": [{\"categories\": [\"0\", \"1\", \"2\", \"3\", \"4\", \"5\", \"6\", \"7\", \"8\", \"9\", \"10\", \"11\", \"12\", \"13\", \"14\", \"15\", \"16\", \"17\", \"18\", \"19\", \"20\", \"21\", \"22\", \"23\", \"24\", \"25\", \"26\", \"27\", \"28\", \"29\", \"30\", \"31\", \"32\", \"33\", \"34\", \"35\", \"36\", \"37\", \"38\", \"39\", \"40\", \"41\", \"43\", \"44\"], \"mode\": \"markers\", \"name\": \"AUC_micro\", \"stepped\": false, \"type\": \"scatter\", \"data\": [0.8958171252333414, 0.8958392013635257, 0.8909082947812678, 0.862786742147553, 0.6235266536807078, 0.9039262722181641, 0.8664251602954305, 0.8866476584692802, 0.6430964126288451, 0.8215900900900901, 0.8959825257690123, 0.9160617320022725, 0.8348953250547846, 0.8200665692719747, 0.7827876795714632, 0.77307641425209, 0.795480934989043, 0.882063233503774, 0.9011870546221898, 0.8981826637448258, 0.8820094229364499, 0.9065107052998945, 0.8894298271244216, 0.8905753997240483, 0.9138754808862918, 0.8706349809268729, 0.8958162162162162, 0.9152980034088143, 0.8472293726158593, 0.8978171252333415, 0.8829082866650434, 0.8900741173606038, 0.9072133593052512, 0.9063773638503367, 0.9035622676730786, 0.8408390715039364, 0.9093518139761383, 0.907424997970944, 0.9079577225874523, 0.9110754727700674, 0.6987879798717637, 0.8724886291697103, 0.9172856018180342, 0.9141887022157292]}, {\"categories\": [\"0\", \"1\", \"2\", \"3\", \"4\", \"5\", \"6\", \"7\", \"8\", \"9\", \"10\", \"11\", \"12\", \"13\", \"14\", \"15\", \"16\", \"17\", \"18\", \"19\", \"20\", \"21\", \"22\", \"23\", \"24\", \"25\", \"26\", \"27\", \"28\", \"29\", \"30\", \"31\", \"32\", \"33\", \"34\", \"35\", \"36\", \"37\", \"38\", \"39\", \"40\", \"41\", \"43\", \"44\"], \"mode\": \"lines\", \"name\": \"AUC_micro_max\", \"stepped\": true, \"type\": \"scatter\", \"data\": [0.8958171252333414, 0.8958392013635257, 0.8958392013635257, 0.8958392013635257, 0.8958392013635257, 0.9039262722181641, 0.9039262722181641, 0.9039262722181641, 0.9039262722181641, 0.9039262722181641, 0.9039262722181641, 0.9160617320022725, 0.9160617320022725, 0.9160617320022725, 0.9160617320022725, 0.9160617320022725, 0.9160617320022725, 0.9160617320022725, 0.9160617320022725, 0.9160617320022725, 0.9160617320022725, 0.9160617320022725, 0.9160617320022725, 0.9160617320022725, 0.9160617320022725, 0.9160617320022725, 0.9160617320022725, 0.9160617320022725, 0.9160617320022725, 0.9160617320022725, 0.9160617320022725, 0.9160617320022725, 0.9160617320022725, 0.9160617320022725, 0.9160617320022725, 0.9160617320022725, 0.9160617320022725, 0.9160617320022725, 0.9160617320022725, 0.9160617320022725, 0.9160617320022725, 0.9160617320022725, 0.9172856018180342, 0.9172856018180342]}], \"norm_macro_recall\": [{\"categories\": [\"0\", \"1\", \"2\", \"3\", \"4\", \"5\", \"6\", \"7\", \"8\", \"9\", \"10\", \"11\", \"12\", \"13\", \"14\", \"15\", \"16\", \"17\", \"18\", \"19\", \"20\", \"21\", \"22\", \"23\", \"24\", \"25\", \"26\", \"27\", \"28\", \"29\", \"30\", \"31\", \"32\", \"33\", \"34\", \"35\", \"36\", \"37\", \"38\", \"39\", \"40\", \"41\", \"43\", \"44\"], \"mode\": \"markers\", \"name\": \"norm_macro_recall\", \"stepped\": false, \"type\": \"scatter\", \"data\": [0.5678391562925462, 0.616107529084224, 0.6482324251392049, 0.43123654829163305, 0.07408192090395482, 0.6155138450689299, 0.5906011028362723, 0.48293508124016604, 0.09923819510683918, 0.35755481571159536, 0.5616492558759508, 0.6682480576548374, 0.5338566506469049, 0.09870580808080809, 0.27378419994945413, 0.20800728226575682, 0.30562785848802804, 0.5593871014421863, 0.6070542491093338, 0.5243777565811465, 0.5437019763820612, 0.5875752072785971, 0.5683757724541623, 0.4626112568379518, 0.589756269311354, 0.609581106667971, 0.602596001377781, 0.6253066887600786, 0.11851851851851847, 0.5864839119606069, 0.5179549225100073, 0.5538270365071213, 0.6939921052738849, 0.6009936175720074, 0.6339993202810998, 0.584734298187688, 0.6140167055950954, 0.6068407796691694, 0.6401095040395888, 0.629249364101059, 0.0, 0.386882215007215, 0.6688357036873986, 0.6389566060116907]}, {\"categories\": [\"0\", \"1\", \"2\", \"3\", \"4\", \"5\", \"6\", \"7\", \"8\", \"9\", \"10\", \"11\", \"12\", \"13\", \"14\", \"15\", \"16\", \"17\", \"18\", \"19\", \"20\", \"21\", \"22\", \"23\", \"24\", \"25\", \"26\", \"27\", \"28\", \"29\", \"30\", \"31\", \"32\", \"33\", \"34\", \"35\", \"36\", \"37\", \"38\", \"39\", \"40\", \"41\", \"43\", \"44\"], \"mode\": \"lines\", \"name\": \"norm_macro_recall_max\", \"stepped\": true, \"type\": \"scatter\", \"data\": [0.5678391562925462, 0.616107529084224, 0.6482324251392049, 0.6482324251392049, 0.6482324251392049, 0.6482324251392049, 0.6482324251392049, 0.6482324251392049, 0.6482324251392049, 0.6482324251392049, 0.6482324251392049, 0.6682480576548374, 0.6682480576548374, 0.6682480576548374, 0.6682480576548374, 0.6682480576548374, 0.6682480576548374, 0.6682480576548374, 0.6682480576548374, 0.6682480576548374, 0.6682480576548374, 0.6682480576548374, 0.6682480576548374, 0.6682480576548374, 0.6682480576548374, 0.6682480576548374, 0.6682480576548374, 0.6682480576548374, 0.6682480576548374, 0.6682480576548374, 0.6682480576548374, 0.6682480576548374, 0.6939921052738849, 0.6939921052738849, 0.6939921052738849, 0.6939921052738849, 0.6939921052738849, 0.6939921052738849, 0.6939921052738849, 0.6939921052738849, 0.6939921052738849, 0.6939921052738849, 0.6939921052738849, 0.6939921052738849]}], \"average_precision_score_micro\": [{\"categories\": [\"0\", \"1\", \"2\", \"3\", \"4\", \"5\", \"6\", \"7\", \"8\", \"9\", \"10\", \"11\", \"12\", \"13\", \"14\", \"15\", \"16\", \"17\", \"18\", \"19\", \"20\", \"21\", \"22\", \"23\", \"24\", \"25\", \"26\", \"27\", \"28\", \"29\", \"30\", \"31\", \"32\", \"33\", \"34\", \"35\", \"36\", \"37\", \"38\", \"39\", \"40\", \"41\", \"43\", \"44\"], \"mode\": \"markers\", \"name\": \"average_precision_score_micro\", \"stepped\": false, \"type\": \"scatter\", \"data\": [0.8974096328891283, 0.8896937258741247, 0.8864757868543167, 0.8619860355346931, 0.6137072056074747, 0.9006385311464764, 0.8677769972697678, 0.8880237230014907, 0.634084140231456, 0.8195270077443508, 0.8985515013532834, 0.9160799077290886, 0.8373962083484958, 0.826597609087022, 0.7662062562770181, 0.7564353038893687, 0.7803695205277341, 0.8808183315004514, 0.9027321877195329, 0.9029471104038196, 0.8828308861123597, 0.902175294710983, 0.8934965537419048, 0.8935051405412897, 0.9161490846492466, 0.8738803626840981, 0.8974580237605821, 0.9174667397537963, 0.8612593822485144, 0.8955834055101012, 0.8836025167287638, 0.8887955111822496, 0.9038728875079174, 0.9066438173148209, 0.9033932248183059, 0.8090211859390847, 0.9092431555937254, 0.9101880536904579, 0.9043191732247272, 0.9120587904869042, 0.669053166607376, 0.8742847933045432, 0.9177193890522644, 0.9142685483917408]}, {\"categories\": [\"0\", \"1\", \"2\", \"3\", \"4\", \"5\", \"6\", \"7\", \"8\", \"9\", \"10\", \"11\", \"12\", \"13\", \"14\", \"15\", \"16\", \"17\", \"18\", \"19\", \"20\", \"21\", \"22\", \"23\", \"24\", \"25\", \"26\", \"27\", \"28\", \"29\", \"30\", \"31\", \"32\", \"33\", \"34\", \"35\", \"36\", \"37\", \"38\", \"39\", \"40\", \"41\", \"43\", \"44\"], \"mode\": \"lines\", \"name\": \"average_precision_score_micro_max\", \"stepped\": true, \"type\": \"scatter\", \"data\": [0.8974096328891283, 0.8974096328891283, 0.8974096328891283, 0.8974096328891283, 0.8974096328891283, 0.9006385311464764, 0.9006385311464764, 0.9006385311464764, 0.9006385311464764, 0.9006385311464764, 0.9006385311464764, 0.9160799077290886, 0.9160799077290886, 0.9160799077290886, 0.9160799077290886, 0.9160799077290886, 0.9160799077290886, 0.9160799077290886, 0.9160799077290886, 0.9160799077290886, 0.9160799077290886, 0.9160799077290886, 0.9160799077290886, 0.9160799077290886, 0.9161490846492466, 0.9161490846492466, 0.9161490846492466, 0.9174667397537963, 0.9174667397537963, 0.9174667397537963, 0.9174667397537963, 0.9174667397537963, 0.9174667397537963, 0.9174667397537963, 0.9174667397537963, 0.9174667397537963, 0.9174667397537963, 0.9174667397537963, 0.9174667397537963, 0.9174667397537963, 0.9174667397537963, 0.9174667397537963, 0.9177193890522644, 0.9177193890522644]}], \"matthews_correlation\": [{\"categories\": [\"0\", \"1\", \"2\", \"3\", \"4\", \"5\", \"6\", \"7\", \"8\", \"9\", \"10\", \"11\", \"12\", \"13\", \"14\", \"15\", \"16\", \"17\", \"18\", \"19\", \"20\", \"21\", \"22\", \"23\", \"24\", \"25\", \"26\", \"27\", \"28\", \"29\", \"30\", \"31\", \"32\", \"33\", \"34\", \"35\", \"36\", \"37\", \"38\", \"39\", \"40\", \"41\", \"43\", \"44\"], \"mode\": \"markers\", \"name\": \"matthews_correlation\", \"stepped\": false, \"type\": \"scatter\", \"data\": [0.5868804309547295, 0.6364227904469946, 0.6388626438444446, 0.4776175600413508, 0.04076603133027405, 0.6352830521927758, 0.566658801375632, 0.550296049607306, 0.09138341656589756, 0.3771884333806267, 0.5841733530515748, 0.6513157922435242, 0.5021158556676437, 0.25925740637639716, 0.29559434305450066, 0.2757934732656802, 0.3636854863204681, 0.5866262583349211, 0.6220934735142093, 0.5596527812584002, 0.5657467173561752, 0.621640132622636, 0.5827922434725843, 0.5318114952558132, 0.6066636762848637, 0.5760379694772036, 0.619755708892775, 0.645665665775705, 0.25356275731746686, 0.6076937376983724, 0.5423259755987865, 0.5801244008493041, 0.673795493319719, 0.6096010108629739, 0.6172421877032457, 0.6243767601946791, 0.6361153552579695, 0.624540401641376, 0.6341062861865315, 0.6580124947066434, 0.0, 0.48007308882413036, 0.6909300768208544, 0.6550118143947843]}, {\"categories\": [\"0\", \"1\", \"2\", \"3\", \"4\", \"5\", \"6\", \"7\", \"8\", \"9\", \"10\", \"11\", \"12\", \"13\", \"14\", \"15\", \"16\", \"17\", \"18\", \"19\", \"20\", \"21\", \"22\", \"23\", \"24\", \"25\", \"26\", \"27\", \"28\", \"29\", \"30\", \"31\", \"32\", \"33\", \"34\", \"35\", \"36\", \"37\", \"38\", \"39\", \"40\", \"41\", \"43\", \"44\"], \"mode\": \"lines\", \"name\": \"matthews_correlation_max\", \"stepped\": true, \"type\": \"scatter\", \"data\": [0.5868804309547295, 0.6364227904469946, 0.6388626438444446, 0.6388626438444446, 0.6388626438444446, 0.6388626438444446, 0.6388626438444446, 0.6388626438444446, 0.6388626438444446, 0.6388626438444446, 0.6388626438444446, 0.6513157922435242, 0.6513157922435242, 0.6513157922435242, 0.6513157922435242, 0.6513157922435242, 0.6513157922435242, 0.6513157922435242, 0.6513157922435242, 0.6513157922435242, 0.6513157922435242, 0.6513157922435242, 0.6513157922435242, 0.6513157922435242, 0.6513157922435242, 0.6513157922435242, 0.6513157922435242, 0.6513157922435242, 0.6513157922435242, 0.6513157922435242, 0.6513157922435242, 0.6513157922435242, 0.673795493319719, 0.673795493319719, 0.673795493319719, 0.673795493319719, 0.673795493319719, 0.673795493319719, 0.673795493319719, 0.673795493319719, 0.673795493319719, 0.673795493319719, 0.6909300768208544, 0.6909300768208544]}], \"recall_score_macro\": [{\"categories\": [\"0\", \"1\", \"2\", \"3\", \"4\", \"5\", \"6\", \"7\", \"8\", \"9\", \"10\", \"11\", \"12\", \"13\", \"14\", \"15\", \"16\", \"17\", \"18\", \"19\", \"20\", \"21\", \"22\", \"23\", \"24\", \"25\", \"26\", \"27\", \"28\", \"29\", \"30\", \"31\", \"32\", \"33\", \"34\", \"35\", \"36\", \"37\", \"38\", \"39\", \"40\", \"41\", \"43\", \"44\"], \"mode\": \"markers\", \"name\": \"recall_score_macro\", \"stepped\": false, \"type\": \"scatter\", \"data\": [0.7839195781462731, 0.808053764542112, 0.8241162125696023, 0.7156182741458166, 0.5263011215871386, 0.8077569225344648, 0.7953005514181362, 0.7414675406200829, 0.5447579864423084, 0.6787774078557978, 0.7808246279379755, 0.8341240288274188, 0.7669283253234525, 0.549352904040404, 0.6368920999747271, 0.6040036411328784, 0.652813929244014, 0.7796935507210931, 0.8035271245546669, 0.7621888782905732, 0.7718509881910306, 0.7937876036392986, 0.7841878862270811, 0.7313056284189758, 0.794878134655677, 0.8047905533339856, 0.8012980006888906, 0.8126533443800392, 0.5592592592592592, 0.7932419559803034, 0.7589774612550035, 0.7769135182535606, 0.8469960526369424, 0.8004968087860038, 0.8169996601405499, 0.792367149093844, 0.8070083527975477, 0.8034203898345846, 0.8200547520197944, 0.8146246820505295, 0.5, 0.6934411075036075, 0.8344178518436993, 0.8194783030058453]}, {\"categories\": [\"0\", \"1\", \"2\", \"3\", \"4\", \"5\", \"6\", \"7\", \"8\", \"9\", \"10\", \"11\", \"12\", \"13\", \"14\", \"15\", \"16\", \"17\", \"18\", \"19\", \"20\", \"21\", \"22\", \"23\", \"24\", \"25\", \"26\", \"27\", \"28\", \"29\", \"30\", \"31\", \"32\", \"33\", \"34\", \"35\", \"36\", \"37\", \"38\", \"39\", \"40\", \"41\", \"43\", \"44\"], \"mode\": \"lines\", \"name\": \"recall_score_macro_max\", \"stepped\": true, \"type\": \"scatter\", \"data\": [0.7839195781462731, 0.808053764542112, 0.8241162125696023, 0.8241162125696023, 0.8241162125696023, 0.8241162125696023, 0.8241162125696023, 0.8241162125696023, 0.8241162125696023, 0.8241162125696023, 0.8241162125696023, 0.8341240288274188, 0.8341240288274188, 0.8341240288274188, 0.8341240288274188, 0.8341240288274188, 0.8341240288274188, 0.8341240288274188, 0.8341240288274188, 0.8341240288274188, 0.8341240288274188, 0.8341240288274188, 0.8341240288274188, 0.8341240288274188, 0.8341240288274188, 0.8341240288274188, 0.8341240288274188, 0.8341240288274188, 0.8341240288274188, 0.8341240288274188, 0.8341240288274188, 0.8341240288274188, 0.8469960526369424, 0.8469960526369424, 0.8469960526369424, 0.8469960526369424, 0.8469960526369424, 0.8469960526369424, 0.8469960526369424, 0.8469960526369424, 0.8469960526369424, 0.8469960526369424, 0.8469960526369424, 0.8469960526369424]}], \"precision_score_micro\": [{\"categories\": [\"0\", \"1\", \"2\", \"3\", \"4\", \"5\", \"6\", \"7\", \"8\", \"9\", \"10\", \"11\", \"12\", \"13\", \"14\", \"15\", \"16\", \"17\", \"18\", \"19\", \"20\", \"21\", \"22\", \"23\", \"24\", \"25\", \"26\", \"27\", \"28\", \"29\", \"30\", \"31\", \"32\", \"33\", \"34\", \"35\", \"36\", \"37\", \"38\", \"39\", \"40\", \"41\", \"43\", \"44\"], \"mode\": \"markers\", \"name\": \"precision_score_micro\", \"stepped\": false, \"type\": \"scatter\", \"data\": [0.8226126126126126, 0.8393693693693695, 0.8424774774774775, 0.7826126126126126, 0.5952702702702702, 0.8426576576576577, 0.8024324324324325, 0.8126576576576576, 0.6118018018018019, 0.7388738738738739, 0.8257207207207207, 0.8457657657657658, 0.7522072072072072, 0.7125225225225225, 0.719009009009009, 0.7257207207207207, 0.7425225225225225, 0.8192342342342342, 0.8424774774774775, 0.809099099099099, 0.8124774774774774, 0.8392792792792793, 0.8159009009009008, 0.7993243243243244, 0.8325225225225226, 0.8025225225225225, 0.835945945945946, 0.8459909909909911, 0.7092342342342342, 0.8326126126126127, 0.7991891891891891, 0.8227027027027027, 0.8525225225225226, 0.8292342342342343, 0.8256306306306306, 0.8426126126126127, 0.8425675675675676, 0.8323423423423423, 0.8358558558558558, 0.8526576576576577, 0.6790990990990992, 0.7792792792792792, 0.8660810810810811, 0.8493693693693695]}, {\"categories\": [\"0\", \"1\", \"2\", \"3\", \"4\", \"5\", \"6\", \"7\", \"8\", \"9\", \"10\", \"11\", \"12\", \"13\", \"14\", \"15\", \"16\", \"17\", \"18\", \"19\", \"20\", \"21\", \"22\", \"23\", \"24\", \"25\", \"26\", \"27\", \"28\", \"29\", \"30\", \"31\", \"32\", \"33\", \"34\", \"35\", \"36\", \"37\", \"38\", \"39\", \"40\", \"41\", \"43\", \"44\"], \"mode\": \"lines\", \"name\": \"precision_score_micro_max\", \"stepped\": true, \"type\": \"scatter\", \"data\": [0.8226126126126126, 0.8393693693693695, 0.8424774774774775, 0.8424774774774775, 0.8424774774774775, 0.8426576576576577, 0.8426576576576577, 0.8426576576576577, 0.8426576576576577, 0.8426576576576577, 0.8426576576576577, 0.8457657657657658, 0.8457657657657658, 0.8457657657657658, 0.8457657657657658, 0.8457657657657658, 0.8457657657657658, 0.8457657657657658, 0.8457657657657658, 0.8457657657657658, 0.8457657657657658, 0.8457657657657658, 0.8457657657657658, 0.8457657657657658, 0.8457657657657658, 0.8457657657657658, 0.8457657657657658, 0.8459909909909911, 0.8459909909909911, 0.8459909909909911, 0.8459909909909911, 0.8459909909909911, 0.8525225225225226, 0.8525225225225226, 0.8525225225225226, 0.8525225225225226, 0.8525225225225226, 0.8525225225225226, 0.8525225225225226, 0.8526576576576577, 0.8526576576576577, 0.8526576576576577, 0.8660810810810811, 0.8660810810810811]}], \"recall_score_micro\": [{\"categories\": [\"0\", \"1\", \"2\", \"3\", \"4\", \"5\", \"6\", \"7\", \"8\", \"9\", \"10\", \"11\", \"12\", \"13\", \"14\", \"15\", \"16\", \"17\", \"18\", \"19\", \"20\", \"21\", \"22\", \"23\", \"24\", \"25\", \"26\", \"27\", \"28\", \"29\", \"30\", \"31\", \"32\", \"33\", \"34\", \"35\", \"36\", \"37\", \"38\", \"39\", \"40\", \"41\", \"43\", \"44\"], \"mode\": \"markers\", \"name\": \"recall_score_micro\", \"stepped\": false, \"type\": \"scatter\", \"data\": [0.8226126126126126, 0.8393693693693695, 0.8424774774774775, 0.7826126126126126, 0.5952702702702702, 0.8426576576576577, 0.8024324324324325, 0.8126576576576576, 0.6118018018018019, 0.7388738738738739, 0.8257207207207207, 0.8457657657657658, 0.7522072072072072, 0.7125225225225225, 0.719009009009009, 0.7257207207207207, 0.7425225225225225, 0.8192342342342342, 0.8424774774774775, 0.809099099099099, 0.8124774774774774, 0.8392792792792793, 0.8159009009009008, 0.7993243243243244, 0.8325225225225226, 0.8025225225225225, 0.835945945945946, 0.8459909909909911, 0.7092342342342342, 0.8326126126126127, 0.7991891891891891, 0.8227027027027027, 0.8525225225225226, 0.8292342342342343, 0.8256306306306306, 0.8426126126126127, 0.8425675675675676, 0.8323423423423423, 0.8358558558558558, 0.8526576576576577, 0.6790990990990992, 0.7792792792792792, 0.8660810810810811, 0.8493693693693695]}, {\"categories\": [\"0\", \"1\", \"2\", \"3\", \"4\", \"5\", \"6\", \"7\", \"8\", \"9\", \"10\", \"11\", \"12\", \"13\", \"14\", \"15\", \"16\", \"17\", \"18\", \"19\", \"20\", \"21\", \"22\", \"23\", \"24\", \"25\", \"26\", \"27\", \"28\", \"29\", \"30\", \"31\", \"32\", \"33\", \"34\", \"35\", \"36\", \"37\", \"38\", \"39\", \"40\", \"41\", \"43\", \"44\"], \"mode\": \"lines\", \"name\": \"recall_score_micro_max\", \"stepped\": true, \"type\": \"scatter\", \"data\": [0.8226126126126126, 0.8393693693693695, 0.8424774774774775, 0.8424774774774775, 0.8424774774774775, 0.8426576576576577, 0.8426576576576577, 0.8426576576576577, 0.8426576576576577, 0.8426576576576577, 0.8426576576576577, 0.8457657657657658, 0.8457657657657658, 0.8457657657657658, 0.8457657657657658, 0.8457657657657658, 0.8457657657657658, 0.8457657657657658, 0.8457657657657658, 0.8457657657657658, 0.8457657657657658, 0.8457657657657658, 0.8457657657657658, 0.8457657657657658, 0.8457657657657658, 0.8457657657657658, 0.8457657657657658, 0.8459909909909911, 0.8459909909909911, 0.8459909909909911, 0.8459909909909911, 0.8459909909909911, 0.8525225225225226, 0.8525225225225226, 0.8525225225225226, 0.8525225225225226, 0.8525225225225226, 0.8525225225225226, 0.8525225225225226, 0.8526576576576577, 0.8526576576576577, 0.8526576576576577, 0.8660810810810811, 0.8660810810810811]}], \"weighted_accuracy\": [{\"categories\": [\"0\", \"1\", \"2\", \"3\", \"4\", \"5\", \"6\", \"7\", \"8\", \"9\", \"10\", \"11\", \"12\", \"13\", \"14\", \"15\", \"16\", \"17\", \"18\", \"19\", \"20\", \"21\", \"22\", \"23\", \"24\", \"25\", \"26\", \"27\", \"28\", \"29\", \"30\", \"31\", \"32\", \"33\", \"34\", \"35\", \"36\", \"37\", \"38\", \"39\", \"40\", \"41\", \"43\", \"44\"], \"mode\": \"markers\", \"name\": \"weighted_accuracy\", \"stepped\": false, \"type\": \"scatter\", \"data\": [0.8494790895059211, 0.8615152732826137, 0.8548522137074073, 0.826690559918333, 0.6446261349808547, 0.8674393373322289, 0.8061427141562728, 0.860741279044263, 0.6594790419013428, 0.7801228783637855, 0.8552739186769179, 0.8532124566869894, 0.7396698106788113, 0.8195316478869628, 0.7747898128822667, 0.8052198472618787, 0.8037117268201679, 0.8470498794571432, 0.869079069416983, 0.8402004975328128, 0.8399402114019253, 0.8705390950215603, 0.8372123624877799, 0.844861293645262, 0.8578795125920267, 0.8004196272425163, 0.861152110370629, 0.868247206876798, 0.8104583294760089, 0.8594856339847633, 0.8284991400879873, 0.852583406603596, 0.855951995984999, 0.8493549517731778, 0.8312590817901764, 0.8763168894022704, 0.8678666658874821, 0.8522846261544555, 0.8471192855840832, 0.8776492454672611, 0.7972022593522936, 0.8352480622087639, 0.8874664688325193, 0.8705065237251266]}, {\"categories\": [\"0\", \"1\", \"2\", \"3\", \"4\", \"5\", \"6\", \"7\", \"8\", \"9\", \"10\", \"11\", \"12\", \"13\", \"14\", \"15\", \"16\", \"17\", \"18\", \"19\", \"20\", \"21\", \"22\", \"23\", \"24\", \"25\", \"26\", \"27\", \"28\", \"29\", \"30\", \"31\", \"32\", \"33\", \"34\", \"35\", \"36\", \"37\", \"38\", \"39\", \"40\", \"41\", \"43\", \"44\"], \"mode\": \"lines\", \"name\": \"weighted_accuracy_max\", \"stepped\": true, \"type\": \"scatter\", \"data\": [0.8494790895059211, 0.8615152732826137, 0.8615152732826137, 0.8615152732826137, 0.8615152732826137, 0.8674393373322289, 0.8674393373322289, 0.8674393373322289, 0.8674393373322289, 0.8674393373322289, 0.8674393373322289, 0.8674393373322289, 0.8674393373322289, 0.8674393373322289, 0.8674393373322289, 0.8674393373322289, 0.8674393373322289, 0.8674393373322289, 0.869079069416983, 0.869079069416983, 0.869079069416983, 0.8705390950215603, 0.8705390950215603, 0.8705390950215603, 0.8705390950215603, 0.8705390950215603, 0.8705390950215603, 0.8705390950215603, 0.8705390950215603, 0.8705390950215603, 0.8705390950215603, 0.8705390950215603, 0.8705390950215603, 0.8705390950215603, 0.8705390950215603, 0.8763168894022704, 0.8763168894022704, 0.8763168894022704, 0.8763168894022704, 0.8776492454672611, 0.8776492454672611, 0.8776492454672611, 0.8874664688325193, 0.8874664688325193]}], \"balanced_accuracy\": [{\"categories\": [\"0\", \"1\", \"2\", \"3\", \"4\", \"5\", \"6\", \"7\", \"8\", \"9\", \"10\", \"11\", \"12\", \"13\", \"14\", \"15\", \"16\", \"17\", \"18\", \"19\", \"20\", \"21\", \"22\", \"23\", \"24\", \"25\", \"26\", \"27\", \"28\", \"29\", \"30\", \"31\", \"32\", \"33\", \"34\", \"35\", \"36\", \"37\", \"38\", \"39\", \"40\", \"41\", \"43\", \"44\"], \"mode\": \"markers\", \"name\": \"balanced_accuracy\", \"stepped\": false, \"type\": \"scatter\", \"data\": [0.7839195781462731, 0.808053764542112, 0.8241162125696023, 0.7156182741458166, 0.5263011215871386, 0.8077569225344648, 0.7953005514181362, 0.7414675406200829, 0.5447579864423084, 0.6787774078557978, 0.7808246279379755, 0.8341240288274188, 0.7669283253234525, 0.549352904040404, 0.6368920999747271, 0.6040036411328784, 0.652813929244014, 0.7796935507210931, 0.8035271245546669, 0.7621888782905732, 0.7718509881910306, 0.7937876036392986, 0.7841878862270811, 0.7313056284189758, 0.794878134655677, 0.8047905533339856, 0.8012980006888906, 0.8126533443800392, 0.5592592592592592, 0.7932419559803034, 0.7589774612550035, 0.7769135182535606, 0.8469960526369424, 0.8004968087860038, 0.8169996601405499, 0.792367149093844, 0.8070083527975477, 0.8034203898345846, 0.8200547520197944, 0.8146246820505295, 0.5, 0.6934411075036075, 0.8344178518436993, 0.8194783030058453]}, {\"categories\": [\"0\", \"1\", \"2\", \"3\", \"4\", \"5\", \"6\", \"7\", \"8\", \"9\", \"10\", \"11\", \"12\", \"13\", \"14\", \"15\", \"16\", \"17\", \"18\", \"19\", \"20\", \"21\", \"22\", \"23\", \"24\", \"25\", \"26\", \"27\", \"28\", \"29\", \"30\", \"31\", \"32\", \"33\", \"34\", \"35\", \"36\", \"37\", \"38\", \"39\", \"40\", \"41\", \"43\", \"44\"], \"mode\": \"lines\", \"name\": \"balanced_accuracy_max\", \"stepped\": true, \"type\": \"scatter\", \"data\": [0.7839195781462731, 0.808053764542112, 0.8241162125696023, 0.8241162125696023, 0.8241162125696023, 0.8241162125696023, 0.8241162125696023, 0.8241162125696023, 0.8241162125696023, 0.8241162125696023, 0.8241162125696023, 0.8341240288274188, 0.8341240288274188, 0.8341240288274188, 0.8341240288274188, 0.8341240288274188, 0.8341240288274188, 0.8341240288274188, 0.8341240288274188, 0.8341240288274188, 0.8341240288274188, 0.8341240288274188, 0.8341240288274188, 0.8341240288274188, 0.8341240288274188, 0.8341240288274188, 0.8341240288274188, 0.8341240288274188, 0.8341240288274188, 0.8341240288274188, 0.8341240288274188, 0.8341240288274188, 0.8469960526369424, 0.8469960526369424, 0.8469960526369424, 0.8469960526369424, 0.8469960526369424, 0.8469960526369424, 0.8469960526369424, 0.8469960526369424, 0.8469960526369424, 0.8469960526369424, 0.8469960526369424, 0.8469960526369424]}], \"f1_score_macro\": [{\"categories\": [\"0\", \"1\", \"2\", \"3\", \"4\", \"5\", \"6\", \"7\", \"8\", \"9\", \"10\", \"11\", \"12\", \"13\", \"14\", \"15\", \"16\", \"17\", \"18\", \"19\", \"20\", \"21\", \"22\", \"23\", \"24\", \"25\", \"26\", \"27\", \"28\", \"29\", \"30\", \"31\", \"32\", \"33\", \"34\", \"35\", \"36\", \"37\", \"38\", \"39\", \"40\", \"41\", \"43\", \"44\"], \"mode\": \"markers\", \"name\": \"f1_score_macro\", \"stepped\": false, \"type\": \"scatter\", \"data\": [0.7878498583923428, 0.8122206358303934, 0.816390921433316, 0.7223693752777298, 0.5065091950084263, 0.8090983904697884, 0.7779379835130895, 0.7552153054187462, 0.5253627509180099, 0.6741677116961289, 0.7881132671296084, 0.8231544183953261, 0.732135176271728, 0.5004256488714967, 0.633474038793862, 0.5978550037250723, 0.6555093708839905, 0.7795121842521181, 0.8038538961512879, 0.7678351897688984, 0.7736209810221275, 0.8015230360886365, 0.783328510092338, 0.7422149187010365, 0.7962432891910851, 0.7812750489176054, 0.8010113877642739, 0.8145839957255914, 0.5102287568866553, 0.8004101224362967, 0.7591342143269203, 0.7838544895005501, 0.8325961427924127, 0.8008211749545711, 0.8037253339127924, 0.8033357454698147, 0.8107311035226556, 0.803765521562652, 0.8123200438733724, 0.821102102252129, 0.4028479422190175, 0.7042269342108842, 0.8400690048298156, 0.8180788595649278]}, {\"categories\": [\"0\", \"1\", \"2\", \"3\", \"4\", \"5\", \"6\", \"7\", \"8\", \"9\", \"10\", \"11\", \"12\", \"13\", \"14\", \"15\", \"16\", \"17\", \"18\", \"19\", \"20\", \"21\", \"22\", \"23\", \"24\", \"25\", \"26\", \"27\", \"28\", \"29\", \"30\", \"31\", \"32\", \"33\", \"34\", \"35\", \"36\", \"37\", \"38\", \"39\", \"40\", \"41\", \"43\", \"44\"], \"mode\": \"lines\", \"name\": \"f1_score_macro_max\", \"stepped\": true, \"type\": \"scatter\", \"data\": [0.7878498583923428, 0.8122206358303934, 0.816390921433316, 0.816390921433316, 0.816390921433316, 0.816390921433316, 0.816390921433316, 0.816390921433316, 0.816390921433316, 0.816390921433316, 0.816390921433316, 0.8231544183953261, 0.8231544183953261, 0.8231544183953261, 0.8231544183953261, 0.8231544183953261, 0.8231544183953261, 0.8231544183953261, 0.8231544183953261, 0.8231544183953261, 0.8231544183953261, 0.8231544183953261, 0.8231544183953261, 0.8231544183953261, 0.8231544183953261, 0.8231544183953261, 0.8231544183953261, 0.8231544183953261, 0.8231544183953261, 0.8231544183953261, 0.8231544183953261, 0.8231544183953261, 0.8325961427924127, 0.8325961427924127, 0.8325961427924127, 0.8325961427924127, 0.8325961427924127, 0.8325961427924127, 0.8325961427924127, 0.8325961427924127, 0.8325961427924127, 0.8325961427924127, 0.8400690048298156, 0.8400690048298156]}], \"precision_score_weighted\": [{\"categories\": [\"0\", \"1\", \"2\", \"3\", \"4\", \"5\", \"6\", \"7\", \"8\", \"9\", \"10\", \"11\", \"12\", \"13\", \"14\", \"15\", \"16\", \"17\", \"18\", \"19\", \"20\", \"21\", \"22\", \"23\", \"24\", \"25\", \"26\", \"27\", \"28\", \"29\", \"30\", \"31\", \"32\", \"33\", \"34\", \"35\", \"36\", \"37\", \"38\", \"39\", \"40\", \"41\", \"43\", \"44\"], \"mode\": \"markers\", \"name\": \"precision_score_weighted\", \"stepped\": false, \"type\": \"scatter\", \"data\": [0.8245604957592596, 0.8454658866087438, 0.8503853846568883, 0.7867023523824836, 0.5871559871458388, 0.8494024965729583, 0.8200871789160016, 0.8245083196984243, 0.615373618900863, 0.741177262881903, 0.8256492755090049, 0.855747938728202, 0.8002592795951876, 0.8040105951021443, 0.7119612093296304, 0.7220774534363845, 0.7461041227825997, 0.8331317223046546, 0.8453277974684261, 0.8226709578885657, 0.8221919605178223, 0.8446113732767677, 0.8249148568344198, 0.8145719611138743, 0.8385224818629075, 0.823452288727651, 0.8439993122268664, 0.8540956432965032, 0.6966850378837259, 0.8315439651799258, 0.81081032486712, 0.8256373631783469, 0.8661319650360868, 0.8341576740223172, 0.8418360590992993, 0.847223628419084, 0.8491092370867912, 0.8470857955857956, 0.8461094831684686, 0.8587320051741737, 0.46863748072396716, 0.8012534923376176, 0.8693604820880251, 0.8581758105126925]}, {\"categories\": [\"0\", \"1\", \"2\", \"3\", \"4\", \"5\", \"6\", \"7\", \"8\", \"9\", \"10\", \"11\", \"12\", \"13\", \"14\", \"15\", \"16\", \"17\", \"18\", \"19\", \"20\", \"21\", \"22\", \"23\", \"24\", \"25\", \"26\", \"27\", \"28\", \"29\", \"30\", \"31\", \"32\", \"33\", \"34\", \"35\", \"36\", \"37\", \"38\", \"39\", \"40\", \"41\", \"43\", \"44\"], \"mode\": \"lines\", \"name\": \"precision_score_weighted_max\", \"stepped\": true, \"type\": \"scatter\", \"data\": [0.8245604957592596, 0.8454658866087438, 0.8503853846568883, 0.8503853846568883, 0.8503853846568883, 0.8503853846568883, 0.8503853846568883, 0.8503853846568883, 0.8503853846568883, 0.8503853846568883, 0.8503853846568883, 0.855747938728202, 0.855747938728202, 0.855747938728202, 0.855747938728202, 0.855747938728202, 0.855747938728202, 0.855747938728202, 0.855747938728202, 0.855747938728202, 0.855747938728202, 0.855747938728202, 0.855747938728202, 0.855747938728202, 0.855747938728202, 0.855747938728202, 0.855747938728202, 0.855747938728202, 0.855747938728202, 0.855747938728202, 0.855747938728202, 0.855747938728202, 0.8661319650360868, 0.8661319650360868, 0.8661319650360868, 0.8661319650360868, 0.8661319650360868, 0.8661319650360868, 0.8661319650360868, 0.8661319650360868, 0.8661319650360868, 0.8661319650360868, 0.8693604820880251, 0.8693604820880251]}], \"AUC_macro\": [{\"categories\": [\"0\", \"1\", \"2\", \"3\", \"4\", \"5\", \"6\", \"7\", \"8\", \"9\", \"10\", \"11\", \"12\", \"13\", \"14\", \"15\", \"16\", \"17\", \"18\", \"19\", \"20\", \"21\", \"22\", \"23\", \"24\", \"25\", \"26\", \"27\", \"28\", \"29\", \"30\", \"31\", \"32\", \"33\", \"34\", \"35\", \"36\", \"37\", \"38\", \"39\", \"40\", \"41\", \"43\", \"44\"], \"mode\": \"markers\", \"name\": \"AUC_macro\", \"stepped\": false, \"type\": \"scatter\", \"data\": [0.8850014980311591, 0.8827219175206464, 0.8762164794297562, 0.8417193652627973, 0.5247566506129359, 0.8969605678115566, 0.8624833721938242, 0.9005852809436848, 0.5297699723900289, 0.7926628701257938, 0.8779925295462019, 0.9096917520646333, 0.8593906766752812, 0.8269088432753687, 0.7279660634798347, 0.6986562388751656, 0.7371203034515182, 0.8600156206264964, 0.8891312234532573, 0.8989699082566315, 0.8617743975265162, 0.8965572118820706, 0.8787005700670953, 0.8988899028623605, 0.9058615224752231, 0.8603556584135681, 0.8955497052513295, 0.9075460262430601, 0.8912969145313778, 0.8837499711263836, 0.8816318281007547, 0.8732335333765417, 0.9026599649304452, 0.8971400003532772, 0.8994922149936273, 0.8208550649758277, 0.9000950876127429, 0.9017361620645519, 0.8996279804365963, 0.9006330880095004, 0.5499604686221917, 0.8748851594367131, 0.90811342677515, 0.9099965640396432]}, {\"categories\": [\"0\", \"1\", \"2\", \"3\", \"4\", \"5\", \"6\", \"7\", \"8\", \"9\", \"10\", \"11\", \"12\", \"13\", \"14\", \"15\", \"16\", \"17\", \"18\", \"19\", \"20\", \"21\", \"22\", \"23\", \"24\", \"25\", \"26\", \"27\", \"28\", \"29\", \"30\", \"31\", \"32\", \"33\", \"34\", \"35\", \"36\", \"37\", \"38\", \"39\", \"40\", \"41\", \"43\", \"44\"], \"mode\": \"lines\", \"name\": \"AUC_macro_max\", \"stepped\": true, \"type\": \"scatter\", \"data\": [0.8850014980311591, 0.8850014980311591, 0.8850014980311591, 0.8850014980311591, 0.8850014980311591, 0.8969605678115566, 0.8969605678115566, 0.9005852809436848, 0.9005852809436848, 0.9005852809436848, 0.9005852809436848, 0.9096917520646333, 0.9096917520646333, 0.9096917520646333, 0.9096917520646333, 0.9096917520646333, 0.9096917520646333, 0.9096917520646333, 0.9096917520646333, 0.9096917520646333, 0.9096917520646333, 0.9096917520646333, 0.9096917520646333, 0.9096917520646333, 0.9096917520646333, 0.9096917520646333, 0.9096917520646333, 0.9096917520646333, 0.9096917520646333, 0.9096917520646333, 0.9096917520646333, 0.9096917520646333, 0.9096917520646333, 0.9096917520646333, 0.9096917520646333, 0.9096917520646333, 0.9096917520646333, 0.9096917520646333, 0.9096917520646333, 0.9096917520646333, 0.9096917520646333, 0.9096917520646333, 0.9096917520646333, 0.9099965640396432]}], \"average_precision_score_weighted\": [{\"categories\": [\"0\", \"1\", \"2\", \"3\", \"4\", \"5\", \"6\", \"7\", \"8\", \"9\", \"10\", \"11\", \"12\", \"13\", \"14\", \"15\", \"16\", \"17\", \"18\", \"19\", \"20\", \"21\", \"22\", \"23\", \"24\", \"25\", \"26\", \"27\", \"28\", \"29\", \"30\", \"31\", \"32\", \"33\", \"34\", \"35\", \"36\", \"37\", \"38\", \"39\", \"40\", \"41\", \"43\", \"44\"], \"mode\": \"markers\", \"name\": \"average_precision_score_weighted\", \"stepped\": false, \"type\": \"scatter\", \"data\": [0.8964927591714007, 0.8938736473388994, 0.8884446537276565, 0.8588789729248733, 0.6156540636947317, 0.9050271948893249, 0.8787605512145298, 0.9097403357757338, 0.6241100746121429, 0.8158783505099492, 0.891433791604957, 0.9208762287767505, 0.8794671942478428, 0.8485842190676, 0.7467393823368723, 0.7334485662959239, 0.7723118195696068, 0.8770216868246052, 0.9000086739549367, 0.9151800686790105, 0.879432200139477, 0.8948997031264604, 0.8860975853363284, 0.9074637487547434, 0.9160436844925219, 0.8706506787444858, 0.9078789940677995, 0.9158999290489072, 0.9039720156863317, 0.8938805979602998, 0.8895764541842441, 0.8853920477894184, 0.9083575623202724, 0.9067713337584759, 0.908104104378813, 0.8103520970476084, 0.9074821500360861, 0.9090443522044223, 0.9068547580549988, 0.910760268824469, 0.6115510120717562, 0.886274422582907, 0.9150367324102368, 0.9164343216415559]}, {\"categories\": [\"0\", \"1\", \"2\", \"3\", \"4\", \"5\", \"6\", \"7\", \"8\", \"9\", \"10\", \"11\", \"12\", \"13\", \"14\", \"15\", \"16\", \"17\", \"18\", \"19\", \"20\", \"21\", \"22\", \"23\", \"24\", \"25\", \"26\", \"27\", \"28\", \"29\", \"30\", \"31\", \"32\", \"33\", \"34\", \"35\", \"36\", \"37\", \"38\", \"39\", \"40\", \"41\", \"43\", \"44\"], \"mode\": \"lines\", \"name\": \"average_precision_score_weighted_max\", \"stepped\": true, \"type\": \"scatter\", \"data\": [0.8964927591714007, 0.8964927591714007, 0.8964927591714007, 0.8964927591714007, 0.8964927591714007, 0.9050271948893249, 0.9050271948893249, 0.9097403357757338, 0.9097403357757338, 0.9097403357757338, 0.9097403357757338, 0.9208762287767505, 0.9208762287767505, 0.9208762287767505, 0.9208762287767505, 0.9208762287767505, 0.9208762287767505, 0.9208762287767505, 0.9208762287767505, 0.9208762287767505, 0.9208762287767505, 0.9208762287767505, 0.9208762287767505, 0.9208762287767505, 0.9208762287767505, 0.9208762287767505, 0.9208762287767505, 0.9208762287767505, 0.9208762287767505, 0.9208762287767505, 0.9208762287767505, 0.9208762287767505, 0.9208762287767505, 0.9208762287767505, 0.9208762287767505, 0.9208762287767505, 0.9208762287767505, 0.9208762287767505, 0.9208762287767505, 0.9208762287767505, 0.9208762287767505, 0.9208762287767505, 0.9208762287767505, 0.9208762287767505]}], \"average_precision_score_macro\": [{\"categories\": [\"0\", \"1\", \"2\", \"3\", \"4\", \"5\", \"6\", \"7\", \"8\", \"9\", \"10\", \"11\", \"13\", \"14\", \"15\", \"16\", \"17\", \"18\", \"19\", \"20\", \"21\", \"22\", \"23\", \"24\", \"25\", \"26\", \"27\", \"28\", \"29\", \"30\", \"31\", \"32\", \"33\", \"34\", \"35\", \"36\", \"37\", \"38\", \"39\", \"40\", \"41\", \"43\", \"44\"], \"mode\": \"markers\", \"name\": \"average_precision_score_macro\", \"stepped\": false, \"type\": \"scatter\", \"data\": [0.8685411850573863, 0.8665173576631764, 0.8520066768187379, 0.8233483997852513, 0.5610611761374397, 0.8799103293573651, 0.8384226850573844, 0.885268457352949, 0.5716526031081401, 0.7694151287835067, 0.859002786033568, 0.8979107342107013, 0.8086716092064359, 0.6864311266539604, 0.6727444758787311, 0.7288557212321529, 0.8389082214874426, 0.8669823124775612, 0.8902922974641121, 0.8412216303029294, 0.8612073025206677, 0.8515975548095701, 0.8804993028833695, 0.8902484070549855, 0.828873195399156, 0.882408606513207, 0.8897787470499484, 0.8759069601115356, 0.8682023343636293, 0.8601743717976456, 0.8557353549293839, 0.8806148625498325, 0.8847927529415881, 0.880815257483762, 0.7763343219116533, 0.8825483092632016, 0.8793902051950884, 0.883274175145824, 0.8874869406670671, 0.5375021888834507, 0.8572326126318045, 0.8905650646224539, 0.8914050222270224]}, {\"categories\": [\"0\", \"1\", \"2\", \"3\", \"4\", \"5\", \"6\", \"7\", \"8\", \"9\", \"10\", \"11\", \"13\", \"14\", \"15\", \"16\", \"17\", \"18\", \"19\", \"20\", \"21\", \"22\", \"23\", \"24\", \"25\", \"26\", \"27\", \"28\", \"29\", \"30\", \"31\", \"32\", \"33\", \"34\", \"35\", \"36\", \"37\", \"38\", \"39\", \"40\", \"41\", \"43\", \"44\"], \"mode\": \"lines\", \"name\": \"average_precision_score_macro_max\", \"stepped\": true, \"type\": \"scatter\", \"data\": [0.8685411850573863, 0.8685411850573863, 0.8685411850573863, 0.8685411850573863, 0.8685411850573863, 0.8799103293573651, 0.8799103293573651, 0.885268457352949, 0.885268457352949, 0.885268457352949, 0.885268457352949, 0.8979107342107013, 0.8979107342107013, 0.8979107342107013, 0.8979107342107013, 0.8979107342107013, 0.8979107342107013, 0.8979107342107013, 0.8979107342107013, 0.8979107342107013, 0.8979107342107013, 0.8979107342107013, 0.8979107342107013, 0.8979107342107013, 0.8979107342107013, 0.8979107342107013, 0.8979107342107013, 0.8979107342107013, 0.8979107342107013, 0.8979107342107013, 0.8979107342107013, 0.8979107342107013, 0.8979107342107013, 0.8979107342107013, 0.8979107342107013, 0.8979107342107013, 0.8979107342107013, 0.8979107342107013, 0.8979107342107013, 0.8979107342107013, 0.8979107342107013, 0.8979107342107013, 0.8979107342107013]}], \"f1_score_weighted\": [{\"categories\": [\"0\", \"1\", \"2\", \"3\", \"4\", \"5\", \"6\", \"7\", \"8\", \"9\", \"10\", \"11\", \"12\", \"13\", \"14\", \"15\", \"16\", \"17\", \"18\", \"19\", \"20\", \"21\", \"22\", \"23\", \"24\", \"25\", \"26\", \"27\", \"28\", \"29\", \"30\", \"31\", \"32\", \"33\", \"34\", \"35\", \"36\", \"37\", \"38\", \"39\", \"40\", \"41\", \"43\", \"44\"], \"mode\": \"markers\", \"name\": \"f1_score_weighted\", \"stepped\": false, \"type\": \"scatter\", \"data\": [0.8181888956625799, 0.8364435371064741, 0.8436171162381255, 0.7686491354591958, 0.5788618192250332, 0.8375497564989829, 0.806664794390922, 0.7995128926135047, 0.5944246480608617, 0.7255517399641795, 0.8219419158065053, 0.8486656571127695, 0.759221518232892, 0.6232709742423981, 0.702464461970935, 0.686750846174414, 0.7193482799385437, 0.8119868169507576, 0.8369906719808909, 0.803991712967836, 0.8080093639095861, 0.8328237217705908, 0.812363103306341, 0.7836039185191719, 0.8284374614407273, 0.8074105084374854, 0.8312116765538351, 0.8417762646177956, 0.6149628598185228, 0.8288823005647279, 0.7929653395269377, 0.8181192417471429, 0.8556805737052402, 0.8277412285699344, 0.8295165333792726, 0.8363890925660425, 0.838514463694058, 0.8314718137257389, 0.8365976090314277, 0.8479947793256684, 0.5525023137601632, 0.7565181196293904, 0.8624781590389003, 0.8443095477646562]}, {\"categories\": [\"0\", \"1\", \"2\", \"3\", \"4\", \"5\", \"6\", \"7\", \"8\", \"9\", \"10\", \"11\", \"12\", \"13\", \"14\", \"15\", \"16\", \"17\", \"18\", \"19\", \"20\", \"21\", \"22\", \"23\", \"24\", \"25\", \"26\", \"27\", \"28\", \"29\", \"30\", \"31\", \"32\", \"33\", \"34\", \"35\", \"36\", \"37\", \"38\", \"39\", \"40\", \"41\", \"43\", \"44\"], \"mode\": \"lines\", \"name\": \"f1_score_weighted_max\", \"stepped\": true, \"type\": \"scatter\", \"data\": [0.8181888956625799, 0.8364435371064741, 0.8436171162381255, 0.8436171162381255, 0.8436171162381255, 0.8436171162381255, 0.8436171162381255, 0.8436171162381255, 0.8436171162381255, 0.8436171162381255, 0.8436171162381255, 0.8486656571127695, 0.8486656571127695, 0.8486656571127695, 0.8486656571127695, 0.8486656571127695, 0.8486656571127695, 0.8486656571127695, 0.8486656571127695, 0.8486656571127695, 0.8486656571127695, 0.8486656571127695, 0.8486656571127695, 0.8486656571127695, 0.8486656571127695, 0.8486656571127695, 0.8486656571127695, 0.8486656571127695, 0.8486656571127695, 0.8486656571127695, 0.8486656571127695, 0.8486656571127695, 0.8556805737052402, 0.8556805737052402, 0.8556805737052402, 0.8556805737052402, 0.8556805737052402, 0.8556805737052402, 0.8556805737052402, 0.8556805737052402, 0.8556805737052402, 0.8556805737052402, 0.8624781590389003, 0.8624781590389003]}], \"precision_score_macro\": [{\"categories\": [\"0\", \"1\", \"2\", \"3\", \"4\", \"5\", \"6\", \"7\", \"8\", \"9\", \"10\", \"11\", \"12\", \"13\", \"14\", \"15\", \"16\", \"17\", \"18\", \"19\", \"20\", \"21\", \"22\", \"23\", \"24\", \"25\", \"26\", \"27\", \"28\", \"29\", \"30\", \"31\", \"32\", \"33\", \"34\", \"35\", \"36\", \"37\", \"38\", \"39\", \"40\", \"41\", \"43\", \"44\"], \"mode\": \"markers\", \"name\": \"precision_score_macro\", \"stepped\": false, \"type\": \"scatter\", \"data\": [0.8037762948861226, 0.8291721175649747, 0.8151791911389915, 0.7657581770462574, 0.5140364050902693, 0.8289182907562018, 0.7721700476017461, 0.8140947607654301, 0.547719335246982, 0.7009567849167391, 0.8039920850422424, 0.8176626461988303, 0.7367496966861572, 0.8506891574673265, 0.6610588972431077, 0.6835921870150926, 0.7180119593227736, 0.8098591927405885, 0.8197257339225419, 0.8000630980123717, 0.7954022674178016, 0.8294535463913333, 0.7997384873346889, 0.8080030494048023, 0.8127789481349479, 0.7725436952339126, 0.8199327976804758, 0.8342728050704654, 0.7261354427937488, 0.8150112664429167, 0.7854337632215744, 0.80416191276847, 0.8275122791649545, 0.8095074368645152, 0.8008844488298688, 0.8336358604620734, 0.8301297960186427, 0.8223513986013986, 0.8146577190755528, 0.8447745912818518, 0.3395495495495496, 0.8032738083017654, 0.8572912457371433, 0.8371015652145195]}, {\"categories\": [\"0\", \"1\", \"2\", \"3\", \"4\", \"5\", \"6\", \"7\", \"8\", \"9\", \"10\", \"11\", \"12\", \"13\", \"14\", \"15\", \"16\", \"17\", \"18\", \"19\", \"20\", \"21\", \"22\", \"23\", \"24\", \"25\", \"26\", \"27\", \"28\", \"29\", \"30\", \"31\", \"32\", \"33\", \"34\", \"35\", \"36\", \"37\", \"38\", \"39\", \"40\", \"41\", \"43\", \"44\"], \"mode\": \"lines\", \"name\": \"precision_score_macro_max\", \"stepped\": true, \"type\": \"scatter\", \"data\": [0.8037762948861226, 0.8291721175649747, 0.8291721175649747, 0.8291721175649747, 0.8291721175649747, 0.8291721175649747, 0.8291721175649747, 0.8291721175649747, 0.8291721175649747, 0.8291721175649747, 0.8291721175649747, 0.8291721175649747, 0.8291721175649747, 0.8506891574673265, 0.8506891574673265, 0.8506891574673265, 0.8506891574673265, 0.8506891574673265, 0.8506891574673265, 0.8506891574673265, 0.8506891574673265, 0.8506891574673265, 0.8506891574673265, 0.8506891574673265, 0.8506891574673265, 0.8506891574673265, 0.8506891574673265, 0.8506891574673265, 0.8506891574673265, 0.8506891574673265, 0.8506891574673265, 0.8506891574673265, 0.8506891574673265, 0.8506891574673265, 0.8506891574673265, 0.8506891574673265, 0.8506891574673265, 0.8506891574673265, 0.8506891574673265, 0.8506891574673265, 0.8506891574673265, 0.8506891574673265, 0.8572912457371433, 0.8572912457371433]}], \"AUC_weighted\": [{\"categories\": [\"0\", \"1\", \"2\", \"3\", \"4\", \"5\", \"6\", \"7\", \"8\", \"9\", \"10\", \"11\", \"12\", \"13\", \"14\", \"15\", \"16\", \"17\", \"18\", \"19\", \"20\", \"21\", \"22\", \"23\", \"24\", \"25\", \"26\", \"27\", \"28\", \"29\", \"30\", \"31\", \"32\", \"33\", \"34\", \"35\", \"36\", \"37\", \"38\", \"39\", \"40\", \"41\", \"43\", \"44\"], \"mode\": \"markers\", \"name\": \"AUC_weighted\", \"stepped\": false, \"type\": \"scatter\", \"data\": [0.8850014980311591, 0.8827219175206464, 0.8762164794297563, 0.8417193652627974, 0.524756650612936, 0.8969605678115564, 0.8624833721938241, 0.900585280943685, 0.5297699723900289, 0.7926628701257937, 0.8779925295462019, 0.9096917520646335, 0.8593906766752812, 0.8269088432753687, 0.7279660634798346, 0.6986562388751654, 0.7371203034515182, 0.8600156206264964, 0.8891312234532572, 0.8989699082566315, 0.8617743975265162, 0.8965572118820706, 0.8787005700670956, 0.8988899028623605, 0.905861522475223, 0.860355658413568, 0.8955497052513296, 0.9075460262430601, 0.8912969145313778, 0.8837499711263836, 0.8816318281007547, 0.8732335333765417, 0.9026599649304453, 0.8971400003532772, 0.8994922149936273, 0.8208550649758277, 0.900095087612743, 0.9017361620645519, 0.8996279804365963, 0.9006330880095004, 0.5499604686221917, 0.8748851594367131, 0.90811342677515, 0.9099965640396432]}, {\"categories\": [\"0\", \"1\", \"2\", \"3\", \"4\", \"5\", \"6\", \"7\", \"8\", \"9\", \"10\", \"11\", \"12\", \"13\", \"14\", \"15\", \"16\", \"17\", \"18\", \"19\", \"20\", \"21\", \"22\", \"23\", \"24\", \"25\", \"26\", \"27\", \"28\", \"29\", \"30\", \"31\", \"32\", \"33\", \"34\", \"35\", \"36\", \"37\", \"38\", \"39\", \"40\", \"41\", \"43\", \"44\"], \"mode\": \"lines\", \"name\": \"AUC_weighted_max\", \"stepped\": true, \"type\": \"scatter\", \"data\": [0.8850014980311591, 0.8850014980311591, 0.8850014980311591, 0.8850014980311591, 0.8850014980311591, 0.8969605678115564, 0.8969605678115564, 0.900585280943685, 0.900585280943685, 0.900585280943685, 0.900585280943685, 0.9096917520646335, 0.9096917520646335, 0.9096917520646335, 0.9096917520646335, 0.9096917520646335, 0.9096917520646335, 0.9096917520646335, 0.9096917520646335, 0.9096917520646335, 0.9096917520646335, 0.9096917520646335, 0.9096917520646335, 0.9096917520646335, 0.9096917520646335, 0.9096917520646335, 0.9096917520646335, 0.9096917520646335, 0.9096917520646335, 0.9096917520646335, 0.9096917520646335, 0.9096917520646335, 0.9096917520646335, 0.9096917520646335, 0.9096917520646335, 0.9096917520646335, 0.9096917520646335, 0.9096917520646335, 0.9096917520646335, 0.9096917520646335, 0.9096917520646335, 0.9096917520646335, 0.9096917520646335, 0.9099965640396432]}]}, \"metricName\": null, \"primaryMetricName\": \"accuracy\", \"showLegend\": false}, \"run_metrics\": [{\"name\": \"experiment_status\", \"run_id\": \"AutoML_bbbb0754-d3e4-47bd-8a5a-831ba68fb866\", \"categories\": [0, 1, 2, 3, 4, 5, 6, 7, 8, 9, 10, 11, 12, 13], \"series\": [{\"data\": [\"DatasetEvaluation\", \"FeaturesGeneration\", \"DatasetFeaturization\", \"DatasetFeaturizationCompleted\", \"DatasetCrossValidationSplit\", \"ModelSelection\", \"BestRunExplainModel\", \"ModelExplanationDataSetSetup\", \"PickSurrogateModel\", \"EngineeredFeatureExplanations\", \"EngineeredFeatureExplanations\", \"RawFeaturesExplanations\", \"RawFeaturesExplanations\", \"BestRunExplainModel\"]}]}, {\"name\": \"experiment_status_description\", \"run_id\": \"AutoML_bbbb0754-d3e4-47bd-8a5a-831ba68fb866\", \"categories\": [0, 1, 2, 3, 4, 5, 6, 7, 8, 9, 10, 11, 12, 13], \"series\": [{\"data\": [\"Gathering dataset statistics.\", \"Generating features for the dataset.\", \"Beginning to fit featurizers and featurize the dataset.\", \"Completed fit featurizers and featurizing the dataset.\", \"Generating individually featurized CV splits.\", \"Beginning model selection.\", \"Best run model explanations started\", \"Model explanations data setup completed\", \"Choosing LightGBM as the surrogate model for explanations\", \"Computation of engineered features started\", \"Computation of engineered features completed\", \"Computation of raw features started\", \"Computation of raw features completed\", \"Best run model explanations completed\"]}]}, {\"name\": \"balanced_accuracy\", \"run_id\": \"AutoML_bbbb0754-d3e4-47bd-8a5a-831ba68fb866\", \"categories\": [0], \"series\": [{\"data\": [0.8344178518436993]}]}, {\"name\": \"AUC_micro\", \"run_id\": \"AutoML_bbbb0754-d3e4-47bd-8a5a-831ba68fb866\", \"categories\": [0], \"series\": [{\"data\": [0.9172856018180342]}]}, {\"name\": \"f1_score_micro\", \"run_id\": \"AutoML_bbbb0754-d3e4-47bd-8a5a-831ba68fb866\", \"categories\": [0], \"series\": [{\"data\": [0.8660810810810811]}]}, {\"name\": \"recall_score_weighted\", \"run_id\": \"AutoML_bbbb0754-d3e4-47bd-8a5a-831ba68fb866\", \"categories\": [0], \"series\": [{\"data\": [0.8660810810810811]}]}, {\"name\": \"weighted_accuracy\", \"run_id\": \"AutoML_bbbb0754-d3e4-47bd-8a5a-831ba68fb866\", \"categories\": [0], \"series\": [{\"data\": [0.8874664688325193]}]}, {\"name\": \"precision_score_macro\", \"run_id\": \"AutoML_bbbb0754-d3e4-47bd-8a5a-831ba68fb866\", \"categories\": [0], \"series\": [{\"data\": [0.8572912457371433]}]}, {\"name\": \"matthews_correlation\", \"run_id\": \"AutoML_bbbb0754-d3e4-47bd-8a5a-831ba68fb866\", \"categories\": [0], \"series\": [{\"data\": [0.6909300768208544]}]}, {\"name\": \"norm_macro_recall\", \"run_id\": \"AutoML_bbbb0754-d3e4-47bd-8a5a-831ba68fb866\", \"categories\": [0], \"series\": [{\"data\": [0.6688357036873986]}]}, {\"name\": \"precision_score_micro\", \"run_id\": \"AutoML_bbbb0754-d3e4-47bd-8a5a-831ba68fb866\", \"categories\": [0], \"series\": [{\"data\": [0.8660810810810811]}]}, {\"name\": \"recall_score_micro\", \"run_id\": \"AutoML_bbbb0754-d3e4-47bd-8a5a-831ba68fb866\", \"categories\": [0], \"series\": [{\"data\": [0.8660810810810811]}]}, {\"name\": \"precision_score_weighted\", \"run_id\": \"AutoML_bbbb0754-d3e4-47bd-8a5a-831ba68fb866\", \"categories\": [0], \"series\": [{\"data\": [0.8693604820880251]}]}, {\"name\": \"average_precision_score_macro\", \"run_id\": \"AutoML_bbbb0754-d3e4-47bd-8a5a-831ba68fb866\", \"categories\": [0], \"series\": [{\"data\": [0.8905650646224539]}]}, {\"name\": \"accuracy\", \"run_id\": \"AutoML_bbbb0754-d3e4-47bd-8a5a-831ba68fb866\", \"categories\": [0], \"series\": [{\"data\": [0.8660810810810811]}]}, {\"name\": \"AUC_macro\", \"run_id\": \"AutoML_bbbb0754-d3e4-47bd-8a5a-831ba68fb866\", \"categories\": [0], \"series\": [{\"data\": [0.90811342677515]}]}, {\"name\": \"recall_score_macro\", \"run_id\": \"AutoML_bbbb0754-d3e4-47bd-8a5a-831ba68fb866\", \"categories\": [0], \"series\": [{\"data\": [0.8344178518436993]}]}, {\"name\": \"average_precision_score_micro\", \"run_id\": \"AutoML_bbbb0754-d3e4-47bd-8a5a-831ba68fb866\", \"categories\": [0], \"series\": [{\"data\": [0.9177193890522644]}]}, {\"name\": \"log_loss\", \"run_id\": \"AutoML_bbbb0754-d3e4-47bd-8a5a-831ba68fb866\", \"categories\": [0], \"series\": [{\"data\": [0.40422708583455386]}]}, {\"name\": \"f1_score_macro\", \"run_id\": \"AutoML_bbbb0754-d3e4-47bd-8a5a-831ba68fb866\", \"categories\": [0], \"series\": [{\"data\": [0.8400690048298156]}]}, {\"name\": \"average_precision_score_weighted\", \"run_id\": \"AutoML_bbbb0754-d3e4-47bd-8a5a-831ba68fb866\", \"categories\": [0], \"series\": [{\"data\": [0.9150367324102368]}]}, {\"name\": \"AUC_weighted\", \"run_id\": \"AutoML_bbbb0754-d3e4-47bd-8a5a-831ba68fb866\", \"categories\": [0], \"series\": [{\"data\": [0.90811342677515]}]}, {\"name\": \"f1_score_weighted\", \"run_id\": \"AutoML_bbbb0754-d3e4-47bd-8a5a-831ba68fb866\", \"categories\": [0], \"series\": [{\"data\": [0.8624781590389003]}]}], \"run_logs\": \"\\nRun is completed.\", \"graph\": {}, \"widget_settings\": {\"childWidgetDisplay\": \"popup\", \"send_telemetry\": false, \"log_level\": \"INFO\", \"sdk_version\": \"1.32.0\"}, \"loading\": false}"
          },
          "metadata": {}
        },
        {
          "output_type": "display_data",
          "data": {
            "text/plain": "<IPython.core.display.HTML object>",
            "text/html": "<table style=\"width:100%\"><tr><th>Experiment</th><th>Id</th><th>Type</th><th>Status</th><th>Details Page</th><th>Docs Page</th></tr><tr><td>automl-experiment</td><td>AutoML_bbbb0754-d3e4-47bd-8a5a-831ba68fb866</td><td>automl</td><td>NotStarted</td><td><a href=\"https://ml.azure.com/runs/AutoML_bbbb0754-d3e4-47bd-8a5a-831ba68fb866?wsid=/subscriptions/aa7cf8e8-d23f-4bce-a7b9-1f0b4e0ac8ee/resourcegroups/aml-quickstarts-154916/workspaces/quick-starts-ws-154916&amp;tid=660b3398-b80e-49d2-bc5b-ac1dc93b5254\" target=\"_blank\" rel=\"noopener\">Link to Azure Machine Learning studio</a></td><td><a href=\"https://docs.microsoft.com/en-us/python/api/overview/azure/ml/intro?view=azure-ml-py\" target=\"_blank\" rel=\"noopener\">Link to Documentation</a></td></tr></table>"
          },
          "metadata": {}
        },
        {
          "output_type": "stream",
          "name": "stdout",
          "text": [
            "\n",
            "Current status: FeaturesGeneration. Generating features for the dataset.\n",
            "Current status: DatasetCrossValidationSplit. Beginning model selection.\n",
            "Current status: ModelSelection. Beginning model selection.\n",
            "\n",
            "****************************************************************************************************\n",
            "DATA GUARDRAILS: \n",
            "\n",
            "TYPE:         Class balancing detection\n",
            "STATUS:       PASSED\n",
            "DESCRIPTION:  Your inputs were analyzed, and all classes are balanced in your training data.\n",
            "              Learn more about imbalanced data: https://aka.ms/AutomatedMLImbalancedData\n",
            "\n",
            "****************************************************************************************************\n",
            "\n",
            "TYPE:         Missing feature values imputation\n",
            "STATUS:       PASSED\n",
            "DESCRIPTION:  No feature missing values were detected in the training data.\n",
            "              Learn more about missing value imputation: https://aka.ms/AutomatedMLFeaturization\n",
            "\n",
            "****************************************************************************************************\n",
            "\n",
            "TYPE:         High cardinality feature detection\n",
            "STATUS:       PASSED\n",
            "DESCRIPTION:  Your inputs were analyzed, and no high cardinality features were detected.\n",
            "              Learn more about high cardinality feature handling: https://aka.ms/AutomatedMLFeaturization\n",
            "\n",
            "****************************************************************************************************\n",
            "\n",
            "****************************************************************************************************\n",
            "ITERATION: The iteration being evaluated.\n",
            "PIPELINE: A summary description of the pipeline being evaluated.\n",
            "DURATION: Time taken for the current iteration.\n",
            "METRIC: The result of computing score on the fitted pipeline.\n",
            "BEST: The best observed score thus far.\n",
            "****************************************************************************************************\n",
            "\n",
            " ITERATION   PIPELINE                                       DURATION      METRIC      BEST\n",
            "         3   SparseNormalizer XGBoostClassifier             0:00:45       0.7826    0.7826\n",
            "         1   MaxAbsScaler XGBoostClassifier                 0:00:50       0.8394    0.8394\n",
            "         2   MaxAbsScaler ExtremeRandomTrees                0:01:12       0.8425    0.8425\n",
            "         0   MaxAbsScaler LightGBM                          0:01:17       0.8226    0.8425\n",
            "         6   RobustScaler LogisticRegression                0:01:28       0.8024    0.8425\n",
            "         7   MaxAbsScaler LightGBM                          0:01:34       0.8127    0.8425\n",
            "         8   StandardScalerWrapper KNN                      0:01:39       0.6118    0.8425\n",
            "         9   StandardScalerWrapper SVM                      0:01:05       0.7389    0.8425\n",
            "        10   StandardScalerWrapper XGBoostClassifier        0:01:12       0.8257    0.8425\n",
            "        12                                                  0:01:03          nan    0.8425\n",
            "ERROR: {\n",
            "    \"additional_properties\": {},\n",
            "    \"error\": {\n",
            "        \"additional_properties\": {\n",
            "            \"debugInfo\": null\n",
            "        },\n",
            "        \"code\": \"SystemError\",\n",
            "        \"severity\": null,\n",
            "        \"message\": \"Failed to submit script run to remote compute.\",\n",
            "        \"message_format\": \"Failed to submit script run to remote compute.\",\n",
            "        \"message_parameters\": {},\n",
            "        \"reference_code\": null,\n",
            "        \"details_uri\": null,\n",
            "        \"target\": null,\n",
            "        \"details\": [],\n",
            "        \"inner_error\": {\n",
            "            \"additional_properties\": {},\n",
            "            \"code\": \"InternalError\",\n",
            "            \"inner_error\": {\n",
            "                \"additional_properties\": {},\n",
            "                \"code\": \"ChildRunSubmitFailed\",\n",
            "                \"inner_error\": null\n",
            "            }\n",
            "        },\n",
            "        \"additional_info\": null\n",
            "    },\n",
            "    \"correlation\": null,\n",
            "    \"environment\": null,\n",
            "    \"location\": null,\n",
            "    \"time\": {},\n",
            "    \"component_name\": null\n",
            "}\n",
            "         4   StandardScalerWrapper KNN                      0:05:52       0.5953    0.8425\n",
            "         5   MaxAbsScaler LightGBM                          0:06:08       0.8427    0.8427\n",
            "        11   MinMaxScaler RandomForest                      0:01:20       0.8458    0.8458\n",
            "        14   RobustScaler KNN                               0:00:44       0.7190    0.8458\n",
            "        15   MinMaxScaler KNN                               0:00:46       0.7257    0.8458\n",
            "        17   MaxAbsScaler LogisticRegression                0:00:41       0.8192    0.8458\n",
            "        18   StandardScalerWrapper XGBoostClassifier        0:00:42       0.8425    0.8458\n",
            "        16   SparseNormalizer KNN                           0:01:22       0.7425    0.8458\n",
            "        19   StandardScalerWrapper XGBoostClassifier        0:00:44       0.8091    0.8458\n",
            "        21   StandardScalerWrapper XGBoostClassifier        0:01:02       0.8393    0.8458\n",
            "        20   MaxAbsScaler LogisticRegression                0:01:21       0.8125    0.8458\n",
            "        22   SparseNormalizer RandomForest                  0:00:44       0.8159    0.8458\n",
            "        13   StandardScalerWrapper KNN                      0:05:38       0.7125    0.8458\n",
            "        23   StandardScalerWrapper RandomForest             0:01:21       0.7993    0.8458\n",
            "        24   StandardScalerWrapper XGBoostClassifier        0:01:30       0.8325    0.8458\n",
            "        25   TruncatedSVDWrapper RandomForest               0:00:44       0.8025    0.8458\n",
            "        26   StandardScalerWrapper LightGBM                 0:00:40       0.8359    0.8458\n",
            "        27   StandardScalerWrapper RandomForest             0:01:05       0.8460    0.8460\n",
            "        28   StandardScalerWrapper RandomForest             0:00:42       0.7092    0.8460\n",
            "        29   MinMaxScaler LightGBM                          0:00:55       0.8326    0.8460\n",
            "        30   StandardScalerWrapper XGBoostClassifier        0:01:10       0.7992    0.8460\n",
            "        31   SparseNormalizer XGBoostClassifier             0:00:55       0.8227    0.8460\n",
            "        32   MaxAbsScaler RandomForest                      0:00:43       0.8525    0.8525\n",
            "        33   MinMaxScaler LightGBM                          0:00:44       0.8292    0.8525\n",
            "        34   StandardScalerWrapper RandomForest             0:00:41       0.8256    0.8525\n",
            "        35   StandardScalerWrapper RandomForest             0:00:41       0.8426    0.8525\n",
            "        36   MinMaxScaler LightGBM                          0:00:45       0.8426    0.8525\n",
            "        37   MinMaxScaler RandomForest                      0:00:45       0.8323    0.8525\n",
            "        38   StandardScalerWrapper RandomForest             0:00:37       0.8359    0.8525\n",
            "ERROR: {\n",
            "    \"additional_properties\": {},\n",
            "    \"error\": {\n",
            "        \"additional_properties\": {\n",
            "            \"debugInfo\": null\n",
            "        },\n",
            "        \"code\": \"UserError\",\n",
            "        \"severity\": null,\n",
            "        \"message\": \"Experiment timeout reached, please consider increasing your experiment timeout.\",\n",
            "        \"message_format\": \"Experiment timeout reached, please consider increasing your experiment timeout.\",\n",
            "        \"message_parameters\": {},\n",
            "        \"reference_code\": null,\n",
            "        \"details_uri\": null,\n",
            "        \"target\": null,\n",
            "        \"details\": [],\n",
            "        \"inner_error\": {\n",
            "            \"additional_properties\": {},\n",
            "            \"code\": \"ResourceExhausted\",\n",
            "            \"inner_error\": {\n",
            "                \"additional_properties\": {},\n",
            "                \"code\": \"Timeout\",\n",
            "                \"inner_error\": {\n",
            "                    \"additional_properties\": {},\n",
            "                    \"code\": \"ExperimentTimeoutForIterations\",\n",
            "                    \"inner_error\": null\n",
            "                }\n",
            "            }\n",
            "        },\n",
            "        \"additional_info\": null\n",
            "    },\n",
            "    \"correlation\": null,\n",
            "    \"environment\": null,\n",
            "    \"location\": null,\n",
            "    \"time\": {},\n",
            "    \"component_name\": null\n",
            "}\n",
            "        39   MaxAbsScaler LightGBM                          0:00:27       0.8527    0.8527\n",
            "ERROR: {\n",
            "    \"additional_properties\": {},\n",
            "    \"error\": {\n",
            "        \"additional_properties\": {\n",
            "            \"debugInfo\": null\n",
            "        },\n",
            "        \"code\": \"UserError\",\n",
            "        \"severity\": null,\n",
            "        \"message\": \"Experiment timeout reached, please consider increasing your experiment timeout.\",\n",
            "        \"message_format\": \"Experiment timeout reached, please consider increasing your experiment timeout.\",\n",
            "        \"message_parameters\": {},\n",
            "        \"reference_code\": null,\n",
            "        \"details_uri\": null,\n",
            "        \"target\": null,\n",
            "        \"details\": [],\n",
            "        \"inner_error\": {\n",
            "            \"additional_properties\": {},\n",
            "            \"code\": \"ResourceExhausted\",\n",
            "            \"inner_error\": {\n",
            "                \"additional_properties\": {},\n",
            "                \"code\": \"Timeout\",\n",
            "                \"inner_error\": {\n",
            "                    \"additional_properties\": {},\n",
            "                    \"code\": \"ExperimentTimeoutForIterations\",\n",
            "                    \"inner_error\": null\n",
            "                }\n",
            "            }\n",
            "        },\n",
            "        \"additional_info\": null\n",
            "    },\n",
            "    \"correlation\": null,\n",
            "    \"environment\": null,\n",
            "    \"location\": null,\n",
            "    \"time\": {},\n",
            "    \"component_name\": null\n",
            "}\n",
            "        40   PCA RandomForest                               0:00:23       0.6791    0.8527\n",
            "ERROR: {\n",
            "    \"additional_properties\": {},\n",
            "    \"error\": {\n",
            "        \"additional_properties\": {\n",
            "            \"debugInfo\": null\n",
            "        },\n",
            "        \"code\": \"UserError\",\n",
            "        \"severity\": null,\n",
            "        \"message\": \"Experiment timeout reached, please consider increasing your experiment timeout.\",\n",
            "        \"message_format\": \"Experiment timeout reached, please consider increasing your experiment timeout.\",\n",
            "        \"message_parameters\": {},\n",
            "        \"reference_code\": null,\n",
            "        \"details_uri\": null,\n",
            "        \"target\": null,\n",
            "        \"details\": [],\n",
            "        \"inner_error\": {\n",
            "            \"additional_properties\": {},\n",
            "            \"code\": \"ResourceExhausted\",\n",
            "            \"inner_error\": {\n",
            "                \"additional_properties\": {},\n",
            "                \"code\": \"Timeout\",\n",
            "                \"inner_error\": {\n",
            "                    \"additional_properties\": {},\n",
            "                    \"code\": \"ExperimentTimeoutForIterations\",\n",
            "                    \"inner_error\": null\n",
            "                }\n",
            "            }\n",
            "        },\n",
            "        \"additional_info\": null\n",
            "    },\n",
            "    \"correlation\": null,\n",
            "    \"environment\": null,\n",
            "    \"location\": null,\n",
            "    \"time\": {},\n",
            "    \"component_name\": null\n",
            "}\n",
            "        41   StandardScalerWrapper LightGBM                 0:00:24       0.7793    0.8527\n",
            "ERROR: {\n",
            "    \"additional_properties\": {},\n",
            "    \"error\": {\n",
            "        \"additional_properties\": {\n",
            "            \"debugInfo\": null\n",
            "        },\n",
            "        \"code\": \"UserError\",\n",
            "        \"severity\": null,\n",
            "        \"message\": \"Experiment timeout reached, please consider increasing your experiment timeout.\",\n",
            "        \"message_format\": \"Experiment timeout reached, please consider increasing your experiment timeout.\",\n",
            "        \"message_parameters\": {},\n",
            "        \"reference_code\": null,\n",
            "        \"details_uri\": null,\n",
            "        \"target\": null,\n",
            "        \"details\": [],\n",
            "        \"inner_error\": {\n",
            "            \"additional_properties\": {},\n",
            "            \"code\": \"ResourceExhausted\",\n",
            "            \"inner_error\": {\n",
            "                \"additional_properties\": {},\n",
            "                \"code\": \"Timeout\",\n",
            "                \"inner_error\": {\n",
            "                    \"additional_properties\": {},\n",
            "                    \"code\": \"ExperimentTimeoutForIterations\",\n",
            "                    \"inner_error\": null\n",
            "                }\n",
            "            }\n",
            "        },\n",
            "        \"additional_info\": null\n",
            "    },\n",
            "    \"correlation\": null,\n",
            "    \"environment\": null,\n",
            "    \"location\": null,\n",
            "    \"time\": {},\n",
            "    \"component_name\": null\n",
            "}\n",
            "        42                                                  0:00:41          nan    0.8527\n",
            "ERROR: {\n",
            "    \"additional_properties\": {},\n",
            "    \"error\": {\n",
            "        \"additional_properties\": {\n",
            "            \"debugInfo\": null\n",
            "        },\n",
            "        \"code\": \"UserError\",\n",
            "        \"severity\": null,\n",
            "        \"message\": \"Experiment timeout reached, please consider increasing your experiment timeout.\",\n",
            "        \"message_format\": \"Experiment timeout reached, please consider increasing your experiment timeout.\",\n",
            "        \"message_parameters\": {},\n",
            "        \"reference_code\": null,\n",
            "        \"details_uri\": null,\n",
            "        \"target\": null,\n",
            "        \"details\": [],\n",
            "        \"inner_error\": {\n",
            "            \"additional_properties\": {},\n",
            "            \"code\": \"ResourceExhausted\",\n",
            "            \"inner_error\": {\n",
            "                \"additional_properties\": {},\n",
            "                \"code\": \"Timeout\",\n",
            "                \"inner_error\": {\n",
            "                    \"additional_properties\": {},\n",
            "                    \"code\": \"ExperimentTimeoutForIterations\",\n",
            "                    \"inner_error\": null\n",
            "                }\n",
            "            }\n",
            "        },\n",
            "        \"additional_info\": null\n",
            "    },\n",
            "    \"correlation\": null,\n",
            "    \"environment\": null,\n",
            "    \"location\": null,\n",
            "    \"time\": {},\n",
            "    \"component_name\": null\n",
            "}\n",
            "        44    StackEnsemble                                 0:01:09       0.8494    0.8527\n",
            "        43    VotingEnsemble                                0:01:25       0.8661    0.8661\n"
          ]
        }
      ],
      "execution_count": 7,
      "metadata": {
        "gather": {
          "logged": 1629303638098
        },
        "jupyter": {
          "outputs_hidden": false,
          "source_hidden": false
        },
        "nteract": {
          "transient": {
            "deleting": false
          }
        }
      }
    },
    {
      "cell_type": "markdown",
      "source": [
        "## Best Model"
      ],
      "metadata": {}
    },
    {
      "cell_type": "code",
      "source": [
        "best_run_automl, best_model_automl = automl.get_output()\n",
        "best_run_metrics_automl = best_run_automl.get_metrics()\n",
        "\n",
        "print(\"\\n\")\n",
        "print('Best run ID: ', best_run_automl.id)\n",
        "print('Best run Accuracy: ', best_run_metrics_automl['accuracy'])\n",
        "print('Metrics: ', best_run_metrics_automl)\n",
        "print(\"\\n\")"
      ],
      "outputs": [
        {
          "output_type": "stream",
          "name": "stderr",
          "text": [
            "WARNING:root:The version of the SDK does not match the version the model was trained on.\n",
            "WARNING:root:The consistency in the result may not be guaranteed.\n",
            "WARNING:root:Package:azureml-automl-core, training version:1.33.0, current version:1.32.0\n",
            "Package:azureml-automl-runtime, training version:1.33.0, current version:1.32.0\n",
            "Package:azureml-core, training version:1.33.0, current version:1.32.0\n",
            "Package:azureml-dataprep, training version:2.20.1, current version:2.18.0\n",
            "Package:azureml-dataprep-native, training version:38.0.0, current version:36.0.0\n",
            "Package:azureml-dataprep-rslex, training version:1.18.0, current version:1.16.1\n",
            "Package:azureml-dataset-runtime, training version:1.33.0, current version:1.32.0\n",
            "Package:azureml-defaults, training version:1.33.0, current version:1.32.0\n",
            "Package:azureml-interpret, training version:1.33.0, current version:1.32.0\n",
            "Package:azureml-mlflow, training version:1.33.0, current version:1.32.0\n",
            "Package:azureml-pipeline-core, training version:1.33.0, current version:1.32.0\n",
            "Package:azureml-responsibleai, training version:1.33.0, current version:1.32.0\n",
            "Package:azureml-telemetry, training version:1.33.0, current version:1.32.0\n",
            "Package:azureml-train-automl-client, training version:1.33.0, current version:1.32.0\n",
            "Package:azureml-train-automl-runtime, training version:1.33.0, current version:1.32.0\n",
            "WARNING:root:Please ensure the version of your local conda dependencies match the version on which your model was trained in order to properly retrieve your model.\n"
          ]
        },
        {
          "output_type": "stream",
          "name": "stdout",
          "text": [
            "\n",
            "\n",
            "Best run ID:  AutoML_bbbb0754-d3e4-47bd-8a5a-831ba68fb866_43\n",
            "Best run Accuracy:  0.8660810810810811\n",
            "Metrics:  {'log_loss': 0.40422708583455386, 'AUC_weighted': 0.90811342677515, 'AUC_macro': 0.90811342677515, 'f1_score_weighted': 0.8624781590389003, 'precision_score_micro': 0.8660810810810811, 'average_precision_score_weighted': 0.9150367324102368, 'f1_score_macro': 0.8400690048298156, 'average_precision_score_micro': 0.9177193890522644, 'matthews_correlation': 0.6909300768208544, 'recall_score_macro': 0.8344178518436993, 'norm_macro_recall': 0.6688357036873986, 'accuracy': 0.8660810810810811, 'average_precision_score_macro': 0.8905650646224539, 'precision_score_weighted': 0.8693604820880251, 'recall_score_weighted': 0.8660810810810811, 'recall_score_micro': 0.8660810810810811, 'precision_score_macro': 0.8572912457371433, 'AUC_micro': 0.9172856018180342, 'f1_score_micro': 0.8660810810810811, 'weighted_accuracy': 0.8874664688325193, 'balanced_accuracy': 0.8344178518436993, 'accuracy_table': 'aml://artifactId/ExperimentRun/dcid.AutoML_bbbb0754-d3e4-47bd-8a5a-831ba68fb866_43/accuracy_table', 'confusion_matrix': 'aml://artifactId/ExperimentRun/dcid.AutoML_bbbb0754-d3e4-47bd-8a5a-831ba68fb866_43/confusion_matrix'}\n",
            "\n",
            "\n"
          ]
        }
      ],
      "execution_count": 8,
      "metadata": {
        "gather": {
          "logged": 1629304202088
        },
        "jupyter": {
          "outputs_hidden": false,
          "source_hidden": false
        },
        "nteract": {
          "transient": {
            "deleting": false
          }
        }
      }
    },
    {
      "cell_type": "code",
      "source": [
        "print(best_model_automl)"
      ],
      "outputs": [
        {
          "output_type": "stream",
          "name": "stdout",
          "text": [
            "Pipeline(memory=None,\n",
            "         steps=[('datatransformer',\n",
            "                 DataTransformer(enable_dnn=False, enable_feature_sweeping=True, feature_sweeping_config={}, feature_sweeping_timeout=86400, featurization_config=None, force_text_dnn=False, is_cross_validation=True, is_onnx_compatible=False, observer=None, task='classification', working_dir='/mnt/batch/tasks/shared/LS_root/mount...\n",
            "), random_state=0, reg_alpha=2.3958333333333335, reg_lambda=1.5625, subsample=0.5, tree_method='auto'))], verbose=False))], flatten_transform=None, weights=[0.09090909090909091, 0.18181818181818182, 0.09090909090909091, 0.09090909090909091, 0.09090909090909091, 0.09090909090909091, 0.09090909090909091, 0.09090909090909091, 0.09090909090909091, 0.09090909090909091]))],\n",
            "         verbose=False)\n"
          ]
        }
      ],
      "execution_count": 17,
      "metadata": {
        "collapsed": true,
        "jupyter": {
          "source_hidden": false,
          "outputs_hidden": false
        },
        "nteract": {
          "transient": {
            "deleting": false
          }
        },
        "gather": {
          "logged": 1629281814795
        }
      }
    },
    {
      "cell_type": "code",
      "source": [
        "# Save the best model\n",
        "joblib.dump(best_model_automl, filename='outputs/best_model_automl.pkl')"
      ],
      "outputs": [
        {
          "output_type": "execute_result",
          "execution_count": 10,
          "data": {
            "text/plain": "['outputs/best_model_automl.pkl']"
          },
          "metadata": {}
        }
      ],
      "execution_count": 10,
      "metadata": {
        "gather": {
          "logged": 1629304243305
        },
        "jupyter": {
          "outputs_hidden": false,
          "source_hidden": false
        },
        "nteract": {
          "transient": {
            "deleting": false
          }
        }
      }
    },
    {
      "cell_type": "markdown",
      "source": [
        "## Model Deployment\n",
        "\n",
        "Remember you have to deploy only one of the two models you trained.. Perform the steps in the rest of this notebook only if you wish to deploy this model.\n",
        "\n",
        "Register the model, create an inference config and deploy the model as a web service."
      ],
      "metadata": {}
    },
    {
      "cell_type": "code",
      "source": [
        "# Register the best model\n",
        "best_run_automl.upload_file('outputs/best_model_automl.pkl', 'outputs/best_model_automl.pkl')\n",
        "model = best_run_automl.register_model(model_name='best_model_automl', model_path='outputs/best_model_automl.pkl')\n",
        "\n",
        "# Deploy the model\n",
        "service_name = 'automl-deploy'\n",
        "inference_config = InferenceConfig(entry_script='score.py', environment=best_run_automl.get_environment())\n",
        "aci_deployment_config = AciWebservice.deploy_configuration(cpu_cores=1, \n",
        "                                                           memory_gb=1,\n",
        "                                                           auth_enabled=True,\n",
        "                                                           enable_app_insights=True,\n",
        "                                                           description='AutoML model deploy')\n",
        "\n",
        "service = Model.deploy(workspace=ws,\n",
        "                       name=service_name,\n",
        "                       models=[model],\n",
        "                       inference_config=inference_config,\n",
        "                       deployment_config=aci_deployment_config,\n",
        "                       overwrite=True\n",
        "                      )\n",
        "\n",
        "service.wait_for_deployment(show_output=True)\n",
        "\n",
        "\n",
        "print('Deployment state: ', service.state)\n",
        "print('Scoring URI: ', service.scoring_uri)"
      ],
      "outputs": [
        {
          "output_type": "stream",
          "name": "stdout",
          "text": [
            "Tips: You can try get_logs(): https://aka.ms/debugimage#dockerlog or local deployment: https://aka.ms/debugimage#debug-locally to debug if deployment takes longer than 10 minutes.\n",
            "Running\n",
            "2021-08-18 16:31:15+00:00 Creating Container Registry if not exists..\n",
            "2021-08-18 16:41:16+00:00 Registering the environment..\n",
            "2021-08-18 16:41:16+00:00 Use the existing image.\n",
            "2021-08-18 16:41:17+00:00 Generating deployment configuration.\n",
            "2021-08-18 16:41:18+00:00 Submitting deployment to compute..\n",
            "2021-08-18 16:41:25+00:00 Checking the status of deployment automl-deploy..\n",
            "2021-08-18 16:45:46+00:00 Checking the status of inference endpoint automl-deploy.\n",
            "Succeeded\n",
            "ACI service creation operation finished, operation \"Succeeded\"\n",
            "Deployment state:  Healthy\n",
            "Scoring URI:  http://86055616-104c-46f4-858f-5d830a5c90fa.southcentralus.azurecontainer.io/score\n"
          ]
        }
      ],
      "execution_count": 11,
      "metadata": {
        "gather": {
          "logged": 1629305148877
        },
        "jupyter": {
          "outputs_hidden": false,
          "source_hidden": false
        },
        "nteract": {
          "transient": {
            "deleting": false
          }
        }
      }
    },
    {
      "cell_type": "markdown",
      "source": [
        "Send a request to the web service you deployed to test it."
      ],
      "metadata": {
        "collapsed": true,
        "gather": {
          "logged": 1598431657736
        },
        "jupyter": {
          "outputs_hidden": false,
          "source_hidden": false
        },
        "nteract": {
          "transient": {
            "deleting": false
          }
        }
      }
    },
    {
      "cell_type": "code",
      "source": [
        "# Send a POST requests to the web service\n",
        "\n",
        "# URL for the web service\n",
        "scoring_uri = str(service.scoring_uri)\n",
        "# If the service is authenticated, set the key or token\n",
        "primary, secondary = service.get_keys()\n",
        "key = str(primary)\n",
        "\n",
        "# A set of data to score, so we get a result back\n",
        "data = {\"data\":\n",
        "        [\n",
        "          {\n",
        "            'age': 50.0, \n",
        "            'anaemia': 1, \n",
        "            'creatinine_phosphokinase': 230,\n",
        "            'diabetes': 0,\n",
        "            'ejection_fraction': 38,\n",
        "            'high_blood_pressure': 1,\n",
        "            'platelets': 390000.0,\n",
        "            'serum_creatinine': 1.8,\n",
        "            'serum_sodium': 135,\n",
        "            'sex': 1,\n",
        "            'smoking': 0,\n",
        "            'time': 14\n",
        "          }\n",
        "    ]\n",
        "}\n",
        "\n",
        "# Convert to JSON string\n",
        "input_data = json.dumps(data)\n",
        "with open(\"data.json\", \"w\") as _f:\n",
        "    _f.write(input_data)\n",
        "\n",
        "# Set the content type\n",
        "headers = {'Content-Type': 'application/json'}\n",
        "# If authentication is enabled, set the authorization header\n",
        "headers['Authorization'] = f'Bearer {key}'\n",
        "\n",
        "# Make the request and display the response\n",
        "resp = requests.post(scoring_uri, input_data, headers=headers)\n",
        "print(resp.json())"
      ],
      "outputs": [
        {
          "output_type": "stream",
          "name": "stdout",
          "text": [
            "{\"result\": [1]}\n"
          ]
        }
      ],
      "execution_count": 15,
      "metadata": {
        "gather": {
          "logged": 1629307018937
        },
        "jupyter": {
          "outputs_hidden": false,
          "source_hidden": false
        },
        "nteract": {
          "transient": {
            "deleting": false
          }
        }
      }
    },
    {
      "cell_type": "markdown",
      "source": [
        "Print the logs of the web service and delete the service"
      ],
      "metadata": {
        "collapsed": true,
        "gather": {
          "logged": 1598432765711
        },
        "jupyter": {
          "outputs_hidden": false,
          "source_hidden": false
        },
        "nteract": {
          "transient": {
            "deleting": false
          }
        }
      }
    },
    {
      "cell_type": "code",
      "source": [
        "# Logs of the web service\n",
        "print(service.get_logs())\n",
        "\n",
        "# Delete the service\n",
        "service.delete()"
      ],
      "outputs": [
        {
          "output_type": "stream",
          "name": "stdout",
          "text": [
            "2021-08-18T16:45:30,613921000+00:00 - rsyslog/run \n",
            "2021-08-18T16:45:30,622194400+00:00 - iot-server/run \n",
            "2021-08-18T16:45:30,624103700+00:00 - gunicorn/run \n",
            "Dynamic Python package installation is disabled.\n",
            "Starting HTTP server\n",
            "2021-08-18T16:45:30,652600100+00:00 - nginx/run \n",
            "rsyslogd: /azureml-envs/azureml_3489174eb648a475780c9959ff366072/lib/libuuid.so.1: no version information available (required by rsyslogd)\n",
            "EdgeHubConnectionString and IOTEDGE_IOTHUBHOSTNAME are not set. Exiting...\n",
            "2021-08-18T16:45:31,041266000+00:00 - iot-server/finish 1 0\n",
            "2021-08-18T16:45:31,047863200+00:00 - Exit code 1 is normal. Not restarting iot-server.\n",
            "Starting gunicorn 20.1.0\n",
            "Listening at: http://127.0.0.1:31311 (51)\n",
            "Using worker: sync\n",
            "worker timeout is set to 300\n",
            "Booting worker with pid: 88\n",
            "SPARK_HOME not set. Skipping PySpark Initialization.\n",
            "Generating new fontManager, this may take some time...\n",
            "Initializing logger\n",
            "2021-08-18 16:45:34,769 | root | INFO | Starting up app insights client\n",
            "logging socket was found. logging is available.\n",
            "logging socket was found. logging is available.\n",
            "2021-08-18 16:45:34,770 | root | INFO | Starting up request id generator\n",
            "2021-08-18 16:45:34,770 | root | INFO | Starting up app insight hooks\n",
            "2021-08-18 16:45:34,770 | root | INFO | Invoking user's init function\n",
            "2021-08-18 16:45:38,720 | azureml.core | WARNING | Failure while loading azureml_run_type_providers. Failed to load entrypoint automl = azureml.train.automl.run:AutoMLRun._from_run_dto with exception cannot import name 'RunType'.\n",
            "Failure while loading azureml_run_type_providers. Failed to load entrypoint automl = azureml.train.automl.run:AutoMLRun._from_run_dto with exception cannot import name 'RunType'.\n",
            "/azureml-envs/azureml_3489174eb648a475780c9959ff366072/lib/python3.6/site-packages/sklearn/externals/joblib/__init__.py:15: FutureWarning: sklearn.externals.joblib is deprecated in 0.21 and will be removed in 0.23. Please import this functionality directly from joblib, which can be installed with: pip install joblib. If this warning is raised when loading pickled models, you may need to re-serialize those models with scikit-learn 0.21+.\n",
            "  warnings.warn(msg, category=FutureWarning)\n",
            "2021-08-18 16:45:41,009 | root | INFO | Users's init has completed successfully\n",
            "2021-08-18 16:45:41,017 | root | INFO | Skipping middleware: dbg_model_info as it's not enabled.\n",
            "2021-08-18 16:45:41,017 | root | INFO | Skipping middleware: dbg_resource_usage as it's not enabled.\n",
            "Generating swagger file: /tmp/tmpstmbari1\n",
            "2021-08-18 16:45:41,020 | root | INFO | Scoring timeout is found from os.environ: 60000 ms\n",
            "2021-08-18 16:45:46,245 | root | INFO | 200\n",
            "127.0.0.1 - - [18/Aug/2021:16:45:46 +0000] \"GET /swagger.json HTTP/1.0\" 200 2969 \"-\" \"Go-http-client/1.1\"\n",
            "2021-08-18 16:45:48,632 | root | INFO | 200\n",
            "127.0.0.1 - - [18/Aug/2021:16:45:48 +0000] \"GET /swagger.json HTTP/1.0\" 200 2969 \"-\" \"Go-http-client/1.1\"\n",
            "2021-08-18 16:46:13,352 | root | INFO | 200\n",
            "127.0.0.1 - - [18/Aug/2021:16:46:13 +0000] \"GET /swagger.json HTTP/1.0\" 200 2969 \"-\" \"Go-http-client/1.1\"\n",
            "2021-08-18 16:47:20,661 | root | INFO | Validation Request Content-Type\n",
            "2021-08-18 16:47:20,669 | root | INFO | Scoring Timer is set to 60.0 seconds\n",
            "2021-08-18 16:47:21,339 | root | INFO | 200\n",
            "127.0.0.1 - - [18/Aug/2021:16:47:21 +0000] \"POST /score HTTP/1.0\" 200 19 \"-\" \"python-requests/2.25.1\"\n",
            "2021-08-18 16:47:55,781 | root | INFO | Validation Request Content-Type\n",
            "2021-08-18 16:47:55,782 | root | INFO | Scoring Timer is set to 60.0 seconds\n",
            "2021-08-18 16:47:56,213 | root | INFO | 200\n",
            "127.0.0.1 - - [18/Aug/2021:16:47:56 +0000] \"POST /score HTTP/1.0\" 200 19 \"-\" \"python-requests/2.25.1\"\n",
            "2021-08-18 16:48:08,361 | root | INFO | 200\n",
            "127.0.0.1 - - [18/Aug/2021:16:48:08 +0000] \"GET /swagger.json HTTP/1.0\" 200 2969 \"-\" \"Go-http-client/1.1\"\n",
            "2021-08-18 16:48:10,269 | root | INFO | 200\n",
            "127.0.0.1 - - [18/Aug/2021:16:48:10 +0000] \"GET /swagger.json HTTP/1.0\" 200 2969 \"-\" \"Go-http-client/1.1\"\n",
            "2021-08-18 16:49:33,826 | root | INFO | Validation Request Content-Type\n",
            "2021-08-18 16:49:33,828 | root | INFO | Scoring Timer is set to 60.0 seconds\n",
            "2021-08-18 16:49:34,266 | root | INFO | 200\n",
            "127.0.0.1 - - [18/Aug/2021:16:49:34 +0000] \"POST /score HTTP/1.0\" 200 19 \"-\" \"python-requests/2.25.1\"\n",
            "2021-08-18 16:52:17,191 | root | INFO | 200\n",
            "127.0.0.1 - - [18/Aug/2021:16:52:17 +0000] \"GET /swagger.json HTTP/1.0\" 200 2969 \"-\" \"Go-http-client/1.1\"\n",
            "2021-08-18 16:54:58,480 | root | INFO | Validation Request Content-Type\n",
            "2021-08-18 16:54:58,482 | root | INFO | Scoring Timer is set to 60.0 seconds\n",
            "2021-08-18 16:54:58,916 | root | INFO | 200\n",
            "127.0.0.1 - - [18/Aug/2021:16:54:58 +0000] \"POST /score HTTP/1.0\" 200 19 \"-\" \"python-requests/2.24.0\"\n",
            "2021-08-18 17:16:11,455 | root | INFO | 200\n",
            "127.0.0.1 - - [18/Aug/2021:17:16:11 +0000] \"GET /swagger.json HTTP/1.0\" 200 2969 \"-\" \"Go-http-client/1.1\"\n",
            "2021-08-18 17:16:29,265 | root | INFO | 200\n",
            "127.0.0.1 - - [18/Aug/2021:17:16:29 +0000] \"GET /swagger.json HTTP/1.0\" 200 2969 \"-\" \"Go-http-client/1.1\"\n",
            "2021-08-18 17:16:58,347 | root | INFO | Validation Request Content-Type\n",
            "2021-08-18 17:16:58,352 | root | INFO | Scoring Timer is set to 60.0 seconds\n",
            "2021-08-18 17:16:58,802 | root | INFO | 200\n",
            "127.0.0.1 - - [18/Aug/2021:17:16:58 +0000] \"POST /score HTTP/1.0\" 200 19 \"-\" \"python-requests/2.25.1\"\n",
            "2021-08-18 17:17:23,853 | root | INFO | Validation Request Content-Type\n",
            "2021-08-18 17:17:23,854 | root | INFO | Scoring Timer is set to 60.0 seconds\n",
            "2021-08-18 17:17:24,330 | root | INFO | 200\n",
            "127.0.0.1 - - [18/Aug/2021:17:17:24 +0000] \"POST /score HTTP/1.0\" 200 19 \"-\" \"python-requests/2.24.0\"\n",
            "\n"
          ]
        }
      ],
      "execution_count": 16,
      "metadata": {
        "jupyter": {
          "outputs_hidden": false,
          "source_hidden": false
        },
        "nteract": {
          "transient": {
            "deleting": false
          }
        },
        "gather": {
          "logged": 1629307059978
        }
      }
    }
  ],
  "metadata": {
    "kernel_info": {
      "name": "python3-azureml"
    },
    "kernelspec": {
      "name": "python3-azureml",
      "language": "python",
      "display_name": "Python 3.6 - AzureML"
    },
    "language_info": {
      "name": "python",
      "version": "3.6.9",
      "mimetype": "text/x-python",
      "codemirror_mode": {
        "name": "ipython",
        "version": 3
      },
      "pygments_lexer": "ipython3",
      "nbconvert_exporter": "python",
      "file_extension": ".py"
    },
    "nteract": {
      "version": "nteract-front-end@1.0.0"
    },
    "microsoft": {
      "host": {
        "AzureML": {
          "notebookHasBeenCompleted": true
        }
      }
    }
  },
  "nbformat": 4,
  "nbformat_minor": 2
}