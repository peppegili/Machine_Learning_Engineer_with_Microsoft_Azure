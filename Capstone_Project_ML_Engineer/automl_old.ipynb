{
 "cells": [
  {
   "cell_type": "markdown",
   "metadata": {},
   "source": [
    "# Automated ML"
   ]
  },
  {
   "cell_type": "code",
   "execution_count": 1,
   "metadata": {
    "gather": {
     "logged": 1629276913663
    },
    "jupyter": {
     "outputs_hidden": false,
     "source_hidden": false
    },
    "nteract": {
     "transient": {
      "deleting": false
     }
    }
   },
   "outputs": [],
   "source": [
    "# Imports\n",
    "\n",
    "import os\n",
    "import joblib\n",
    "import numpy as np\n",
    "import pandas as pd\n",
    "import requests\n",
    "import json\n",
    "\n",
    "import azureml.core\n",
    "from azureml.core.experiment import Experiment\n",
    "from azureml.core.workspace import Workspace\n",
    "from azureml.train.automl import AutoMLConfig\n",
    "from azureml.core.dataset import Dataset\n",
    "from azureml.core.compute import ComputeTarget, AmlCompute\n",
    "from azureml.core.compute_target import ComputeTargetException\n",
    "from azureml.widgets import RunDetails\n",
    "from azureml.core.model import Model, InferenceConfig\n",
    "from azureml.core.webservice import AciWebservice"
   ]
  },
  {
   "cell_type": "markdown",
   "metadata": {},
   "source": [
    "## Dataset\n",
    "\n",
    "### Overview\n"
   ]
  },
  {
   "cell_type": "code",
   "execution_count": 2,
   "metadata": {
    "gather": {
     "logged": 1629276935223
    },
    "jupyter": {
     "outputs_hidden": false,
     "source_hidden": false
    },
    "nteract": {
     "transient": {
      "deleting": false
     }
    }
   },
   "outputs": [
    {
     "name": "stdout",
     "output_type": "stream",
     "text": [
      "Workspace name: quick-starts-ws-154849\n",
      "Azure region: southcentralus\n",
      "Subscription id: 5a4ab2ba-6c51-4805-8155-58759ad589d8\n",
      "Resource group: aml-quickstarts-154849\n"
     ]
    }
   ],
   "source": [
    "# Worspace and experiment\n",
    "\n",
    "ws = Workspace.from_config()\n",
    "experiment_name = 'automl-experiment'\n",
    "project_folder = './automl-project'\n",
    "\n",
    "experiment=Experiment(ws, experiment_name)\n",
    "\n",
    "print('Workspace name: ' + ws.name, \n",
    "      'Azure region: ' + ws.location, \n",
    "      'Subscription id: ' + ws.subscription_id, \n",
    "      'Resource group: ' + ws.resource_group, sep = '\\n')"
   ]
  },
  {
   "cell_type": "code",
   "execution_count": 3,
   "metadata": {
    "gather": {
     "logged": 1629276977411
    }
   },
   "outputs": [
    {
     "name": "stdout",
     "output_type": "stream",
     "text": [
      "InProgress.....\n",
      "SucceededProvisioning operation finished, operation \"Succeeded\"\n",
      "Succeeded\n",
      "AmlCompute wait for completion finished\n",
      "\n",
      "Minimum number of nodes requested have been provisioned\n"
     ]
    }
   ],
   "source": [
    "# Create compute cluster\n",
    "\n",
    "compute_cluster_name = \"alpha\"\n",
    "\n",
    "try:\n",
    "    compute_cluster = ComputeTarget(workspace=ws, name=compute_cluster_name)\n",
    "    print(\"Found existing cluster, please use it.\")\n",
    "except ComputeTargetException:\n",
    "    compute_config = AmlCompute.provisioning_configuration(vm_size='STANDARD_D2_V2', max_nodes=4)\n",
    "    compute_cluster = ComputeTarget.create(ws, compute_cluster_name, compute_config)\n",
    "\n",
    "compute_cluster.wait_for_completion(show_output=True)"
   ]
  },
  {
   "cell_type": "code",
   "execution_count": 7,
   "metadata": {
    "gather": {
     "logged": 1629277699433
    }
   },
   "outputs": [
    {
     "data": {
      "text/html": [
       "<div>\n",
       "<style scoped>\n",
       "    .dataframe tbody tr th:only-of-type {\n",
       "        vertical-align: middle;\n",
       "    }\n",
       "\n",
       "    .dataframe tbody tr th {\n",
       "        vertical-align: top;\n",
       "    }\n",
       "\n",
       "    .dataframe thead th {\n",
       "        text-align: right;\n",
       "    }\n",
       "</style>\n",
       "<table border=\"1\" class=\"dataframe\">\n",
       "  <thead>\n",
       "    <tr style=\"text-align: right;\">\n",
       "      <th></th>\n",
       "      <th>age</th>\n",
       "      <th>anaemia</th>\n",
       "      <th>creatinine_phosphokinase</th>\n",
       "      <th>diabetes</th>\n",
       "      <th>ejection_fraction</th>\n",
       "      <th>high_blood_pressure</th>\n",
       "      <th>platelets</th>\n",
       "      <th>serum_creatinine</th>\n",
       "      <th>serum_sodium</th>\n",
       "      <th>sex</th>\n",
       "      <th>smoking</th>\n",
       "      <th>time</th>\n",
       "      <th>DEATH_EVENT</th>\n",
       "    </tr>\n",
       "  </thead>\n",
       "  <tbody>\n",
       "    <tr>\n",
       "      <th>count</th>\n",
       "      <td>299.000000</td>\n",
       "      <td>299.000000</td>\n",
       "      <td>299.000000</td>\n",
       "      <td>299.000000</td>\n",
       "      <td>299.000000</td>\n",
       "      <td>299.000000</td>\n",
       "      <td>299.000000</td>\n",
       "      <td>299.00000</td>\n",
       "      <td>299.000000</td>\n",
       "      <td>299.000000</td>\n",
       "      <td>299.00000</td>\n",
       "      <td>299.000000</td>\n",
       "      <td>299.00000</td>\n",
       "    </tr>\n",
       "    <tr>\n",
       "      <th>mean</th>\n",
       "      <td>60.833893</td>\n",
       "      <td>0.431438</td>\n",
       "      <td>581.839465</td>\n",
       "      <td>0.418060</td>\n",
       "      <td>38.083612</td>\n",
       "      <td>0.351171</td>\n",
       "      <td>263358.029264</td>\n",
       "      <td>1.39388</td>\n",
       "      <td>136.625418</td>\n",
       "      <td>0.648829</td>\n",
       "      <td>0.32107</td>\n",
       "      <td>130.260870</td>\n",
       "      <td>0.32107</td>\n",
       "    </tr>\n",
       "    <tr>\n",
       "      <th>std</th>\n",
       "      <td>11.894809</td>\n",
       "      <td>0.496107</td>\n",
       "      <td>970.287881</td>\n",
       "      <td>0.494067</td>\n",
       "      <td>11.834841</td>\n",
       "      <td>0.478136</td>\n",
       "      <td>97804.236869</td>\n",
       "      <td>1.03451</td>\n",
       "      <td>4.412477</td>\n",
       "      <td>0.478136</td>\n",
       "      <td>0.46767</td>\n",
       "      <td>77.614208</td>\n",
       "      <td>0.46767</td>\n",
       "    </tr>\n",
       "    <tr>\n",
       "      <th>min</th>\n",
       "      <td>40.000000</td>\n",
       "      <td>0.000000</td>\n",
       "      <td>23.000000</td>\n",
       "      <td>0.000000</td>\n",
       "      <td>14.000000</td>\n",
       "      <td>0.000000</td>\n",
       "      <td>25100.000000</td>\n",
       "      <td>0.50000</td>\n",
       "      <td>113.000000</td>\n",
       "      <td>0.000000</td>\n",
       "      <td>0.00000</td>\n",
       "      <td>4.000000</td>\n",
       "      <td>0.00000</td>\n",
       "    </tr>\n",
       "    <tr>\n",
       "      <th>25%</th>\n",
       "      <td>51.000000</td>\n",
       "      <td>0.000000</td>\n",
       "      <td>116.500000</td>\n",
       "      <td>0.000000</td>\n",
       "      <td>30.000000</td>\n",
       "      <td>0.000000</td>\n",
       "      <td>212500.000000</td>\n",
       "      <td>0.90000</td>\n",
       "      <td>134.000000</td>\n",
       "      <td>0.000000</td>\n",
       "      <td>0.00000</td>\n",
       "      <td>73.000000</td>\n",
       "      <td>0.00000</td>\n",
       "    </tr>\n",
       "    <tr>\n",
       "      <th>50%</th>\n",
       "      <td>60.000000</td>\n",
       "      <td>0.000000</td>\n",
       "      <td>250.000000</td>\n",
       "      <td>0.000000</td>\n",
       "      <td>38.000000</td>\n",
       "      <td>0.000000</td>\n",
       "      <td>262000.000000</td>\n",
       "      <td>1.10000</td>\n",
       "      <td>137.000000</td>\n",
       "      <td>1.000000</td>\n",
       "      <td>0.00000</td>\n",
       "      <td>115.000000</td>\n",
       "      <td>0.00000</td>\n",
       "    </tr>\n",
       "    <tr>\n",
       "      <th>75%</th>\n",
       "      <td>70.000000</td>\n",
       "      <td>1.000000</td>\n",
       "      <td>582.000000</td>\n",
       "      <td>1.000000</td>\n",
       "      <td>45.000000</td>\n",
       "      <td>1.000000</td>\n",
       "      <td>303500.000000</td>\n",
       "      <td>1.40000</td>\n",
       "      <td>140.000000</td>\n",
       "      <td>1.000000</td>\n",
       "      <td>1.00000</td>\n",
       "      <td>203.000000</td>\n",
       "      <td>1.00000</td>\n",
       "    </tr>\n",
       "    <tr>\n",
       "      <th>max</th>\n",
       "      <td>95.000000</td>\n",
       "      <td>1.000000</td>\n",
       "      <td>7861.000000</td>\n",
       "      <td>1.000000</td>\n",
       "      <td>80.000000</td>\n",
       "      <td>1.000000</td>\n",
       "      <td>850000.000000</td>\n",
       "      <td>9.40000</td>\n",
       "      <td>148.000000</td>\n",
       "      <td>1.000000</td>\n",
       "      <td>1.00000</td>\n",
       "      <td>285.000000</td>\n",
       "      <td>1.00000</td>\n",
       "    </tr>\n",
       "  </tbody>\n",
       "</table>\n",
       "</div>"
      ],
      "text/plain": [
       "              age     anaemia  creatinine_phosphokinase    diabetes  \\\n",
       "count  299.000000  299.000000                299.000000  299.000000   \n",
       "mean    60.833893    0.431438                581.839465    0.418060   \n",
       "std     11.894809    0.496107                970.287881    0.494067   \n",
       "min     40.000000    0.000000                 23.000000    0.000000   \n",
       "25%     51.000000    0.000000                116.500000    0.000000   \n",
       "50%     60.000000    0.000000                250.000000    0.000000   \n",
       "75%     70.000000    1.000000                582.000000    1.000000   \n",
       "max     95.000000    1.000000               7861.000000    1.000000   \n",
       "\n",
       "       ejection_fraction  high_blood_pressure      platelets  \\\n",
       "count         299.000000           299.000000     299.000000   \n",
       "mean           38.083612             0.351171  263358.029264   \n",
       "std            11.834841             0.478136   97804.236869   \n",
       "min            14.000000             0.000000   25100.000000   \n",
       "25%            30.000000             0.000000  212500.000000   \n",
       "50%            38.000000             0.000000  262000.000000   \n",
       "75%            45.000000             1.000000  303500.000000   \n",
       "max            80.000000             1.000000  850000.000000   \n",
       "\n",
       "       serum_creatinine  serum_sodium         sex    smoking        time  \\\n",
       "count         299.00000    299.000000  299.000000  299.00000  299.000000   \n",
       "mean            1.39388    136.625418    0.648829    0.32107  130.260870   \n",
       "std             1.03451      4.412477    0.478136    0.46767   77.614208   \n",
       "min             0.50000    113.000000    0.000000    0.00000    4.000000   \n",
       "25%             0.90000    134.000000    0.000000    0.00000   73.000000   \n",
       "50%             1.10000    137.000000    1.000000    0.00000  115.000000   \n",
       "75%             1.40000    140.000000    1.000000    1.00000  203.000000   \n",
       "max             9.40000    148.000000    1.000000    1.00000  285.000000   \n",
       "\n",
       "       DEATH_EVENT  \n",
       "count    299.00000  \n",
       "mean       0.32107  \n",
       "std        0.46767  \n",
       "min        0.00000  \n",
       "25%        0.00000  \n",
       "50%        0.00000  \n",
       "75%        1.00000  \n",
       "max        1.00000  "
      ]
     },
     "execution_count": 7,
     "metadata": {},
     "output_type": "execute_result"
    }
   ],
   "source": [
    "# Dataset\n",
    "\n",
    "found = False\n",
    "key = \"Heart Failure Dataset\"\n",
    "description_text = \"Heart Failure Dataset for Udacity Project 3\"\n",
    "\n",
    "if key in ws.datasets.keys():\n",
    "        found = True\n",
    "        dataset = ws.datasets[key]\n",
    "\n",
    "if not found:\n",
    "        # Create AML Dataset and register it into Workspace\n",
    "        example_data = 'https://raw.githubusercontent.com/peppegili/3_Capstone_Project_ML_Engineer/master/data/heart_failure_clinical_records_dataset.csv'\n",
    "        dataset = Dataset.Tabular.from_delimited_files(example_data)        \n",
    "        #Register Dataset in Workspace\n",
    "        dataset = dataset.register(workspace=ws,\n",
    "                                   name=key,\n",
    "                                   description=description_text)\n",
    "\n",
    "df = dataset.to_pandas_dataframe()\n",
    "df.describe()"
   ]
  },
  {
   "cell_type": "markdown",
   "metadata": {},
   "source": [
    "## AutoML Configuration"
   ]
  },
  {
   "cell_type": "code",
   "execution_count": 9,
   "metadata": {
    "gather": {
     "logged": 1629277947074
    },
    "jupyter": {
     "outputs_hidden": false,
     "source_hidden": false
    },
    "nteract": {
     "transient": {
      "deleting": false
     }
    }
   },
   "outputs": [],
   "source": [
    "# AutoML config\n",
    "\n",
    "automl_settings = {\n",
    "    \"experiment_timeout_minutes\": 20,\n",
    "    \"max_concurrent_iterations\": 5,\n",
    "    \"n_cross_validations\": 4,\n",
    "    \"primary_metric\" : 'accuracy'\n",
    "}\n",
    "\n",
    "automl_config = AutoMLConfig(compute_target=compute_cluster,\n",
    "                             task=\"classification\",\n",
    "                             training_data=dataset,\n",
    "                             label_column_name=\"DEATH_EVENT\",   \n",
    "                             path=project_folder,\n",
    "                             enable_early_stopping=True,\n",
    "                             featurization='auto',\n",
    "                             debug_log=\"automl_errors.log\",\n",
    "                             **automl_settings\n",
    "                            )"
   ]
  },
  {
   "cell_type": "code",
   "execution_count": 10,
   "metadata": {
    "gather": {
     "logged": 1629277959075
    },
    "jupyter": {
     "outputs_hidden": false,
     "source_hidden": false
    },
    "nteract": {
     "transient": {
      "deleting": false
     }
    }
   },
   "outputs": [
    {
     "name": "stdout",
     "output_type": "stream",
     "text": [
      "Submitting remote run.\n"
     ]
    },
    {
     "data": {
      "text/html": [
       "<table style=\"width:100%\"><tr><th>Experiment</th><th>Id</th><th>Type</th><th>Status</th><th>Details Page</th><th>Docs Page</th></tr><tr><td>automl-experiment</td><td>AutoML_082e177e-f879-4eb9-ba30-bdc8979214da</td><td>automl</td><td>NotStarted</td><td><a href=\"https://ml.azure.com/runs/AutoML_082e177e-f879-4eb9-ba30-bdc8979214da?wsid=/subscriptions/5a4ab2ba-6c51-4805-8155-58759ad589d8/resourcegroups/aml-quickstarts-154849/workspaces/quick-starts-ws-154849&amp;tid=660b3398-b80e-49d2-bc5b-ac1dc93b5254\" target=\"_blank\" rel=\"noopener\">Link to Azure Machine Learning studio</a></td><td><a href=\"https://docs.microsoft.com/en-us/python/api/overview/azure/ml/intro?view=azure-ml-py\" target=\"_blank\" rel=\"noopener\">Link to Documentation</a></td></tr></table>"
      ],
      "text/plain": [
       "<IPython.core.display.HTML object>"
      ]
     },
     "metadata": {},
     "output_type": "display_data"
    }
   ],
   "source": [
    "# Submit the experiment\n",
    "automl = experiment.submit(automl_config)"
   ]
  },
  {
   "cell_type": "markdown",
   "metadata": {},
   "source": [
    "## Run Details"
   ]
  },
  {
   "cell_type": "code",
   "execution_count": 11,
   "metadata": {
    "gather": {
     "logged": 1629279989583
    },
    "jupyter": {
     "outputs_hidden": false,
     "source_hidden": false
    },
    "nteract": {
     "transient": {
      "deleting": false
     }
    }
   },
   "outputs": [
    {
     "data": {
      "application/vnd.jupyter.widget-view+json": {
       "model_id": "5c45f89f62b44a4eab09934bf551a60e",
       "version_major": 2,
       "version_minor": 0
      },
      "text/plain": [
       "_AutoMLWidget(widget_settings={'childWidgetDisplay': 'popup', 'send_telemetry': False, 'log_level': 'INFO', 's…"
      ]
     },
     "metadata": {},
     "output_type": "display_data"
    },
    {
     "data": {
      "application/aml.mini.widget.v1": "{\"status\": \"Completed\", \"workbench_run_details_uri\": \"https://ml.azure.com/runs/AutoML_082e177e-f879-4eb9-ba30-bdc8979214da?wsid=/subscriptions/5a4ab2ba-6c51-4805-8155-58759ad589d8/resourcegroups/aml-quickstarts-154849/workspaces/quick-starts-ws-154849&tid=660b3398-b80e-49d2-bc5b-ac1dc93b5254\", \"run_id\": \"AutoML_082e177e-f879-4eb9-ba30-bdc8979214da\", \"run_properties\": {\"run_id\": \"AutoML_082e177e-f879-4eb9-ba30-bdc8979214da\", \"created_utc\": \"2021-08-18T09:12:37.541899Z\", \"properties\": {\"num_iterations\": \"1000\", \"training_type\": \"TrainFull\", \"acquisition_function\": \"EI\", \"primary_metric\": \"accuracy\", \"train_split\": \"0\", \"acquisition_parameter\": \"0\", \"num_cross_validation\": \"4\", \"target\": \"alpha\", \"AMLSettingsJsonString\": \"{\\\"path\\\":null,\\\"name\\\":\\\"automl-experiment\\\",\\\"subscription_id\\\":\\\"5a4ab2ba-6c51-4805-8155-58759ad589d8\\\",\\\"resource_group\\\":\\\"aml-quickstarts-154849\\\",\\\"workspace_name\\\":\\\"quick-starts-ws-154849\\\",\\\"region\\\":\\\"southcentralus\\\",\\\"compute_target\\\":\\\"alpha\\\",\\\"spark_service\\\":null,\\\"azure_service\\\":\\\"remote\\\",\\\"many_models\\\":false,\\\"pipeline_fetch_max_batch_size\\\":1,\\\"enable_batch_run\\\":false,\\\"enable_run_restructure\\\":false,\\\"start_auxiliary_runs_before_parent_complete\\\":false,\\\"enable_code_generation\\\":false,\\\"iterations\\\":1000,\\\"primary_metric\\\":\\\"accuracy\\\",\\\"task_type\\\":\\\"classification\\\",\\\"data_script\\\":null,\\\"test_size\\\":0.0,\\\"validation_size\\\":0.0,\\\"n_cross_validations\\\":4,\\\"y_min\\\":null,\\\"y_max\\\":null,\\\"num_classes\\\":null,\\\"featurization\\\":\\\"auto\\\",\\\"_ignore_package_version_incompatibilities\\\":false,\\\"is_timeseries\\\":false,\\\"max_cores_per_iteration\\\":1,\\\"max_concurrent_iterations\\\":5,\\\"iteration_timeout_minutes\\\":null,\\\"mem_in_mb\\\":null,\\\"enforce_time_on_windows\\\":false,\\\"experiment_timeout_minutes\\\":20,\\\"experiment_exit_score\\\":null,\\\"whitelist_models\\\":null,\\\"blacklist_algos\\\":[\\\"TensorFlowLinearClassifier\\\",\\\"TensorFlowDNN\\\"],\\\"supported_models\\\":[\\\"SGD\\\",\\\"MultinomialNaiveBayes\\\",\\\"TensorFlowDNN\\\",\\\"RandomForest\\\",\\\"LogisticRegression\\\",\\\"AveragedPerceptronClassifier\\\",\\\"BernoulliNaiveBayes\\\",\\\"XGBoostClassifier\\\",\\\"ExtremeRandomTrees\\\",\\\"DecisionTree\\\",\\\"LinearSVM\\\",\\\"KNN\\\",\\\"SVM\\\",\\\"LightGBM\\\",\\\"TensorFlowLinearClassifier\\\",\\\"GradientBoosting\\\"],\\\"private_models\\\":[],\\\"auto_blacklist\\\":true,\\\"blacklist_samples_reached\\\":false,\\\"exclude_nan_labels\\\":true,\\\"verbosity\\\":20,\\\"_debug_log\\\":\\\"azureml_automl.log\\\",\\\"show_warnings\\\":false,\\\"model_explainability\\\":true,\\\"service_url\\\":null,\\\"sdk_url\\\":null,\\\"sdk_packages\\\":null,\\\"enable_onnx_compatible_models\\\":false,\\\"enable_split_onnx_featurizer_estimator_models\\\":false,\\\"vm_type\\\":\\\"STANDARD_D2_V2\\\",\\\"telemetry_verbosity\\\":20,\\\"send_telemetry\\\":true,\\\"enable_dnn\\\":false,\\\"scenario\\\":\\\"SDK-1.13.0\\\",\\\"environment_label\\\":null,\\\"save_mlflow\\\":false,\\\"force_text_dnn\\\":false,\\\"enable_feature_sweeping\\\":true,\\\"enable_early_stopping\\\":true,\\\"early_stopping_n_iters\\\":10,\\\"metrics\\\":null,\\\"enable_metric_confidence\\\":false,\\\"enable_ensembling\\\":true,\\\"enable_stack_ensembling\\\":true,\\\"ensemble_iterations\\\":15,\\\"enable_tf\\\":false,\\\"enable_subsampling\\\":null,\\\"subsample_seed\\\":null,\\\"enable_nimbusml\\\":false,\\\"enable_streaming\\\":false,\\\"force_streaming\\\":false,\\\"track_child_runs\\\":true,\\\"allowed_private_models\\\":[],\\\"label_column_name\\\":\\\"DEATH_EVENT\\\",\\\"weight_column_name\\\":null,\\\"cv_split_column_names\\\":null,\\\"enable_local_managed\\\":false,\\\"_local_managed_run_id\\\":null,\\\"cost_mode\\\":1,\\\"lag_length\\\":0,\\\"metric_operation\\\":\\\"maximize\\\",\\\"preprocess\\\":true}\", \"DataPrepJsonString\": \"{\\\\\\\"training_data\\\\\\\": {\\\\\\\"datasetId\\\\\\\": \\\\\\\"af7c438f-a3e7-4721-98b2-2c00221c2563\\\\\\\"}, \\\\\\\"datasets\\\\\\\": 0}\", \"EnableSubsampling\": null, \"runTemplate\": \"AutoML\", \"azureml.runsource\": \"automl\", \"display_task_type\": \"classification\", \"dependencies_versions\": \"{\\\"azureml-widgets\\\": \\\"1.32.0\\\", \\\"azureml-train\\\": \\\"1.32.0\\\", \\\"azureml-train-restclients-hyperdrive\\\": \\\"1.32.0\\\", \\\"azureml-train-core\\\": \\\"1.32.0\\\", \\\"azureml-train-automl\\\": \\\"1.32.0\\\", \\\"azureml-train-automl-runtime\\\": \\\"1.32.0\\\", \\\"azureml-train-automl-client\\\": \\\"1.32.0\\\", \\\"azureml-tensorboard\\\": \\\"1.32.0\\\", \\\"azureml-telemetry\\\": \\\"1.32.0\\\", \\\"azureml-sdk\\\": \\\"1.32.0\\\", \\\"azureml-samples\\\": \\\"0+unknown\\\", \\\"azureml-responsibleai\\\": \\\"1.32.0\\\", \\\"azureml-pipeline\\\": \\\"1.32.0\\\", \\\"azureml-pipeline-steps\\\": \\\"1.32.0\\\", \\\"azureml-pipeline-core\\\": \\\"1.32.0\\\", \\\"azureml-opendatasets\\\": \\\"1.32.0\\\", \\\"azureml-model-management-sdk\\\": \\\"1.0.1b6.post1\\\", \\\"azureml-mlflow\\\": \\\"1.32.0\\\", \\\"azureml-interpret\\\": \\\"1.32.0\\\", \\\"azureml-explain-model\\\": \\\"1.32.0\\\", \\\"azureml-defaults\\\": \\\"1.32.0\\\", \\\"azureml-dataset-runtime\\\": \\\"1.32.0\\\", \\\"azureml-dataprep\\\": \\\"2.18.0\\\", \\\"azureml-dataprep-rslex\\\": \\\"1.16.1\\\", \\\"azureml-dataprep-native\\\": \\\"36.0.0\\\", \\\"azureml-datadrift\\\": \\\"1.32.0\\\", \\\"azureml-core\\\": \\\"1.32.0\\\", \\\"azureml-contrib-services\\\": \\\"1.32.0\\\", \\\"azureml-contrib-server\\\": \\\"1.32.0\\\", \\\"azureml-contrib-reinforcementlearning\\\": \\\"1.32.0\\\", \\\"azureml-contrib-pipeline-steps\\\": \\\"1.32.0\\\", \\\"azureml-contrib-notebook\\\": \\\"1.32.0\\\", \\\"azureml-contrib-fairness\\\": \\\"1.32.0\\\", \\\"azureml-contrib-dataset\\\": \\\"1.32.0\\\", \\\"azureml-cli-common\\\": \\\"1.32.0\\\", \\\"azureml-automl-runtime\\\": \\\"1.32.0\\\", \\\"azureml-automl-dnn-nlp\\\": \\\"1.32.0\\\", \\\"azureml-automl-core\\\": \\\"1.32.0\\\", \\\"azureml-accel-models\\\": \\\"1.32.0\\\"}\", \"_aml_system_scenario_identification\": \"Remote.Parent\", \"ClientType\": \"SDK\", \"environment_cpu_name\": \"AzureML-AutoML\", \"environment_cpu_label\": \"prod\", \"environment_gpu_name\": \"AzureML-AutoML-GPU\", \"environment_gpu_label\": \"prod\", \"root_attribution\": \"automl\", \"attribution\": \"AutoML\", \"Orchestrator\": \"AutoML\", \"CancelUri\": \"https://southcentralus.api.azureml.ms/jasmine/v1.0/subscriptions/5a4ab2ba-6c51-4805-8155-58759ad589d8/resourceGroups/aml-quickstarts-154849/providers/Microsoft.MachineLearningServices/workspaces/quick-starts-ws-154849/experimentids/aaed1cc7-465c-43e9-99bf-a47ac3b067f4/cancel/AutoML_082e177e-f879-4eb9-ba30-bdc8979214da\", \"ClientSdkVersion\": \"1.33.0\", \"snapshotId\": \"00000000-0000-0000-0000-000000000000\", \"SetupRunId\": \"AutoML_082e177e-f879-4eb9-ba30-bdc8979214da_setup\", \"SetupRunContainerId\": \"dcid.AutoML_082e177e-f879-4eb9-ba30-bdc8979214da_setup\", \"FeaturizationRunJsonPath\": \"featurizer_container.json\", \"FeaturizationRunId\": \"AutoML_082e177e-f879-4eb9-ba30-bdc8979214da_featurize\", \"ProblemInfoJsonString\": \"{\\\"dataset_num_categorical\\\": 0, \\\"is_sparse\\\": false, \\\"subsampling\\\": false, \\\"has_extra_col\\\": true, \\\"dataset_classes\\\": 2, \\\"dataset_features\\\": 20, \\\"dataset_samples\\\": 299, \\\"single_frequency_class_detected\\\": false}\", \"ModelExplainRunId\": \"AutoML_082e177e-f879-4eb9-ba30-bdc8979214da_ModelExplain\"}, \"tags\": {\"model_explain_run\": \"best_run\", \"_aml_system_azureml.automlComponent\": \"AutoML\", \"pipeline_id\": \"\", \"score\": \"\", \"predicted_cost\": \"\", \"fit_time\": \"\", \"training_percent\": \"\", \"iteration\": \"\", \"run_preprocessor\": \"\", \"run_algorithm\": \"\", \"dynamic_whitelisting_iterations\": \"<25>;<30>;<35>;\", \"automl_best_child_run_id\": \"AutoML_082e177e-f879-4eb9-ba30-bdc8979214da_38\", \"model_explain_best_run_child_id\": \"AutoML_082e177e-f879-4eb9-ba30-bdc8979214da_38\"}, \"end_time_utc\": \"2021-08-18T09:46:10.650502Z\", \"status\": \"Completed\", \"log_files\": {}, \"log_groups\": [], \"run_duration\": \"0:33:33\", \"run_number\": \"1\", \"run_queued_details\": {\"status\": \"Completed\", \"details\": null}}, \"child_runs\": [{\"run_id\": \"AutoML_082e177e-f879-4eb9-ba30-bdc8979214da_1\", \"run_number\": 5, \"metric\": null, \"status\": \"Completed\", \"run_type\": \"azureml.scriptrun\", \"training_percent\": \"100\", \"start_time\": \"2021-08-18T09:29:58.176674Z\", \"end_time\": \"2021-08-18T09:36:16.804342Z\", \"created_time\": \"2021-08-18T09:26:02.312651Z\", \"created_time_dt\": \"2021-08-18T09:26:02.312651Z\", \"duration\": \"0:10:14\", \"iteration\": \"1\", \"goal\": \"accuracy_max\", \"run_name\": \"MaxAbsScaler, XGBoostClassifier\", \"run_properties\": \"copy=True\", \"primary_metric\": 0.83608108, \"best_metric\": 0.83608108}, {\"run_id\": \"AutoML_082e177e-f879-4eb9-ba30-bdc8979214da_0\", \"run_number\": 6, \"metric\": null, \"status\": \"Completed\", \"run_type\": \"azureml.scriptrun\", \"training_percent\": \"100\", \"start_time\": \"2021-08-18T09:27:16.975719Z\", \"end_time\": \"2021-08-18T09:28:05.256123Z\", \"created_time\": \"2021-08-18T09:26:02.334733Z\", \"created_time_dt\": \"2021-08-18T09:26:02.334733Z\", \"duration\": \"0:02:02\", \"iteration\": \"0\", \"goal\": \"accuracy_max\", \"run_name\": \"MaxAbsScaler, LightGBM\", \"run_properties\": \"copy=True\", \"primary_metric\": 0.83265766, \"best_metric\": 0.83265766}, {\"run_id\": \"AutoML_082e177e-f879-4eb9-ba30-bdc8979214da_2\", \"run_number\": 7, \"metric\": null, \"status\": \"Completed\", \"run_type\": \"azureml.scriptrun\", \"training_percent\": \"100\", \"start_time\": \"2021-08-18T09:26:22.49384Z\", \"end_time\": \"2021-08-18T09:27:05.202682Z\", \"created_time\": \"2021-08-18T09:26:02.348257Z\", \"created_time_dt\": \"2021-08-18T09:26:02.348257Z\", \"duration\": \"0:01:02\", \"iteration\": \"2\", \"goal\": \"accuracy_max\", \"run_name\": \"MaxAbsScaler, ExtremeRandomTrees\", \"run_properties\": \"copy=True\", \"primary_metric\": 0.82585586, \"best_metric\": 0.83608108}, {\"run_id\": \"AutoML_082e177e-f879-4eb9-ba30-bdc8979214da_3\", \"run_number\": 8, \"metric\": null, \"status\": \"Completed\", \"run_type\": \"azureml.scriptrun\", \"training_percent\": \"100\", \"start_time\": \"2021-08-18T09:29:33.002407Z\", \"end_time\": \"2021-08-18T09:31:06.728071Z\", \"created_time\": \"2021-08-18T09:26:02.339042Z\", \"created_time_dt\": \"2021-08-18T09:26:02.339042Z\", \"duration\": \"0:05:04\", \"iteration\": \"3\", \"goal\": \"accuracy_max\", \"run_name\": \"SparseNormalizer, XGBoostClassifier\", \"run_properties\": \"copy=True, norm='l2'\", \"primary_metric\": 0.8127027, \"best_metric\": 0.83608108}, {\"run_id\": \"AutoML_082e177e-f879-4eb9-ba30-bdc8979214da_4\", \"run_number\": 9, \"metric\": null, \"status\": \"Completed\", \"run_type\": \"azureml.scriptrun\", \"training_percent\": \"100\", \"start_time\": \"2021-08-18T09:28:11.336577Z\", \"end_time\": \"2021-08-18T09:30:05.203007Z\", \"created_time\": \"2021-08-18T09:26:02.35193Z\", \"created_time_dt\": \"2021-08-18T09:26:02.35193Z\", \"duration\": \"0:04:02\", \"iteration\": \"4\", \"goal\": \"accuracy_max\", \"run_name\": \"StandardScalerWrapper, KNN\", \"run_properties\": \"\\n    copy=True,\\n    with_mean=False,\\n    with_std=False\\n\", \"primary_metric\": 0.59527027, \"best_metric\": 0.83608108}, {\"run_id\": \"AutoML_082e177e-f879-4eb9-ba30-bdc8979214da_5\", \"run_number\": 10, \"metric\": null, \"status\": \"Completed\", \"run_type\": \"azureml.scriptrun\", \"training_percent\": \"100\", \"start_time\": \"2021-08-18T09:30:19.042468Z\", \"end_time\": \"2021-08-18T09:36:26.330502Z\", \"created_time\": \"2021-08-18T09:27:08.134096Z\", \"created_time_dt\": \"2021-08-18T09:27:08.134096Z\", \"duration\": \"0:09:18\", \"iteration\": \"5\", \"goal\": \"accuracy_max\", \"run_name\": \"MaxAbsScaler, LightGBM\", \"run_properties\": \"copy=True\", \"primary_metric\": 0.83941441, \"best_metric\": 0.83941441}, {\"run_id\": \"AutoML_082e177e-f879-4eb9-ba30-bdc8979214da_6\", \"run_number\": 11, \"metric\": null, \"status\": \"Completed\", \"run_type\": \"azureml.scriptrun\", \"training_percent\": \"100\", \"start_time\": \"2021-08-18T09:30:26.337919Z\", \"end_time\": \"2021-08-18T09:31:24.536334Z\", \"created_time\": \"2021-08-18T09:28:09.417123Z\", \"created_time_dt\": \"2021-08-18T09:28:09.417123Z\", \"duration\": \"0:03:15\", \"iteration\": \"6\", \"goal\": \"accuracy_max\", \"run_name\": \"RobustScaler, LogisticRegression\", \"run_properties\": \"copy=True, quantile_range=[10, 90], with_centering=True,\\n             with_scaling=True\", \"primary_metric\": 0.79905405, \"best_metric\": 0.83941441}, {\"run_id\": \"AutoML_082e177e-f879-4eb9-ba30-bdc8979214da_7\", \"run_number\": 12, \"metric\": null, \"status\": \"Completed\", \"run_type\": \"azureml.scriptrun\", \"training_percent\": \"100\", \"start_time\": \"2021-08-18T09:31:21.970736Z\", \"end_time\": \"2021-08-18T09:32:11.807097Z\", \"created_time\": \"2021-08-18T09:30:08.214533Z\", \"created_time_dt\": \"2021-08-18T09:30:08.214533Z\", \"duration\": \"0:02:03\", \"iteration\": \"7\", \"goal\": \"accuracy_max\", \"run_name\": \"MaxAbsScaler, LightGBM\", \"run_properties\": \"copy=True\", \"primary_metric\": 0.82599099, \"best_metric\": 0.83941441}, {\"run_id\": \"AutoML_082e177e-f879-4eb9-ba30-bdc8979214da_8\", \"run_number\": 13, \"metric\": null, \"status\": \"Completed\", \"run_type\": \"azureml.scriptrun\", \"training_percent\": \"100\", \"start_time\": \"2021-08-18T09:31:54.798242Z\", \"end_time\": \"2021-08-18T09:38:12.182595Z\", \"created_time\": \"2021-08-18T09:31:09.678884Z\", \"created_time_dt\": \"2021-08-18T09:31:09.678884Z\", \"duration\": \"0:07:02\", \"iteration\": \"8\", \"goal\": \"accuracy_max\", \"run_name\": \"StandardScalerWrapper, KNN\", \"run_properties\": \"\\n    copy=True,\\n    with_mean=False,\\n    with_std=False\\n\", \"primary_metric\": 0.6118018, \"best_metric\": 0.83941441}, {\"run_id\": \"AutoML_082e177e-f879-4eb9-ba30-bdc8979214da_9\", \"run_number\": 14, \"metric\": null, \"status\": \"Completed\", \"run_type\": \"azureml.scriptrun\", \"training_percent\": \"100\", \"start_time\": \"2021-08-18T09:32:45.213207Z\", \"end_time\": \"2021-08-18T09:33:29.589251Z\", \"created_time\": \"2021-08-18T09:31:27.34924Z\", \"created_time_dt\": \"2021-08-18T09:31:27.34924Z\", \"duration\": \"0:02:02\", \"iteration\": \"9\", \"goal\": \"accuracy_max\", \"run_name\": \"StandardScalerWrapper, SVM\", \"run_properties\": \"\\n    copy=True,\\n    with_mean=True,\\n    with_std=True\\n\", \"primary_metric\": 0.76243243, \"best_metric\": 0.83941441}, {\"run_id\": \"AutoML_082e177e-f879-4eb9-ba30-bdc8979214da_10\", \"run_number\": 15, \"metric\": null, \"status\": \"Completed\", \"run_type\": \"azureml.scriptrun\", \"training_percent\": \"100\", \"start_time\": \"2021-08-18T09:33:47.722207Z\", \"end_time\": \"2021-08-18T09:35:16.73714Z\", \"created_time\": \"2021-08-18T09:32:14.621507Z\", \"created_time_dt\": \"2021-08-18T09:32:14.621507Z\", \"duration\": \"0:03:02\", \"iteration\": \"10\", \"goal\": \"accuracy_max\", \"run_name\": \"StandardScalerWrapper, XGBoostClassifier\", \"run_properties\": \"\\n    copy=True,\\n    with_mean=False,\\n    with_std=False\\n\", \"primary_metric\": 0.83936937, \"best_metric\": 0.83941441}, {\"run_id\": \"AutoML_082e177e-f879-4eb9-ba30-bdc8979214da_11\", \"run_number\": 16, \"metric\": null, \"status\": \"Completed\", \"run_type\": \"azureml.scriptrun\", \"training_percent\": \"100\", \"start_time\": \"2021-08-18T09:35:24.611974Z\", \"end_time\": \"2021-08-18T09:36:35.791701Z\", \"created_time\": \"2021-08-18T09:33:32.909589Z\", \"created_time_dt\": \"2021-08-18T09:33:32.909589Z\", \"duration\": \"0:03:02\", \"iteration\": \"11\", \"goal\": \"accuracy_max\", \"run_name\": \"MinMaxScaler, RandomForest\", \"run_properties\": \"copy=True, feature_range=(0, 1\", \"primary_metric\": 0.83252252, \"best_metric\": 0.83941441}, {\"run_id\": \"AutoML_082e177e-f879-4eb9-ba30-bdc8979214da_12\", \"run_number\": 17, \"metric\": null, \"status\": \"Completed\", \"run_type\": \"azureml.scriptrun\", \"training_percent\": \"100\", \"start_time\": \"2021-08-18T09:36:12.918667Z\", \"end_time\": \"2021-08-18T09:37:22.657404Z\", \"created_time\": \"2021-08-18T09:35:19.977934Z\", \"created_time_dt\": \"2021-08-18T09:35:19.977934Z\", \"duration\": \"0:02:02\", \"iteration\": \"12\", \"goal\": \"accuracy_max\", \"run_name\": \"StandardScalerWrapper, LogisticRegression\", \"run_properties\": \"\\n    copy=True,\\n    with_mean=True,\\n    with_std=False\\n\", \"primary_metric\": 0.74558559, \"best_metric\": 0.83941441}, {\"run_id\": \"AutoML_082e177e-f879-4eb9-ba30-bdc8979214da_13\", \"run_number\": 18, \"metric\": null, \"status\": \"Completed\", \"run_type\": \"azureml.scriptrun\", \"training_percent\": \"100\", \"start_time\": \"2021-08-18T09:36:28.915338Z\", \"end_time\": \"2021-08-18T09:37:21.920746Z\", \"created_time\": \"2021-08-18T09:36:19.611268Z\", \"created_time_dt\": \"2021-08-18T09:36:19.611268Z\", \"duration\": \"0:01:02\", \"iteration\": \"13\", \"goal\": \"accuracy_max\", \"run_name\": \"StandardScalerWrapper, KNN\", \"run_properties\": \"\\n    copy=True,\\n    with_mean=False,\\n    with_std=True\\n\", \"primary_metric\": 0.79936937, \"best_metric\": 0.83941441}, {\"run_id\": \"AutoML_082e177e-f879-4eb9-ba30-bdc8979214da_14\", \"run_number\": 19, \"metric\": null, \"status\": \"Completed\", \"run_type\": \"azureml.scriptrun\", \"training_percent\": \"100\", \"start_time\": \"2021-08-18T09:37:03.188954Z\", \"end_time\": \"2021-08-18T09:38:42.756716Z\", \"created_time\": \"2021-08-18T09:36:33.422917Z\", \"created_time_dt\": \"2021-08-18T09:36:33.422917Z\", \"duration\": \"0:02:09\", \"iteration\": \"14\", \"goal\": \"accuracy_max\", \"run_name\": \"RobustScaler, KNN\", \"run_properties\": \"copy=True, quantile_range=[10, 90], with_centering=False,\\n             with_scaling=True\", \"primary_metric\": 0.77252252, \"best_metric\": 0.83941441}, {\"run_id\": \"AutoML_082e177e-f879-4eb9-ba30-bdc8979214da_15\", \"run_number\": 20, \"metric\": null, \"status\": \"Canceled\", \"run_type\": \"azureml.scriptrun\", \"training_percent\": \"100\", \"start_time\": \"2021-08-18T09:36:44.601076Z\", \"end_time\": \"2021-08-18T09:44:04.93884Z\", \"created_time\": \"2021-08-18T09:36:44.601076Z\", \"created_time_dt\": \"2021-08-18T09:36:44.601076Z\", \"duration\": \"0:07:20\", \"iteration\": \"15\", \"goal\": null, \"run_name\": \"Canceled\", \"run_properties\": null}, {\"run_id\": \"AutoML_082e177e-f879-4eb9-ba30-bdc8979214da_16\", \"run_number\": 21, \"metric\": null, \"status\": \"Completed\", \"run_type\": \"azureml.scriptrun\", \"training_percent\": \"100\", \"start_time\": \"2021-08-18T09:37:42.203534Z\", \"end_time\": \"2021-08-18T09:38:27.209707Z\", \"created_time\": \"2021-08-18T09:37:24.91019Z\", \"created_time_dt\": \"2021-08-18T09:37:24.91019Z\", \"duration\": \"0:01:02\", \"iteration\": \"16\", \"goal\": \"accuracy_max\", \"run_name\": \"SparseNormalizer, KNN\", \"run_properties\": \"copy=True, norm='max'\", \"primary_metric\": 0.73918919, \"best_metric\": 0.83941441}, {\"run_id\": \"AutoML_082e177e-f879-4eb9-ba30-bdc8979214da_17\", \"run_number\": 22, \"metric\": null, \"status\": \"Completed\", \"run_type\": \"azureml.scriptrun\", \"training_percent\": \"100\", \"start_time\": \"2021-08-18T09:37:47.383004Z\", \"end_time\": \"2021-08-18T09:38:31.474179Z\", \"created_time\": \"2021-08-18T09:37:29.105623Z\", \"created_time_dt\": \"2021-08-18T09:37:29.105623Z\", \"duration\": \"0:01:02\", \"iteration\": \"17\", \"goal\": \"accuracy_max\", \"run_name\": \"MaxAbsScaler, LogisticRegression\", \"run_properties\": \"copy=True\", \"primary_metric\": 0.84265766, \"best_metric\": 0.84265766}, {\"run_id\": \"AutoML_082e177e-f879-4eb9-ba30-bdc8979214da_18\", \"run_number\": 23, \"metric\": null, \"status\": \"Completed\", \"run_type\": \"azureml.scriptrun\", \"training_percent\": \"100\", \"start_time\": \"2021-08-18T09:38:35.596546Z\", \"end_time\": \"2021-08-18T09:39:17.467703Z\", \"created_time\": \"2021-08-18T09:38:15.124919Z\", \"created_time_dt\": \"2021-08-18T09:38:15.124919Z\", \"duration\": \"0:01:02\", \"iteration\": \"18\", \"goal\": \"accuracy_max\", \"run_name\": \"StandardScalerWrapper, XGBoostClassifier\", \"run_properties\": \"\\n    copy=True,\\n    with_mean=False,\\n    with_std=False\\n\", \"primary_metric\": 0.84603604, \"best_metric\": 0.84603604}, {\"run_id\": \"AutoML_082e177e-f879-4eb9-ba30-bdc8979214da_19\", \"run_number\": 24, \"metric\": null, \"status\": \"Completed\", \"run_type\": \"azureml.scriptrun\", \"training_percent\": \"100\", \"start_time\": \"2021-08-18T09:38:37.366755Z\", \"end_time\": \"2021-08-18T09:39:32.653931Z\", \"created_time\": \"2021-08-18T09:38:30.372212Z\", \"created_time_dt\": \"2021-08-18T09:38:30.372212Z\", \"duration\": \"0:01:02\", \"iteration\": \"19\", \"goal\": \"accuracy_max\", \"run_name\": \"StandardScalerWrapper, XGBoostClassifier\", \"run_properties\": \"\\n    copy=True,\\n    with_mean=False,\\n    with_std=False\\n\", \"primary_metric\": 0.84936937, \"best_metric\": 0.84936937}, {\"run_id\": \"AutoML_082e177e-f879-4eb9-ba30-bdc8979214da_20\", \"run_number\": 25, \"metric\": null, \"status\": \"Completed\", \"run_type\": \"azureml.scriptrun\", \"training_percent\": \"100\", \"start_time\": \"2021-08-18T09:38:57.451016Z\", \"end_time\": \"2021-08-18T09:40:37.299963Z\", \"created_time\": \"2021-08-18T09:38:34.657357Z\", \"created_time_dt\": \"2021-08-18T09:38:34.657357Z\", \"duration\": \"0:02:02\", \"iteration\": \"20\", \"goal\": \"accuracy_max\", \"run_name\": \"MaxAbsScaler, LogisticRegression\", \"run_properties\": \"copy=True\", \"primary_metric\": 0.81576577, \"best_metric\": 0.84936937}, {\"run_id\": \"AutoML_082e177e-f879-4eb9-ba30-bdc8979214da_21\", \"run_number\": 26, \"metric\": null, \"status\": \"Completed\", \"run_type\": \"azureml.scriptrun\", \"training_percent\": \"100\", \"start_time\": \"2021-08-18T09:39:06.560043Z\", \"end_time\": \"2021-08-18T09:39:47.963686Z\", \"created_time\": \"2021-08-18T09:38:45.714421Z\", \"created_time_dt\": \"2021-08-18T09:38:45.714421Z\", \"duration\": \"0:01:02\", \"iteration\": \"21\", \"goal\": \"accuracy_max\", \"run_name\": \"StandardScalerWrapper, XGBoostClassifier\", \"run_properties\": \"\\n    copy=True,\\n    with_mean=False,\\n    with_std=False\\n\", \"primary_metric\": 0.85599099, \"best_metric\": 0.85599099}, {\"run_id\": \"AutoML_082e177e-f879-4eb9-ba30-bdc8979214da_22\", \"run_number\": 27, \"metric\": null, \"status\": \"Completed\", \"run_type\": \"azureml.scriptrun\", \"training_percent\": \"100\", \"start_time\": \"2021-08-18T09:39:39.742468Z\", \"end_time\": \"2021-08-18T09:40:22.075123Z\", \"created_time\": \"2021-08-18T09:39:20.15904Z\", \"created_time_dt\": \"2021-08-18T09:39:20.15904Z\", \"duration\": \"0:01:01\", \"iteration\": \"22\", \"goal\": \"accuracy_max\", \"run_name\": \"SparseNormalizer, RandomForest\", \"run_properties\": \"copy=True, norm='l2'\", \"primary_metric\": 0.84261261, \"best_metric\": 0.85599099}, {\"run_id\": \"AutoML_082e177e-f879-4eb9-ba30-bdc8979214da_23\", \"run_number\": 28, \"metric\": null, \"status\": \"Completed\", \"run_type\": \"azureml.scriptrun\", \"training_percent\": \"100\", \"start_time\": \"2021-08-18T09:39:55.428193Z\", \"end_time\": \"2021-08-18T09:40:37.497416Z\", \"created_time\": \"2021-08-18T09:39:35.653787Z\", \"created_time_dt\": \"2021-08-18T09:39:35.653787Z\", \"duration\": \"0:01:01\", \"iteration\": \"23\", \"goal\": \"accuracy_max\", \"run_name\": \"StandardScalerWrapper, RandomForest\", \"run_properties\": \"\\n    copy=True,\\n    with_mean=False,\\n    with_std=False\\n\", \"primary_metric\": 0.84603604, \"best_metric\": 0.85599099}, {\"run_id\": \"AutoML_082e177e-f879-4eb9-ba30-bdc8979214da_24\", \"run_number\": 29, \"metric\": null, \"status\": \"Completed\", \"run_type\": \"azureml.scriptrun\", \"training_percent\": \"100\", \"start_time\": \"2021-08-18T09:40:12.889921Z\", \"end_time\": \"2021-08-18T09:40:53.283663Z\", \"created_time\": \"2021-08-18T09:39:50.794094Z\", \"created_time_dt\": \"2021-08-18T09:39:50.794094Z\", \"duration\": \"0:01:02\", \"iteration\": \"24\", \"goal\": \"accuracy_max\", \"run_name\": \"StandardScalerWrapper, XGBoostClassifier\", \"run_properties\": \"\\n    copy=True,\\n    with_mean=False,\\n    with_std=False\\n\", \"primary_metric\": 0.83599099, \"best_metric\": 0.85599099}, {\"run_id\": \"AutoML_082e177e-f879-4eb9-ba30-bdc8979214da_25\", \"run_number\": 30, \"metric\": null, \"status\": \"Completed\", \"run_type\": \"azureml.scriptrun\", \"training_percent\": \"100\", \"start_time\": \"2021-08-18T09:40:48.894325Z\", \"end_time\": \"2021-08-18T09:41:28.9621Z\", \"created_time\": \"2021-08-18T09:40:27.024881Z\", \"created_time_dt\": \"2021-08-18T09:40:27.024881Z\", \"duration\": \"0:01:01\", \"iteration\": \"25\", \"goal\": \"accuracy_max\", \"run_name\": \"StandardScalerWrapper, XGBoostClassifier\", \"run_properties\": \"\\n    copy=True,\\n    with_mean=False,\\n    with_std=False\\n\", \"primary_metric\": 0.82941441, \"best_metric\": 0.85599099}, {\"run_id\": \"AutoML_082e177e-f879-4eb9-ba30-bdc8979214da_26\", \"run_number\": 31, \"metric\": null, \"status\": \"Completed\", \"run_type\": \"azureml.scriptrun\", \"training_percent\": \"100\", \"start_time\": \"2021-08-18T09:40:57.170273Z\", \"end_time\": \"2021-08-18T09:41:41.225951Z\", \"created_time\": \"2021-08-18T09:40:39.414692Z\", \"created_time_dt\": \"2021-08-18T09:40:39.414692Z\", \"duration\": \"0:01:01\", \"iteration\": \"26\", \"goal\": \"accuracy_max\", \"run_name\": \"SparseNormalizer, XGBoostClassifier\", \"run_properties\": \"copy=True, norm='l1'\", \"primary_metric\": 0.81599099, \"best_metric\": 0.85599099}, {\"run_id\": \"AutoML_082e177e-f879-4eb9-ba30-bdc8979214da_27\", \"run_number\": 32, \"metric\": null, \"status\": \"Completed\", \"run_type\": \"azureml.scriptrun\", \"training_percent\": \"100\", \"start_time\": \"2021-08-18T09:40:57.019697Z\", \"end_time\": \"2021-08-18T09:41:41.403404Z\", \"created_time\": \"2021-08-18T09:40:39.428378Z\", \"created_time_dt\": \"2021-08-18T09:40:39.428378Z\", \"duration\": \"0:01:01\", \"iteration\": \"27\", \"goal\": \"accuracy_max\", \"run_name\": \"RobustScaler, RandomForest\", \"run_properties\": \"copy=True, quantile_range=[25, 75], with_centering=True,\\n             with_scaling=True\", \"primary_metric\": 0.83238739, \"best_metric\": 0.85599099}, {\"run_id\": \"AutoML_082e177e-f879-4eb9-ba30-bdc8979214da_28\", \"run_number\": 33, \"metric\": null, \"status\": \"Completed\", \"run_type\": \"azureml.scriptrun\", \"training_percent\": \"100\", \"start_time\": \"2021-08-18T09:41:14.12764Z\", \"end_time\": \"2021-08-18T09:41:57.022854Z\", \"created_time\": \"2021-08-18T09:40:55.193275Z\", \"created_time_dt\": \"2021-08-18T09:40:55.193275Z\", \"duration\": \"0:01:01\", \"iteration\": \"28\", \"goal\": \"accuracy_max\", \"run_name\": \"RobustScaler, LightGBM\", \"run_properties\": \"copy=True, quantile_range=[25, 75], with_centering=True,\\n             with_scaling=False\", \"primary_metric\": 0.8427027, \"best_metric\": 0.85599099}, {\"run_id\": \"AutoML_082e177e-f879-4eb9-ba30-bdc8979214da_29\", \"run_number\": 34, \"metric\": null, \"status\": \"Completed\", \"run_type\": \"azureml.scriptrun\", \"training_percent\": \"100\", \"start_time\": \"2021-08-18T09:41:48.351718Z\", \"end_time\": \"2021-08-18T09:42:32.477701Z\", \"created_time\": \"2021-08-18T09:41:30.753848Z\", \"created_time_dt\": \"2021-08-18T09:41:30.753848Z\", \"duration\": \"0:01:01\", \"iteration\": \"29\", \"goal\": \"accuracy_max\", \"run_name\": \"StandardScalerWrapper, XGBoostClassifier\", \"run_properties\": \"\\n    copy=True,\\n    with_mean=False,\\n    with_std=False\\n\", \"primary_metric\": 0.8459009, \"best_metric\": 0.85599099}, {\"run_id\": \"AutoML_082e177e-f879-4eb9-ba30-bdc8979214da_31\", \"run_number\": 35, \"metric\": null, \"status\": \"Completed\", \"run_type\": \"azureml.scriptrun\", \"training_percent\": \"100\", \"start_time\": \"2021-08-18T09:42:06.604103Z\", \"end_time\": \"2021-08-18T09:42:48.007343Z\", \"created_time\": \"2021-08-18T09:41:44.457187Z\", \"created_time_dt\": \"2021-08-18T09:41:44.457187Z\", \"duration\": \"0:01:03\", \"iteration\": \"31\", \"goal\": \"accuracy_max\", \"run_name\": \"SparseNormalizer, XGBoostClassifier\", \"run_properties\": \"copy=True, norm='l2'\", \"primary_metric\": 0.82265766, \"best_metric\": 0.85599099}, {\"run_id\": \"AutoML_082e177e-f879-4eb9-ba30-bdc8979214da_30\", \"run_number\": 36, \"metric\": null, \"status\": \"Completed\", \"run_type\": \"azureml.scriptrun\", \"training_percent\": \"100\", \"start_time\": \"2021-08-18T09:42:06.430176Z\", \"end_time\": \"2021-08-18T09:42:46.318553Z\", \"created_time\": \"2021-08-18T09:41:44.512566Z\", \"created_time_dt\": \"2021-08-18T09:41:44.512566Z\", \"duration\": \"0:01:01\", \"iteration\": \"30\", \"goal\": \"accuracy_max\", \"run_name\": \"StandardScalerWrapper, XGBoostClassifier\", \"run_properties\": \"\\n    copy=True,\\n    with_mean=False,\\n    with_std=False\\n\", \"primary_metric\": 0.8359009, \"best_metric\": 0.85599099}, {\"run_id\": \"AutoML_082e177e-f879-4eb9-ba30-bdc8979214da_32\", \"run_number\": 37, \"metric\": null, \"status\": \"Completed\", \"run_type\": \"azureml.scriptrun\", \"training_percent\": \"100\", \"start_time\": \"2021-08-18T09:42:18.689728Z\", \"end_time\": \"2021-08-18T09:44:00.683556Z\", \"created_time\": \"2021-08-18T09:41:58.831828Z\", \"created_time_dt\": \"2021-08-18T09:41:58.831828Z\", \"duration\": \"0:02:01\", \"iteration\": \"32\", \"goal\": \"accuracy_max\", \"run_name\": \"StandardScalerWrapper, RandomForest\", \"run_properties\": \"\\n    copy=True,\\n    with_mean=True,\\n    with_std=False\\n\", \"primary_metric\": 0.83923423, \"best_metric\": 0.85599099}, {\"run_id\": \"AutoML_082e177e-f879-4eb9-ba30-bdc8979214da_33\", \"run_number\": 38, \"metric\": null, \"status\": \"Completed\", \"run_type\": \"azureml.scriptrun\", \"training_percent\": \"100\", \"start_time\": \"2021-08-18T09:42:52.839269Z\", \"end_time\": \"2021-08-18T09:43:36.294001Z\", \"created_time\": \"2021-08-18T09:42:34.35424Z\", \"created_time_dt\": \"2021-08-18T09:42:34.35424Z\", \"duration\": \"0:01:01\", \"iteration\": \"33\", \"goal\": \"accuracy_max\", \"run_name\": \"RobustScaler, LightGBM\", \"run_properties\": \"copy=True, quantile_range=[10, 90], with_centering=True,\\n             with_scaling=False\", \"primary_metric\": 0.83927928, \"best_metric\": 0.85599099}, {\"run_id\": \"AutoML_082e177e-f879-4eb9-ba30-bdc8979214da_34\", \"run_number\": 39, \"metric\": null, \"status\": \"Canceled\", \"run_type\": \"azureml.scriptrun\", \"training_percent\": \"100\", \"start_time\": \"2021-08-18T09:43:13.208628Z\", \"end_time\": \"2021-08-18T09:44:02.835336Z\", \"created_time\": \"2021-08-18T09:42:53.129513Z\", \"created_time_dt\": \"2021-08-18T09:42:53.129513Z\", \"duration\": \"0:01:09\", \"iteration\": \"34\", \"goal\": \"accuracy_max\", \"run_name\": \"MaxAbsScaler, LightGBM\", \"run_properties\": \"copy=True\", \"primary_metric\": 0.83265766, \"best_metric\": 0.85599099}, {\"run_id\": \"AutoML_082e177e-f879-4eb9-ba30-bdc8979214da_35\", \"run_number\": 40, \"metric\": null, \"status\": \"Completed\", \"run_type\": \"azureml.scriptrun\", \"training_percent\": \"100\", \"start_time\": \"2021-08-18T09:43:07.072462Z\", \"end_time\": \"2021-08-18T09:43:58.913385Z\", \"created_time\": \"2021-08-18T09:42:57.117695Z\", \"created_time_dt\": \"2021-08-18T09:42:57.117695Z\", \"duration\": \"0:01:01\", \"iteration\": \"35\", \"goal\": \"accuracy_max\", \"run_name\": \"SparseNormalizer, XGBoostClassifier\", \"run_properties\": \"copy=True, norm='l1'\", \"primary_metric\": 0.80927928, \"best_metric\": 0.85599099}, {\"run_id\": \"AutoML_082e177e-f879-4eb9-ba30-bdc8979214da_36\", \"run_number\": 41, \"metric\": null, \"status\": \"Canceled\", \"run_type\": \"azureml.scriptrun\", \"training_percent\": \"100\", \"start_time\": \"2021-08-18T09:43:59.25858Z\", \"end_time\": \"2021-08-18T09:44:02.967337Z\", \"created_time\": \"2021-08-18T09:43:38.237882Z\", \"created_time_dt\": \"2021-08-18T09:43:38.237882Z\", \"duration\": \"0:00:24\", \"iteration\": \"36\", \"goal\": null, \"run_name\": \"Canceled\", \"run_properties\": null}, {\"run_id\": \"AutoML_082e177e-f879-4eb9-ba30-bdc8979214da_37\", \"run_number\": 42, \"metric\": null, \"status\": \"Canceled\", \"run_type\": \"azureml.scriptrun\", \"training_percent\": \"100\", \"start_time\": \"2021-08-18T09:44:00.915277Z\", \"end_time\": \"2021-08-18T09:44:05.791256Z\", \"created_time\": \"2021-08-18T09:44:00.915277Z\", \"created_time_dt\": \"2021-08-18T09:44:00.915277Z\", \"duration\": \"0:00:04\", \"iteration\": \"37\", \"goal\": null, \"run_name\": \"Canceled\", \"run_properties\": null}, {\"run_id\": \"AutoML_082e177e-f879-4eb9-ba30-bdc8979214da_38\", \"run_number\": 43, \"metric\": null, \"status\": \"Completed\", \"run_type\": \"azureml.scriptrun\", \"training_percent\": \"100\", \"start_time\": \"2021-08-18T09:44:27.496962Z\", \"end_time\": \"2021-08-18T09:46:08.589516Z\", \"created_time\": \"2021-08-18T09:44:06.415843Z\", \"created_time_dt\": \"2021-08-18T09:44:06.415843Z\", \"duration\": \"0:02:02\", \"iteration\": \"38\", \"goal\": \"accuracy_max\", \"run_name\": \"VotingEnsemble\", \"run_properties\": \"\\n    estimators=[('21', Pipeline(\\n        memory=None,\\n        steps=[('standardscalerwrapper', StandardScalerWrapper(\\n            copy=True,\\n            with_mean=False,\\n            with_std=False\\n        \", \"primary_metric\": 0.86612613, \"best_metric\": 0.86612613}, {\"run_id\": \"AutoML_082e177e-f879-4eb9-ba30-bdc8979214da_39\", \"run_number\": 44, \"metric\": null, \"status\": \"Completed\", \"run_type\": \"azureml.scriptrun\", \"training_percent\": \"100\", \"start_time\": \"2021-08-18T09:44:26.589565Z\", \"end_time\": \"2021-08-18T09:46:08.451498Z\", \"created_time\": \"2021-08-18T09:44:06.440618Z\", \"created_time_dt\": \"2021-08-18T09:44:06.440618Z\", \"duration\": \"0:02:02\", \"iteration\": \"39\", \"goal\": \"accuracy_max\", \"run_name\": \"StackEnsemble\", \"run_properties\": \"\\n    base_learners=[('21', Pipeline(\\n        memory=None,\\n        steps=[('standardscalerwrapper', StandardScalerWrapper(\\n            copy=True,\\n            with_mean=False,\\n            with_std=False\\n        \", \"primary_metric\": 0.8159009, \"best_metric\": 0.86612613}], \"children_metrics\": {\"categories\": [0], \"series\": {\"precision_score_macro\": [{\"categories\": [\"0\", \"1\", \"2\", \"3\", \"4\", \"5\", \"6\", \"7\", \"8\", \"9\", \"10\", \"11\", \"12\", \"13\", \"14\", \"16\", \"17\", \"18\", \"19\", \"20\", \"21\", \"22\", \"23\", \"24\", \"25\", \"26\", \"27\", \"28\", \"29\", \"30\", \"31\", \"32\", \"33\", \"34\", \"35\", \"38\", \"39\"], \"mode\": \"markers\", \"name\": \"precision_score_macro\", \"stepped\": false, \"type\": \"scatter\", \"data\": [0.8153687623181061, 0.8198750492907496, 0.7933630791997728, 0.8056581703558294, 0.5140364050902693, 0.8248529012405488, 0.7694044836546379, 0.8262946998117403, 0.547719335246982, 0.7328799563772224, 0.8252651217022544, 0.8052201649654037, 0.7307690979479271, 0.8133037120099499, 0.7333529994758194, 0.7167720779297821, 0.8297420463287992, 0.8351101569954029, 0.8389827434470292, 0.7952107761232539, 0.844082190415133, 0.8247180423046807, 0.8331637678712147, 0.8209309561032353, 0.8159516122258652, 0.8064625049872192, 0.8146380549830526, 0.8373892647113395, 0.8267133474734363, 0.8199598490605666, 0.8267478637088754, 0.8231757846884613, 0.8367694169943745, 0.8165837079757171, 0.8146525760423787, 0.8620010449320794, 0.8018474958337468]}, {\"categories\": [\"0\", \"1\", \"2\", \"3\", \"4\", \"5\", \"6\", \"7\", \"8\", \"9\", \"10\", \"11\", \"12\", \"13\", \"14\", \"16\", \"17\", \"18\", \"19\", \"20\", \"21\", \"22\", \"23\", \"24\", \"25\", \"26\", \"27\", \"28\", \"29\", \"30\", \"31\", \"32\", \"33\", \"34\", \"35\", \"38\", \"39\"], \"mode\": \"lines\", \"name\": \"precision_score_macro_max\", \"stepped\": true, \"type\": \"scatter\", \"data\": [0.8153687623181061, 0.8198750492907496, 0.8198750492907496, 0.8198750492907496, 0.8198750492907496, 0.8248529012405488, 0.8248529012405488, 0.8262946998117403, 0.8262946998117403, 0.8262946998117403, 0.8262946998117403, 0.8262946998117403, 0.8262946998117403, 0.8262946998117403, 0.8262946998117403, 0.8262946998117403, 0.8297420463287992, 0.8351101569954029, 0.8389827434470292, 0.8389827434470292, 0.844082190415133, 0.844082190415133, 0.844082190415133, 0.844082190415133, 0.844082190415133, 0.844082190415133, 0.844082190415133, 0.844082190415133, 0.844082190415133, 0.844082190415133, 0.844082190415133, 0.844082190415133, 0.844082190415133, 0.844082190415133, 0.844082190415133, 0.8620010449320794, 0.8620010449320794]}], \"AUC_micro\": [{\"categories\": [\"0\", \"1\", \"2\", \"3\", \"4\", \"5\", \"6\", \"7\", \"8\", \"9\", \"10\", \"11\", \"12\", \"13\", \"14\", \"16\", \"17\", \"18\", \"19\", \"20\", \"21\", \"22\", \"23\", \"24\", \"25\", \"26\", \"27\", \"28\", \"29\", \"30\", \"31\", \"32\", \"33\", \"34\", \"35\", \"38\", \"39\"], \"mode\": \"markers\", \"name\": \"AUC_micro\", \"stepped\": false, \"type\": \"scatter\", \"data\": [0.9048713984254525, 0.9101318642967292, 0.8955199253307362, 0.8685297459621785, 0.623255149744339, 0.9124995130265401, 0.8645999107215323, 0.8925871925980033, 0.6429210534859183, 0.8378156318480643, 0.9052263452641831, 0.9076928658388118, 0.828957909260612, 0.8792710900089278, 0.8405043665286909, 0.7956959013067121, 0.8909772177582989, 0.907072753834916, 0.9067168979790603, 0.8782969564158752, 0.9175873468062656, 0.8889744988231476, 0.9213444038633227, 0.9154648973297622, 0.9112565781998214, 0.890030882233585, 0.9105427562697833, 0.9103344371398425, 0.9117104049995941, 0.9034948380813246, 0.8693935476016557, 0.910103149095041, 0.9084783540297054, 0.9147029867705543, 0.8433079782485188, 0.9141805372940508, 0.8984850012174336]}, {\"categories\": [\"0\", \"1\", \"2\", \"3\", \"4\", \"5\", \"6\", \"7\", \"8\", \"9\", \"10\", \"11\", \"12\", \"13\", \"14\", \"16\", \"17\", \"18\", \"19\", \"20\", \"21\", \"22\", \"23\", \"24\", \"25\", \"26\", \"27\", \"28\", \"29\", \"30\", \"31\", \"32\", \"33\", \"34\", \"35\", \"38\", \"39\"], \"mode\": \"lines\", \"name\": \"AUC_micro_max\", \"stepped\": true, \"type\": \"scatter\", \"data\": [0.9048713984254525, 0.9101318642967292, 0.9101318642967292, 0.9101318642967292, 0.9101318642967292, 0.9124995130265401, 0.9124995130265401, 0.9124995130265401, 0.9124995130265401, 0.9124995130265401, 0.9124995130265401, 0.9124995130265401, 0.9124995130265401, 0.9124995130265401, 0.9124995130265401, 0.9124995130265401, 0.9124995130265401, 0.9124995130265401, 0.9124995130265401, 0.9124995130265401, 0.9175873468062656, 0.9175873468062656, 0.9213444038633227, 0.9213444038633227, 0.9213444038633227, 0.9213444038633227, 0.9213444038633227, 0.9213444038633227, 0.9213444038633227, 0.9213444038633227, 0.9213444038633227, 0.9213444038633227, 0.9213444038633227, 0.9213444038633227, 0.9213444038633227, 0.9213444038633227, 0.9213444038633227]}], \"AUC_macro\": [{\"categories\": [\"0\", \"1\", \"2\", \"3\", \"4\", \"5\", \"6\", \"7\", \"8\", \"9\", \"10\", \"11\", \"12\", \"13\", \"14\", \"16\", \"17\", \"18\", \"19\", \"20\", \"21\", \"22\", \"23\", \"24\", \"25\", \"26\", \"27\", \"28\", \"29\", \"30\", \"31\", \"32\", \"33\", \"34\", \"35\", \"38\", \"39\"], \"mode\": \"markers\", \"name\": \"AUC_macro\", \"stepped\": false, \"type\": \"scatter\", \"data\": [0.8962909376927739, 0.9035220546873088, 0.8806648252093168, 0.8500018640467086, 0.524563749378368, 0.9050173683295152, 0.8585921768125158, 0.9071334350024323, 0.5298596589380488, 0.8093055079990108, 0.9036474001516375, 0.8953047168619201, 0.860008962710234, 0.8810887663288793, 0.800386142158741, 0.736562363274934, 0.8710626323091013, 0.903096461827041, 0.8970191387917377, 0.8681838648116897, 0.9043709729797301, 0.875633189916382, 0.921416979520793, 0.9128748050181665, 0.9111328087846451, 0.8773043099137732, 0.8994307481595616, 0.9078948874676276, 0.9074349732188716, 0.8953411995255216, 0.8481247902416686, 0.9066386388773394, 0.9044874610376024, 0.907000510213787, 0.8190034254299792, 0.91118513796833, 0.9048026250533312]}, {\"categories\": [\"0\", \"1\", \"2\", \"3\", \"4\", \"5\", \"6\", \"7\", \"8\", \"9\", \"10\", \"11\", \"12\", \"13\", \"14\", \"16\", \"17\", \"18\", \"19\", \"20\", \"21\", \"22\", \"23\", \"24\", \"25\", \"26\", \"27\", \"28\", \"29\", \"30\", \"31\", \"32\", \"33\", \"34\", \"35\", \"38\", \"39\"], \"mode\": \"lines\", \"name\": \"AUC_macro_max\", \"stepped\": true, \"type\": \"scatter\", \"data\": [0.8962909376927739, 0.9035220546873088, 0.9035220546873088, 0.9035220546873088, 0.9035220546873088, 0.9050173683295152, 0.9050173683295152, 0.9071334350024323, 0.9071334350024323, 0.9071334350024323, 0.9071334350024323, 0.9071334350024323, 0.9071334350024323, 0.9071334350024323, 0.9071334350024323, 0.9071334350024323, 0.9071334350024323, 0.9071334350024323, 0.9071334350024323, 0.9071334350024323, 0.9071334350024323, 0.9071334350024323, 0.921416979520793, 0.921416979520793, 0.921416979520793, 0.921416979520793, 0.921416979520793, 0.921416979520793, 0.921416979520793, 0.921416979520793, 0.921416979520793, 0.921416979520793, 0.921416979520793, 0.921416979520793, 0.921416979520793, 0.921416979520793, 0.921416979520793]}], \"precision_score_weighted\": [{\"categories\": [\"0\", \"1\", \"2\", \"3\", \"4\", \"5\", \"6\", \"7\", \"8\", \"9\", \"10\", \"11\", \"12\", \"13\", \"14\", \"16\", \"17\", \"18\", \"19\", \"20\", \"21\", \"22\", \"23\", \"24\", \"25\", \"26\", \"27\", \"28\", \"29\", \"30\", \"31\", \"32\", \"33\", \"34\", \"35\", \"38\", \"39\"], \"mode\": \"markers\", \"name\": \"precision_score_weighted\", \"stepped\": false, \"type\": \"scatter\", \"data\": [0.8380144372166521, 0.8420050467418888, 0.8343840508114702, 0.8237282578412753, 0.5871559871458388, 0.8470278320432342, 0.8107446176933166, 0.8337753840083435, 0.615373618900863, 0.7614083203443286, 0.8442214839523842, 0.8420153410147505, 0.7957514113382593, 0.8138215659791097, 0.7702417751514736, 0.742126627570837, 0.8519482520798309, 0.8505279921607791, 0.8551167543310401, 0.8232181169414219, 0.8597698861862222, 0.8513099548573633, 0.8513917793173112, 0.8436587783956204, 0.8366652528126212, 0.8265854742601031, 0.8433715792053388, 0.8569413003850768, 0.8563705140202799, 0.8452598860741859, 0.8311630360277722, 0.8497345662332875, 0.8501458530752249, 0.8345755941422714, 0.8182245143725406, 0.8718187513532341, 0.8257141788341292]}, {\"categories\": [\"0\", \"1\", \"2\", \"3\", \"4\", \"5\", \"6\", \"7\", \"8\", \"9\", \"10\", \"11\", \"12\", \"13\", \"14\", \"16\", \"17\", \"18\", \"19\", \"20\", \"21\", \"22\", \"23\", \"24\", \"25\", \"26\", \"27\", \"28\", \"29\", \"30\", \"31\", \"32\", \"33\", \"34\", \"35\", \"38\", \"39\"], \"mode\": \"lines\", \"name\": \"precision_score_weighted_max\", \"stepped\": true, \"type\": \"scatter\", \"data\": [0.8380144372166521, 0.8420050467418888, 0.8420050467418888, 0.8420050467418888, 0.8420050467418888, 0.8470278320432342, 0.8470278320432342, 0.8470278320432342, 0.8470278320432342, 0.8470278320432342, 0.8470278320432342, 0.8470278320432342, 0.8470278320432342, 0.8470278320432342, 0.8470278320432342, 0.8470278320432342, 0.8519482520798309, 0.8519482520798309, 0.8551167543310401, 0.8551167543310401, 0.8597698861862222, 0.8597698861862222, 0.8597698861862222, 0.8597698861862222, 0.8597698861862222, 0.8597698861862222, 0.8597698861862222, 0.8597698861862222, 0.8597698861862222, 0.8597698861862222, 0.8597698861862222, 0.8597698861862222, 0.8597698861862222, 0.8597698861862222, 0.8597698861862222, 0.8718187513532341, 0.8718187513532341]}], \"average_precision_score_micro\": [{\"categories\": [\"0\", \"1\", \"2\", \"3\", \"4\", \"5\", \"6\", \"7\", \"8\", \"9\", \"10\", \"11\", \"12\", \"13\", \"14\", \"16\", \"17\", \"18\", \"19\", \"20\", \"21\", \"22\", \"23\", \"24\", \"25\", \"26\", \"27\", \"28\", \"29\", \"30\", \"31\", \"32\", \"33\", \"34\", \"35\", \"38\", \"39\"], \"mode\": \"markers\", \"name\": \"average_precision_score_micro\", \"stepped\": false, \"type\": \"scatter\", \"data\": [0.9058251765697858, 0.9082733170675681, 0.887417960966925, 0.8622628545220641, 0.613493636795662, 0.911560047744106, 0.8535675326827634, 0.8943352833048567, 0.6339090304356068, 0.8370070112677073, 0.8880019620700756, 0.9025855498131511, 0.8320046090949008, 0.8777107684594251, 0.8211474719939797, 0.780741464274332, 0.8869558799590844, 0.9053492734833009, 0.9053475139998499, 0.8703525817568911, 0.9122361148532503, 0.882775752493004, 0.9222241459605915, 0.9130009989331014, 0.9096118886483227, 0.8874354196394942, 0.9104390726856276, 0.9115484458142002, 0.9076615984575545, 0.9035946233832758, 0.8624825625644086, 0.9083712586358204, 0.9050658952075803, 0.9175755040937866, 0.8237634493812724, 0.9156178252623035, 0.8961008390535816]}, {\"categories\": [\"0\", \"1\", \"2\", \"3\", \"4\", \"5\", \"6\", \"7\", \"8\", \"9\", \"10\", \"11\", \"12\", \"13\", \"14\", \"16\", \"17\", \"18\", \"19\", \"20\", \"21\", \"22\", \"23\", \"24\", \"25\", \"26\", \"27\", \"28\", \"29\", \"30\", \"31\", \"32\", \"33\", \"34\", \"35\", \"38\", \"39\"], \"mode\": \"lines\", \"name\": \"average_precision_score_micro_max\", \"stepped\": true, \"type\": \"scatter\", \"data\": [0.9058251765697858, 0.9082733170675681, 0.9082733170675681, 0.9082733170675681, 0.9082733170675681, 0.911560047744106, 0.911560047744106, 0.911560047744106, 0.911560047744106, 0.911560047744106, 0.911560047744106, 0.911560047744106, 0.911560047744106, 0.911560047744106, 0.911560047744106, 0.911560047744106, 0.911560047744106, 0.911560047744106, 0.911560047744106, 0.911560047744106, 0.9122361148532503, 0.9122361148532503, 0.9222241459605915, 0.9222241459605915, 0.9222241459605915, 0.9222241459605915, 0.9222241459605915, 0.9222241459605915, 0.9222241459605915, 0.9222241459605915, 0.9222241459605915, 0.9222241459605915, 0.9222241459605915, 0.9222241459605915, 0.9222241459605915, 0.9222241459605915, 0.9222241459605915]}], \"matthews_correlation\": [{\"categories\": [\"0\", \"1\", \"2\", \"3\", \"4\", \"5\", \"6\", \"7\", \"8\", \"9\", \"10\", \"11\", \"12\", \"13\", \"14\", \"16\", \"17\", \"18\", \"19\", \"20\", \"21\", \"22\", \"23\", \"24\", \"25\", \"26\", \"27\", \"28\", \"29\", \"30\", \"31\", \"32\", \"33\", \"34\", \"35\", \"38\", \"39\"], \"mode\": \"markers\", \"name\": \"matthews_correlation\", \"stepped\": false, \"type\": \"scatter\", \"data\": [0.6156466479462239, 0.6220695203463663, 0.602507777251362, 0.5654176950118888, 0.04076603133027405, 0.6262483421927035, 0.5381797326369728, 0.5871714887939867, 0.09138341656589756, 0.4238130718001607, 0.6257862171377924, 0.6143379581736236, 0.4910976239364381, 0.5197094179995495, 0.44100749603119394, 0.3549955185184799, 0.6364629308515445, 0.6374810941302553, 0.65001108490841, 0.556608630509167, 0.6576889427180369, 0.6433790451781098, 0.6429718152421888, 0.6210228758545339, 0.6080888784853787, 0.5689156338647925, 0.6153440317381632, 0.6509681665480485, 0.65544143238575, 0.6226600696837783, 0.5835685169597011, 0.6337495527251074, 0.6308398761569622, 0.6089801018683005, 0.5426891127066271, 0.6871372145654745, 0.5789259676544604]}, {\"categories\": [\"0\", \"1\", \"2\", \"3\", \"4\", \"5\", \"6\", \"7\", \"8\", \"9\", \"10\", \"11\", \"12\", \"13\", \"14\", \"16\", \"17\", \"18\", \"19\", \"20\", \"21\", \"22\", \"23\", \"24\", \"25\", \"26\", \"27\", \"28\", \"29\", \"30\", \"31\", \"32\", \"33\", \"34\", \"35\", \"38\", \"39\"], \"mode\": \"lines\", \"name\": \"matthews_correlation_max\", \"stepped\": true, \"type\": \"scatter\", \"data\": [0.6156466479462239, 0.6220695203463663, 0.6220695203463663, 0.6220695203463663, 0.6220695203463663, 0.6262483421927035, 0.6262483421927035, 0.6262483421927035, 0.6262483421927035, 0.6262483421927035, 0.6262483421927035, 0.6262483421927035, 0.6262483421927035, 0.6262483421927035, 0.6262483421927035, 0.6262483421927035, 0.6364629308515445, 0.6374810941302553, 0.65001108490841, 0.65001108490841, 0.6576889427180369, 0.6576889427180369, 0.6576889427180369, 0.6576889427180369, 0.6576889427180369, 0.6576889427180369, 0.6576889427180369, 0.6576889427180369, 0.6576889427180369, 0.6576889427180369, 0.6576889427180369, 0.6576889427180369, 0.6576889427180369, 0.6576889427180369, 0.6576889427180369, 0.6871372145654745, 0.6871372145654745]}], \"recall_score_micro\": [{\"categories\": [\"0\", \"1\", \"2\", \"3\", \"4\", \"5\", \"6\", \"7\", \"8\", \"9\", \"10\", \"11\", \"12\", \"13\", \"14\", \"16\", \"17\", \"18\", \"19\", \"20\", \"21\", \"22\", \"23\", \"24\", \"25\", \"26\", \"27\", \"28\", \"29\", \"30\", \"31\", \"32\", \"33\", \"34\", \"35\", \"38\", \"39\"], \"mode\": \"markers\", \"name\": \"recall_score_micro\", \"stepped\": false, \"type\": \"scatter\", \"data\": [0.8326576576576576, 0.836081081081081, 0.825855855855856, 0.8127027027027027, 0.5952702702702702, 0.8394144144144144, 0.799054054054054, 0.825990990990991, 0.6118018018018019, 0.7624324324324325, 0.8393693693693695, 0.8325225225225226, 0.7455855855855855, 0.7993693693693694, 0.7725225225225225, 0.7391891891891893, 0.8426576576576577, 0.846036036036036, 0.8493693693693694, 0.8157657657657658, 0.855990990990991, 0.8426126126126127, 0.846036036036036, 0.8359909909909911, 0.8294144144144144, 0.815990990990991, 0.8323873873873874, 0.8427027027027028, 0.8459009009009009, 0.8359009009009009, 0.8226576576576576, 0.8392342342342343, 0.8392792792792793, 0.8326576576576576, 0.8092792792792792, 0.866126126126126, 0.815900900900901]}, {\"categories\": [\"0\", \"1\", \"2\", \"3\", \"4\", \"5\", \"6\", \"7\", \"8\", \"9\", \"10\", \"11\", \"12\", \"13\", \"14\", \"16\", \"17\", \"18\", \"19\", \"20\", \"21\", \"22\", \"23\", \"24\", \"25\", \"26\", \"27\", \"28\", \"29\", \"30\", \"31\", \"32\", \"33\", \"34\", \"35\", \"38\", \"39\"], \"mode\": \"lines\", \"name\": \"recall_score_micro_max\", \"stepped\": true, \"type\": \"scatter\", \"data\": [0.8326576576576576, 0.836081081081081, 0.836081081081081, 0.836081081081081, 0.836081081081081, 0.8394144144144144, 0.8394144144144144, 0.8394144144144144, 0.8394144144144144, 0.8394144144144144, 0.8394144144144144, 0.8394144144144144, 0.8394144144144144, 0.8394144144144144, 0.8394144144144144, 0.8394144144144144, 0.8426576576576577, 0.846036036036036, 0.8493693693693694, 0.8493693693693694, 0.855990990990991, 0.855990990990991, 0.855990990990991, 0.855990990990991, 0.855990990990991, 0.855990990990991, 0.855990990990991, 0.855990990990991, 0.855990990990991, 0.855990990990991, 0.855990990990991, 0.855990990990991, 0.855990990990991, 0.855990990990991, 0.855990990990991, 0.866126126126126, 0.866126126126126]}], \"weighted_accuracy\": [{\"categories\": [\"0\", \"1\", \"2\", \"3\", \"4\", \"5\", \"6\", \"7\", \"8\", \"9\", \"10\", \"11\", \"12\", \"13\", \"14\", \"16\", \"17\", \"18\", \"19\", \"20\", \"21\", \"22\", \"23\", \"24\", \"25\", \"26\", \"27\", \"28\", \"29\", \"30\", \"31\", \"32\", \"33\", \"34\", \"35\", \"38\", \"39\"], \"mode\": \"markers\", \"name\": \"weighted_accuracy\", \"stepped\": false, \"type\": \"scatter\", \"data\": [0.8542536167425616, 0.8588475527003776, 0.8368205064808123, 0.8473265202982199, 0.6446261349808547, 0.8638120599106899, 0.817447864604255, 0.8682659257382299, 0.6594790419013428, 0.8082305438457804, 0.8645011933199026, 0.8474564305840717, 0.731717872181623, 0.8562387195912847, 0.8145242233320618, 0.8025415309008036, 0.8664211814205682, 0.8743113064332302, 0.8747155100742807, 0.8488132275655504, 0.8831137301451428, 0.8590122107107008, 0.8696942455612116, 0.8598491519778764, 0.8547951262369016, 0.849761159943043, 0.8532411497819723, 0.8622176053998905, 0.8582283565308362, 0.8578888098307588, 0.864698596705822, 0.8582171734731187, 0.8680129331659445, 0.8597322576121207, 0.8599906331644919, 0.8929963269988462, 0.8404884953346369]}, {\"categories\": [\"0\", \"1\", \"2\", \"3\", \"4\", \"5\", \"6\", \"7\", \"8\", \"9\", \"10\", \"11\", \"12\", \"13\", \"14\", \"16\", \"17\", \"18\", \"19\", \"20\", \"21\", \"22\", \"23\", \"24\", \"25\", \"26\", \"27\", \"28\", \"29\", \"30\", \"31\", \"32\", \"33\", \"34\", \"35\", \"38\", \"39\"], \"mode\": \"lines\", \"name\": \"weighted_accuracy_max\", \"stepped\": true, \"type\": \"scatter\", \"data\": [0.8542536167425616, 0.8588475527003776, 0.8588475527003776, 0.8588475527003776, 0.8588475527003776, 0.8638120599106899, 0.8638120599106899, 0.8682659257382299, 0.8682659257382299, 0.8682659257382299, 0.8682659257382299, 0.8682659257382299, 0.8682659257382299, 0.8682659257382299, 0.8682659257382299, 0.8682659257382299, 0.8682659257382299, 0.8743113064332302, 0.8747155100742807, 0.8747155100742807, 0.8831137301451428, 0.8831137301451428, 0.8831137301451428, 0.8831137301451428, 0.8831137301451428, 0.8831137301451428, 0.8831137301451428, 0.8831137301451428, 0.8831137301451428, 0.8831137301451428, 0.8831137301451428, 0.8831137301451428, 0.8831137301451428, 0.8831137301451428, 0.8831137301451428, 0.8929963269988462, 0.8929963269988462]}], \"f1_score_micro\": [{\"categories\": [\"0\", \"1\", \"2\", \"3\", \"4\", \"5\", \"6\", \"7\", \"8\", \"9\", \"10\", \"11\", \"12\", \"13\", \"14\", \"16\", \"17\", \"18\", \"19\", \"20\", \"21\", \"22\", \"23\", \"24\", \"25\", \"26\", \"27\", \"28\", \"29\", \"30\", \"31\", \"32\", \"33\", \"34\", \"35\", \"38\", \"39\"], \"mode\": \"markers\", \"name\": \"f1_score_micro\", \"stepped\": false, \"type\": \"scatter\", \"data\": [0.8326576576576576, 0.836081081081081, 0.8258558558558559, 0.8127027027027027, 0.5952702702702702, 0.8394144144144144, 0.7990540540540542, 0.825990990990991, 0.6118018018018019, 0.7624324324324325, 0.8393693693693695, 0.8325225225225225, 0.7455855855855855, 0.7993693693693694, 0.7725225225225224, 0.7391891891891892, 0.8426576576576577, 0.846036036036036, 0.8493693693693694, 0.8157657657657658, 0.855990990990991, 0.8426126126126127, 0.846036036036036, 0.8359909909909911, 0.8294144144144144, 0.815990990990991, 0.8323873873873874, 0.8427027027027028, 0.8459009009009009, 0.8359009009009009, 0.8226576576576576, 0.8392342342342343, 0.8392792792792793, 0.8326576576576576, 0.8092792792792792, 0.866126126126126, 0.815900900900901]}, {\"categories\": [\"0\", \"1\", \"2\", \"3\", \"4\", \"5\", \"6\", \"7\", \"8\", \"9\", \"10\", \"11\", \"12\", \"13\", \"14\", \"16\", \"17\", \"18\", \"19\", \"20\", \"21\", \"22\", \"23\", \"24\", \"25\", \"26\", \"27\", \"28\", \"29\", \"30\", \"31\", \"32\", \"33\", \"34\", \"35\", \"38\", \"39\"], \"mode\": \"lines\", \"name\": \"f1_score_micro_max\", \"stepped\": true, \"type\": \"scatter\", \"data\": [0.8326576576576576, 0.836081081081081, 0.836081081081081, 0.836081081081081, 0.836081081081081, 0.8394144144144144, 0.8394144144144144, 0.8394144144144144, 0.8394144144144144, 0.8394144144144144, 0.8394144144144144, 0.8394144144144144, 0.8394144144144144, 0.8394144144144144, 0.8394144144144144, 0.8394144144144144, 0.8426576576576577, 0.846036036036036, 0.8493693693693694, 0.8493693693693694, 0.855990990990991, 0.855990990990991, 0.855990990990991, 0.855990990990991, 0.855990990990991, 0.855990990990991, 0.855990990990991, 0.855990990990991, 0.855990990990991, 0.855990990990991, 0.855990990990991, 0.855990990990991, 0.855990990990991, 0.855990990990991, 0.855990990990991, 0.866126126126126, 0.866126126126126]}], \"f1_score_weighted\": [{\"categories\": [\"0\", \"1\", \"2\", \"3\", \"4\", \"5\", \"6\", \"7\", \"8\", \"9\", \"10\", \"11\", \"12\", \"13\", \"14\", \"16\", \"17\", \"18\", \"19\", \"20\", \"21\", \"22\", \"23\", \"24\", \"25\", \"26\", \"27\", \"28\", \"29\", \"30\", \"31\", \"32\", \"33\", \"34\", \"35\", \"38\", \"39\"], \"mode\": \"markers\", \"name\": \"f1_score_weighted\", \"stepped\": false, \"type\": \"scatter\", \"data\": [0.8311556651234824, 0.8331268883562462, 0.8272795893507703, 0.8040298095568651, 0.5788618192250332, 0.8347239062851299, 0.8003401955825578, 0.815203056265716, 0.5944246480608617, 0.7510795539943322, 0.8365786688776227, 0.8323659454996533, 0.7530571161246543, 0.7801027522672637, 0.7659494189446179, 0.712816871675546, 0.8388704633658762, 0.8418278635684651, 0.8450750755197468, 0.8102927639813713, 0.8507903755473492, 0.8401369750261324, 0.8425703148391653, 0.8317825512779641, 0.8248403600697178, 0.8081129125798503, 0.8306962977778989, 0.8367139453998249, 0.8454964738680297, 0.8325417117746727, 0.8105945131147225, 0.8372647931836036, 0.834282528257002, 0.8277731448928469, 0.7957987464963476, 0.8610660544772686, 0.8123785912072969]}, {\"categories\": [\"0\", \"1\", \"2\", \"3\", \"4\", \"5\", \"6\", \"7\", \"8\", \"9\", \"10\", \"11\", \"12\", \"13\", \"14\", \"16\", \"17\", \"18\", \"19\", \"20\", \"21\", \"22\", \"23\", \"24\", \"25\", \"26\", \"27\", \"28\", \"29\", \"30\", \"31\", \"32\", \"33\", \"34\", \"35\", \"38\", \"39\"], \"mode\": \"lines\", \"name\": \"f1_score_weighted_max\", \"stepped\": true, \"type\": \"scatter\", \"data\": [0.8311556651234824, 0.8331268883562462, 0.8331268883562462, 0.8331268883562462, 0.8331268883562462, 0.8347239062851299, 0.8347239062851299, 0.8347239062851299, 0.8347239062851299, 0.8347239062851299, 0.8365786688776227, 0.8365786688776227, 0.8365786688776227, 0.8365786688776227, 0.8365786688776227, 0.8365786688776227, 0.8388704633658762, 0.8418278635684651, 0.8450750755197468, 0.8450750755197468, 0.8507903755473492, 0.8507903755473492, 0.8507903755473492, 0.8507903755473492, 0.8507903755473492, 0.8507903755473492, 0.8507903755473492, 0.8507903755473492, 0.8507903755473492, 0.8507903755473492, 0.8507903755473492, 0.8507903755473492, 0.8507903755473492, 0.8507903755473492, 0.8507903755473492, 0.8610660544772686, 0.8610660544772686]}], \"accuracy\": [{\"categories\": [\"0\", \"1\", \"2\", \"3\", \"4\", \"5\", \"6\", \"7\", \"8\", \"9\", \"10\", \"11\", \"12\", \"13\", \"14\", \"16\", \"17\", \"18\", \"19\", \"20\", \"21\", \"22\", \"23\", \"24\", \"25\", \"26\", \"27\", \"28\", \"29\", \"30\", \"31\", \"32\", \"33\", \"34\", \"35\", \"38\", \"39\"], \"mode\": \"markers\", \"name\": \"accuracy\", \"stepped\": false, \"type\": \"scatter\", \"data\": [0.8326576576576576, 0.836081081081081, 0.825855855855856, 0.8127027027027027, 0.5952702702702702, 0.8394144144144144, 0.799054054054054, 0.825990990990991, 0.6118018018018019, 0.7624324324324325, 0.8393693693693695, 0.8325225225225226, 0.7455855855855855, 0.7993693693693694, 0.7725225225225225, 0.7391891891891893, 0.8426576576576577, 0.846036036036036, 0.8493693693693694, 0.8157657657657658, 0.855990990990991, 0.8426126126126127, 0.846036036036036, 0.8359909909909911, 0.8294144144144144, 0.815990990990991, 0.8323873873873874, 0.8427027027027028, 0.8459009009009009, 0.8359009009009009, 0.8226576576576576, 0.8392342342342343, 0.8392792792792793, 0.8326576576576576, 0.8092792792792792, 0.866126126126126, 0.815900900900901]}, {\"categories\": [\"0\", \"1\", \"2\", \"3\", \"4\", \"5\", \"6\", \"7\", \"8\", \"9\", \"10\", \"11\", \"12\", \"13\", \"14\", \"16\", \"17\", \"18\", \"19\", \"20\", \"21\", \"22\", \"23\", \"24\", \"25\", \"26\", \"27\", \"28\", \"29\", \"30\", \"31\", \"32\", \"33\", \"34\", \"35\", \"38\", \"39\"], \"mode\": \"lines\", \"name\": \"accuracy_max\", \"stepped\": true, \"type\": \"scatter\", \"data\": [0.8326576576576576, 0.836081081081081, 0.836081081081081, 0.836081081081081, 0.836081081081081, 0.8394144144144144, 0.8394144144144144, 0.8394144144144144, 0.8394144144144144, 0.8394144144144144, 0.8394144144144144, 0.8394144144144144, 0.8394144144144144, 0.8394144144144144, 0.8394144144144144, 0.8394144144144144, 0.8426576576576577, 0.846036036036036, 0.8493693693693694, 0.8493693693693694, 0.855990990990991, 0.855990990990991, 0.855990990990991, 0.855990990990991, 0.855990990990991, 0.855990990990991, 0.855990990990991, 0.855990990990991, 0.855990990990991, 0.855990990990991, 0.855990990990991, 0.855990990990991, 0.855990990990991, 0.855990990990991, 0.855990990990991, 0.866126126126126, 0.866126126126126]}], \"f1_score_macro\": [{\"categories\": [\"0\", \"1\", \"2\", \"3\", \"4\", \"5\", \"6\", \"7\", \"8\", \"9\", \"10\", \"11\", \"12\", \"13\", \"14\", \"16\", \"17\", \"18\", \"19\", \"20\", \"21\", \"22\", \"23\", \"24\", \"25\", \"26\", \"27\", \"28\", \"29\", \"30\", \"31\", \"32\", \"33\", \"34\", \"35\", \"38\", \"39\"], \"mode\": \"markers\", \"name\": \"f1_score_macro\", \"stepped\": false, \"type\": \"scatter\", \"data\": [0.8035941453870626, 0.8051246998047652, 0.7979582125166668, 0.7684669349340675, 0.5065091950084263, 0.8042878042326034, 0.7642753293462556, 0.778037171339601, 0.5253627509180099, 0.7004786600635664, 0.8075555904220459, 0.8020678759864742, 0.7259646734568631, 0.731225091832098, 0.7147834882218346, 0.6481403102659266, 0.8098891266489757, 0.8121243435623136, 0.8177989769928886, 0.7689036268403852, 0.8214322723164216, 0.8148162795093046, 0.8152808317681484, 0.8025304139331202, 0.7958922407955205, 0.771368571847437, 0.8004571111623274, 0.8125775204488437, 0.8218800208221881, 0.8033538867919298, 0.7746430470273311, 0.8096131266046801, 0.8048395913767611, 0.7983320041759265, 0.7517454018132275, 0.8354493907625058, 0.780965482903909]}, {\"categories\": [\"0\", \"1\", \"2\", \"3\", \"4\", \"5\", \"6\", \"7\", \"8\", \"9\", \"10\", \"11\", \"12\", \"13\", \"14\", \"16\", \"17\", \"18\", \"19\", \"20\", \"21\", \"22\", \"23\", \"24\", \"25\", \"26\", \"27\", \"28\", \"29\", \"30\", \"31\", \"32\", \"33\", \"34\", \"35\", \"38\", \"39\"], \"mode\": \"lines\", \"name\": \"f1_score_macro_max\", \"stepped\": true, \"type\": \"scatter\", \"data\": [0.8035941453870626, 0.8051246998047652, 0.8051246998047652, 0.8051246998047652, 0.8051246998047652, 0.8051246998047652, 0.8051246998047652, 0.8051246998047652, 0.8051246998047652, 0.8051246998047652, 0.8075555904220459, 0.8075555904220459, 0.8075555904220459, 0.8075555904220459, 0.8075555904220459, 0.8075555904220459, 0.8098891266489757, 0.8121243435623136, 0.8177989769928886, 0.8177989769928886, 0.8214322723164216, 0.8214322723164216, 0.8214322723164216, 0.8214322723164216, 0.8214322723164216, 0.8214322723164216, 0.8214322723164216, 0.8214322723164216, 0.8218800208221881, 0.8218800208221881, 0.8218800208221881, 0.8218800208221881, 0.8218800208221881, 0.8218800208221881, 0.8218800208221881, 0.8354493907625058, 0.8354493907625058]}], \"balanced_accuracy\": [{\"categories\": [\"0\", \"1\", \"2\", \"3\", \"4\", \"5\", \"6\", \"7\", \"8\", \"9\", \"10\", \"11\", \"12\", \"13\", \"14\", \"16\", \"17\", \"18\", \"19\", \"20\", \"21\", \"22\", \"23\", \"24\", \"25\", \"26\", \"27\", \"28\", \"29\", \"30\", \"31\", \"32\", \"33\", \"34\", \"35\", \"38\", \"39\"], \"mode\": \"markers\", \"name\": \"balanced_accuracy\", \"stepped\": false, \"type\": \"scatter\", \"data\": [0.8007793965685914, 0.8029484208509633, 0.8098493128418975, 0.7625969898745323, 0.5263011215871386, 0.8030604165138064, 0.7692829220371593, 0.7646525026291975, 0.5447579864423084, 0.6932119189269612, 0.8013317955584905, 0.8097658765826139, 0.7618327264778536, 0.7162134995026944, 0.7084574177000025, 0.6465150648943023, 0.8080395103170528, 0.8034466945483895, 0.8121009453901402, 0.763247843650386, 0.8149628982520932, 0.8195955468730892, 0.8106804908446859, 0.8012754410529834, 0.7933472003122427, 0.7652522628423052, 0.8017068383593806, 0.816155629132324, 0.8295950959351384, 0.8038796077196502, 0.7612208520841995, 0.811602671692714, 0.7963361418869893, 0.7934681892573842, 0.7341006921515396, 0.8265685379827329, 0.7785098258615208]}, {\"categories\": [\"0\", \"1\", \"2\", \"3\", \"4\", \"5\", \"6\", \"7\", \"8\", \"9\", \"10\", \"11\", \"12\", \"13\", \"14\", \"16\", \"17\", \"18\", \"19\", \"20\", \"21\", \"22\", \"23\", \"24\", \"25\", \"26\", \"27\", \"28\", \"29\", \"30\", \"31\", \"32\", \"33\", \"34\", \"35\", \"38\", \"39\"], \"mode\": \"lines\", \"name\": \"balanced_accuracy_max\", \"stepped\": true, \"type\": \"scatter\", \"data\": [0.8007793965685914, 0.8029484208509633, 0.8098493128418975, 0.8098493128418975, 0.8098493128418975, 0.8098493128418975, 0.8098493128418975, 0.8098493128418975, 0.8098493128418975, 0.8098493128418975, 0.8098493128418975, 0.8098493128418975, 0.8098493128418975, 0.8098493128418975, 0.8098493128418975, 0.8098493128418975, 0.8098493128418975, 0.8098493128418975, 0.8121009453901402, 0.8121009453901402, 0.8149628982520932, 0.8195955468730892, 0.8195955468730892, 0.8195955468730892, 0.8195955468730892, 0.8195955468730892, 0.8195955468730892, 0.8195955468730892, 0.8295950959351384, 0.8295950959351384, 0.8295950959351384, 0.8295950959351384, 0.8295950959351384, 0.8295950959351384, 0.8295950959351384, 0.8295950959351384, 0.8295950959351384]}], \"average_precision_score_macro\": [{\"categories\": [\"0\", \"1\", \"2\", \"3\", \"4\", \"5\", \"6\", \"7\", \"8\", \"9\", \"10\", \"11\", \"12\", \"13\", \"14\", \"16\", \"17\", \"18\", \"19\", \"20\", \"21\", \"22\", \"23\", \"24\", \"25\", \"26\", \"27\", \"28\", \"29\", \"30\", \"31\", \"32\", \"33\", \"34\", \"35\", \"38\", \"39\"], \"mode\": \"markers\", \"name\": \"average_precision_score_macro\", \"stepped\": false, \"type\": \"scatter\", \"data\": [0.8724112036562065, 0.884408350306612, 0.8595207107157222, 0.8336732138111284, 0.5609637413301835, 0.8818824239961645, 0.8270719186342225, 0.8897753675049263, 0.5716019138647401, 0.7835773286131386, 0.8687475270291614, 0.8747703701751621, 0.8485483495953956, 0.8572933591504199, 0.7582523740392266, 0.7275783799108255, 0.8491386624148214, 0.8774831532002279, 0.8785311474300004, 0.8408179710812407, 0.8776976574234228, 0.8476821763443892, 0.8881626075774439, 0.8938548057934806, 0.8890944381430483, 0.8532946260115014, 0.8800797137944153, 0.8890860427715092, 0.884768759883753, 0.8782125584704588, 0.820181596290585, 0.8785205669765682, 0.8804103744537358, 0.886550163997717, 0.7950370164028538, 0.8827546675215476, 0.87824378625814]}, {\"categories\": [\"0\", \"1\", \"2\", \"3\", \"4\", \"5\", \"6\", \"7\", \"8\", \"9\", \"10\", \"11\", \"12\", \"13\", \"14\", \"16\", \"17\", \"18\", \"19\", \"20\", \"21\", \"22\", \"23\", \"24\", \"25\", \"26\", \"27\", \"28\", \"29\", \"30\", \"31\", \"32\", \"33\", \"34\", \"35\", \"38\", \"39\"], \"mode\": \"lines\", \"name\": \"average_precision_score_macro_max\", \"stepped\": true, \"type\": \"scatter\", \"data\": [0.8724112036562065, 0.884408350306612, 0.884408350306612, 0.884408350306612, 0.884408350306612, 0.884408350306612, 0.884408350306612, 0.8897753675049263, 0.8897753675049263, 0.8897753675049263, 0.8897753675049263, 0.8897753675049263, 0.8897753675049263, 0.8897753675049263, 0.8897753675049263, 0.8897753675049263, 0.8897753675049263, 0.8897753675049263, 0.8897753675049263, 0.8897753675049263, 0.8897753675049263, 0.8897753675049263, 0.8897753675049263, 0.8938548057934806, 0.8938548057934806, 0.8938548057934806, 0.8938548057934806, 0.8938548057934806, 0.8938548057934806, 0.8938548057934806, 0.8938548057934806, 0.8938548057934806, 0.8938548057934806, 0.8938548057934806, 0.8938548057934806, 0.8938548057934806, 0.8938548057934806]}], \"norm_macro_recall\": [{\"categories\": [\"0\", \"1\", \"2\", \"3\", \"4\", \"5\", \"6\", \"7\", \"8\", \"9\", \"10\", \"11\", \"12\", \"13\", \"14\", \"16\", \"17\", \"18\", \"19\", \"20\", \"21\", \"22\", \"23\", \"24\", \"25\", \"26\", \"27\", \"28\", \"29\", \"30\", \"31\", \"32\", \"33\", \"34\", \"35\", \"38\", \"39\"], \"mode\": \"markers\", \"name\": \"norm_macro_recall\", \"stepped\": false, \"type\": \"scatter\", \"data\": [0.6015587931371831, 0.6058968417019265, 0.6196986256837951, 0.5251939797490646, 0.07408192090395482, 0.6061208330276127, 0.5385658440743186, 0.5293050052583952, 0.09923819510683918, 0.38642383785392265, 0.602663591116981, 0.6195317531652278, 0.5236654529557072, 0.43242699900538883, 0.41691483540000496, 0.29303012978860443, 0.6160790206341054, 0.6068933890967789, 0.6242018907802807, 0.5264956873007721, 0.6299257965041863, 0.6391910937461784, 0.6213609816893716, 0.6025508821059669, 0.5866944006244854, 0.5305045256846104, 0.6034136767187616, 0.6323112582646482, 0.6591901918702766, 0.6077592154393002, 0.5224417041683991, 0.6232053433854282, 0.5926722837739786, 0.5869363785147684, 0.4682013843030792, 0.6531370759654658, 0.5570196517230416]}, {\"categories\": [\"0\", \"1\", \"2\", \"3\", \"4\", \"5\", \"6\", \"7\", \"8\", \"9\", \"10\", \"11\", \"12\", \"13\", \"14\", \"16\", \"17\", \"18\", \"19\", \"20\", \"21\", \"22\", \"23\", \"24\", \"25\", \"26\", \"27\", \"28\", \"29\", \"30\", \"31\", \"32\", \"33\", \"34\", \"35\", \"38\", \"39\"], \"mode\": \"lines\", \"name\": \"norm_macro_recall_max\", \"stepped\": true, \"type\": \"scatter\", \"data\": [0.6015587931371831, 0.6058968417019265, 0.6196986256837951, 0.6196986256837951, 0.6196986256837951, 0.6196986256837951, 0.6196986256837951, 0.6196986256837951, 0.6196986256837951, 0.6196986256837951, 0.6196986256837951, 0.6196986256837951, 0.6196986256837951, 0.6196986256837951, 0.6196986256837951, 0.6196986256837951, 0.6196986256837951, 0.6196986256837951, 0.6242018907802807, 0.6242018907802807, 0.6299257965041863, 0.6391910937461784, 0.6391910937461784, 0.6391910937461784, 0.6391910937461784, 0.6391910937461784, 0.6391910937461784, 0.6391910937461784, 0.6591901918702766, 0.6591901918702766, 0.6591901918702766, 0.6591901918702766, 0.6591901918702766, 0.6591901918702766, 0.6591901918702766, 0.6591901918702766, 0.6591901918702766]}], \"log_loss\": [{\"categories\": [\"0\", \"1\", \"2\", \"3\", \"4\", \"5\", \"6\", \"7\", \"8\", \"9\", \"10\", \"11\", \"12\", \"13\", \"14\", \"16\", \"17\", \"18\", \"19\", \"20\", \"21\", \"22\", \"23\", \"24\", \"25\", \"26\", \"27\", \"28\", \"29\", \"30\", \"31\", \"32\", \"33\", \"34\", \"35\", \"38\", \"39\"], \"mode\": \"markers\", \"name\": \"log_loss\", \"stepped\": false, \"type\": \"scatter\", \"data\": [0.5023076635750585, 0.398126385369059, 0.47798317755151654, 0.5072333496382933, 3.0376829575667053, 0.3846145118281858, 0.5470141953259335, 0.46336654866261895, 1.3177368771765867, 0.5073634082232115, 0.4405017419417522, 0.43761438025777133, 0.5078842150519166, 0.5384026835007469, 2.171852357875853, 1.0915733663160623, 0.4120230730465839, 0.4686516391283789, 0.45984163443808623, 0.4917009719181724, 0.44651807144127836, 0.425573919133052, 0.357141840501503, 0.3719884907896036, 0.3730160213093121, 0.419432698422199, 0.3781660444833632, 0.3681947032031377, 0.37303866416524656, 0.4618715718200506, 0.5080898411582919, 0.4755816254808607, 0.4056083927227757, 0.36129923266398956, 0.5099072253112997, 0.4219576391808034, 0.40398356431108184]}, {\"categories\": [\"0\", \"1\", \"2\", \"3\", \"4\", \"5\", \"6\", \"7\", \"8\", \"9\", \"10\", \"11\", \"12\", \"13\", \"14\", \"16\", \"17\", \"18\", \"19\", \"20\", \"21\", \"22\", \"23\", \"24\", \"25\", \"26\", \"27\", \"28\", \"29\", \"30\", \"31\", \"32\", \"33\", \"34\", \"35\", \"38\", \"39\"], \"mode\": \"lines\", \"name\": \"log_loss_min\", \"stepped\": true, \"type\": \"scatter\", \"data\": [0.5023076635750585, 0.398126385369059, 0.398126385369059, 0.398126385369059, 0.398126385369059, 0.3846145118281858, 0.3846145118281858, 0.3846145118281858, 0.3846145118281858, 0.3846145118281858, 0.3846145118281858, 0.3846145118281858, 0.3846145118281858, 0.3846145118281858, 0.3846145118281858, 0.3846145118281858, 0.3846145118281858, 0.3846145118281858, 0.3846145118281858, 0.3846145118281858, 0.3846145118281858, 0.3846145118281858, 0.357141840501503, 0.357141840501503, 0.357141840501503, 0.357141840501503, 0.357141840501503, 0.357141840501503, 0.357141840501503, 0.357141840501503, 0.357141840501503, 0.357141840501503, 0.357141840501503, 0.357141840501503, 0.357141840501503, 0.357141840501503, 0.357141840501503]}], \"AUC_weighted\": [{\"categories\": [\"0\", \"1\", \"2\", \"3\", \"4\", \"5\", \"6\", \"7\", \"8\", \"9\", \"10\", \"11\", \"12\", \"13\", \"14\", \"16\", \"17\", \"18\", \"19\", \"20\", \"21\", \"22\", \"23\", \"24\", \"25\", \"26\", \"27\", \"28\", \"29\", \"30\", \"31\", \"32\", \"33\", \"34\", \"35\", \"38\", \"39\"], \"mode\": \"markers\", \"name\": \"AUC_weighted\", \"stepped\": false, \"type\": \"scatter\", \"data\": [0.8962909376927739, 0.9035220546873088, 0.8806648252093168, 0.8500018640467087, 0.524563749378368, 0.9050173683295152, 0.8585921768125158, 0.907133435002432, 0.5298596589380488, 0.8093055079990108, 0.9036474001516375, 0.8953047168619201, 0.860008962710234, 0.8810887663288793, 0.800386142158741, 0.736562363274934, 0.8710626323091012, 0.9030964618270408, 0.8970191387917376, 0.8681838648116895, 0.90437097297973, 0.8756331899163821, 0.921416979520793, 0.9128748050181665, 0.911132808784645, 0.8773043099137733, 0.8994307481595616, 0.9078948874676276, 0.9074349732188716, 0.8953411995255216, 0.8481247902416686, 0.9066386388773394, 0.9044874610376021, 0.907000510213787, 0.8190034254299792, 0.9111851379683301, 0.9048026250533313]}, {\"categories\": [\"0\", \"1\", \"2\", \"3\", \"4\", \"5\", \"6\", \"7\", \"8\", \"9\", \"10\", \"11\", \"12\", \"13\", \"14\", \"16\", \"17\", \"18\", \"19\", \"20\", \"21\", \"22\", \"23\", \"24\", \"25\", \"26\", \"27\", \"28\", \"29\", \"30\", \"31\", \"32\", \"33\", \"34\", \"35\", \"38\", \"39\"], \"mode\": \"lines\", \"name\": \"AUC_weighted_max\", \"stepped\": true, \"type\": \"scatter\", \"data\": [0.8962909376927739, 0.9035220546873088, 0.9035220546873088, 0.9035220546873088, 0.9035220546873088, 0.9050173683295152, 0.9050173683295152, 0.907133435002432, 0.907133435002432, 0.907133435002432, 0.907133435002432, 0.907133435002432, 0.907133435002432, 0.907133435002432, 0.907133435002432, 0.907133435002432, 0.907133435002432, 0.907133435002432, 0.907133435002432, 0.907133435002432, 0.907133435002432, 0.907133435002432, 0.921416979520793, 0.921416979520793, 0.921416979520793, 0.921416979520793, 0.921416979520793, 0.921416979520793, 0.921416979520793, 0.921416979520793, 0.921416979520793, 0.921416979520793, 0.921416979520793, 0.921416979520793, 0.921416979520793, 0.921416979520793, 0.921416979520793]}], \"recall_score_macro\": [{\"categories\": [\"0\", \"1\", \"2\", \"3\", \"4\", \"5\", \"6\", \"7\", \"8\", \"9\", \"10\", \"11\", \"12\", \"13\", \"14\", \"16\", \"17\", \"18\", \"19\", \"20\", \"21\", \"22\", \"23\", \"24\", \"25\", \"26\", \"27\", \"28\", \"29\", \"30\", \"31\", \"32\", \"33\", \"34\", \"35\", \"38\", \"39\"], \"mode\": \"markers\", \"name\": \"recall_score_macro\", \"stepped\": false, \"type\": \"scatter\", \"data\": [0.8007793965685914, 0.8029484208509633, 0.8098493128418975, 0.7625969898745323, 0.5263011215871386, 0.8030604165138064, 0.7692829220371593, 0.7646525026291975, 0.5447579864423084, 0.6932119189269612, 0.8013317955584905, 0.8097658765826139, 0.7618327264778536, 0.7162134995026944, 0.7084574177000025, 0.6465150648943023, 0.8080395103170528, 0.8034466945483895, 0.8121009453901402, 0.763247843650386, 0.8149628982520932, 0.8195955468730892, 0.8106804908446859, 0.8012754410529834, 0.7933472003122427, 0.7652522628423052, 0.8017068383593806, 0.816155629132324, 0.8295950959351384, 0.8038796077196502, 0.7612208520841995, 0.811602671692714, 0.7963361418869893, 0.7934681892573842, 0.7341006921515396, 0.8265685379827329, 0.7785098258615208]}, {\"categories\": [\"0\", \"1\", \"2\", \"3\", \"4\", \"5\", \"6\", \"7\", \"8\", \"9\", \"10\", \"11\", \"12\", \"13\", \"14\", \"16\", \"17\", \"18\", \"19\", \"20\", \"21\", \"22\", \"23\", \"24\", \"25\", \"26\", \"27\", \"28\", \"29\", \"30\", \"31\", \"32\", \"33\", \"34\", \"35\", \"38\", \"39\"], \"mode\": \"lines\", \"name\": \"recall_score_macro_max\", \"stepped\": true, \"type\": \"scatter\", \"data\": [0.8007793965685914, 0.8029484208509633, 0.8098493128418975, 0.8098493128418975, 0.8098493128418975, 0.8098493128418975, 0.8098493128418975, 0.8098493128418975, 0.8098493128418975, 0.8098493128418975, 0.8098493128418975, 0.8098493128418975, 0.8098493128418975, 0.8098493128418975, 0.8098493128418975, 0.8098493128418975, 0.8098493128418975, 0.8098493128418975, 0.8121009453901402, 0.8121009453901402, 0.8149628982520932, 0.8195955468730892, 0.8195955468730892, 0.8195955468730892, 0.8195955468730892, 0.8195955468730892, 0.8195955468730892, 0.8195955468730892, 0.8295950959351384, 0.8295950959351384, 0.8295950959351384, 0.8295950959351384, 0.8295950959351384, 0.8295950959351384, 0.8295950959351384, 0.8295950959351384, 0.8295950959351384]}], \"recall_score_weighted\": [{\"categories\": [\"0\", \"1\", \"2\", \"3\", \"4\", \"5\", \"6\", \"7\", \"8\", \"9\", \"10\", \"11\", \"12\", \"13\", \"14\", \"16\", \"17\", \"18\", \"19\", \"20\", \"21\", \"22\", \"23\", \"24\", \"25\", \"26\", \"27\", \"28\", \"29\", \"30\", \"31\", \"32\", \"33\", \"34\", \"35\", \"38\", \"39\"], \"mode\": \"markers\", \"name\": \"recall_score_weighted\", \"stepped\": false, \"type\": \"scatter\", \"data\": [0.8326576576576576, 0.836081081081081, 0.825855855855856, 0.8127027027027027, 0.5952702702702702, 0.8394144144144144, 0.799054054054054, 0.825990990990991, 0.6118018018018019, 0.7624324324324325, 0.8393693693693695, 0.8325225225225226, 0.7455855855855855, 0.7993693693693694, 0.7725225225225225, 0.7391891891891893, 0.8426576576576577, 0.846036036036036, 0.8493693693693694, 0.8157657657657658, 0.855990990990991, 0.8426126126126127, 0.846036036036036, 0.8359909909909911, 0.8294144144144144, 0.815990990990991, 0.8323873873873874, 0.8427027027027028, 0.8459009009009009, 0.8359009009009009, 0.8226576576576576, 0.8392342342342343, 0.8392792792792793, 0.8326576576576576, 0.8092792792792792, 0.866126126126126, 0.815900900900901]}, {\"categories\": [\"0\", \"1\", \"2\", \"3\", \"4\", \"5\", \"6\", \"7\", \"8\", \"9\", \"10\", \"11\", \"12\", \"13\", \"14\", \"16\", \"17\", \"18\", \"19\", \"20\", \"21\", \"22\", \"23\", \"24\", \"25\", \"26\", \"27\", \"28\", \"29\", \"30\", \"31\", \"32\", \"33\", \"34\", \"35\", \"38\", \"39\"], \"mode\": \"lines\", \"name\": \"recall_score_weighted_max\", \"stepped\": true, \"type\": \"scatter\", \"data\": [0.8326576576576576, 0.836081081081081, 0.836081081081081, 0.836081081081081, 0.836081081081081, 0.8394144144144144, 0.8394144144144144, 0.8394144144144144, 0.8394144144144144, 0.8394144144144144, 0.8394144144144144, 0.8394144144144144, 0.8394144144144144, 0.8394144144144144, 0.8394144144144144, 0.8394144144144144, 0.8426576576576577, 0.846036036036036, 0.8493693693693694, 0.8493693693693694, 0.855990990990991, 0.855990990990991, 0.855990990990991, 0.855990990990991, 0.855990990990991, 0.855990990990991, 0.855990990990991, 0.855990990990991, 0.855990990990991, 0.855990990990991, 0.855990990990991, 0.855990990990991, 0.855990990990991, 0.855990990990991, 0.855990990990991, 0.866126126126126, 0.866126126126126]}], \"precision_score_micro\": [{\"categories\": [\"0\", \"1\", \"2\", \"3\", \"4\", \"5\", \"6\", \"7\", \"8\", \"9\", \"10\", \"11\", \"12\", \"13\", \"14\", \"16\", \"17\", \"18\", \"19\", \"20\", \"21\", \"22\", \"23\", \"24\", \"25\", \"26\", \"27\", \"28\", \"29\", \"30\", \"31\", \"32\", \"33\", \"34\", \"35\", \"38\", \"39\"], \"mode\": \"markers\", \"name\": \"precision_score_micro\", \"stepped\": false, \"type\": \"scatter\", \"data\": [0.8326576576576576, 0.836081081081081, 0.825855855855856, 0.8127027027027027, 0.5952702702702702, 0.8394144144144144, 0.799054054054054, 0.825990990990991, 0.6118018018018019, 0.7624324324324325, 0.8393693693693695, 0.8325225225225226, 0.7455855855855855, 0.7993693693693694, 0.7725225225225225, 0.7391891891891893, 0.8426576576576577, 0.846036036036036, 0.8493693693693694, 0.8157657657657658, 0.855990990990991, 0.8426126126126127, 0.846036036036036, 0.8359909909909911, 0.8294144144144144, 0.815990990990991, 0.8323873873873874, 0.8427027027027028, 0.8459009009009009, 0.8359009009009009, 0.8226576576576576, 0.8392342342342343, 0.8392792792792793, 0.8326576576576576, 0.8092792792792792, 0.866126126126126, 0.815900900900901]}, {\"categories\": [\"0\", \"1\", \"2\", \"3\", \"4\", \"5\", \"6\", \"7\", \"8\", \"9\", \"10\", \"11\", \"12\", \"13\", \"14\", \"16\", \"17\", \"18\", \"19\", \"20\", \"21\", \"22\", \"23\", \"24\", \"25\", \"26\", \"27\", \"28\", \"29\", \"30\", \"31\", \"32\", \"33\", \"34\", \"35\", \"38\", \"39\"], \"mode\": \"lines\", \"name\": \"precision_score_micro_max\", \"stepped\": true, \"type\": \"scatter\", \"data\": [0.8326576576576576, 0.836081081081081, 0.836081081081081, 0.836081081081081, 0.836081081081081, 0.8394144144144144, 0.8394144144144144, 0.8394144144144144, 0.8394144144144144, 0.8394144144144144, 0.8394144144144144, 0.8394144144144144, 0.8394144144144144, 0.8394144144144144, 0.8394144144144144, 0.8394144144144144, 0.8426576576576577, 0.846036036036036, 0.8493693693693694, 0.8493693693693694, 0.855990990990991, 0.855990990990991, 0.855990990990991, 0.855990990990991, 0.855990990990991, 0.855990990990991, 0.855990990990991, 0.855990990990991, 0.855990990990991, 0.855990990990991, 0.855990990990991, 0.855990990990991, 0.855990990990991, 0.855990990990991, 0.855990990990991, 0.866126126126126, 0.866126126126126]}], \"average_precision_score_weighted\": [{\"categories\": [\"0\", \"1\", \"2\", \"3\", \"4\", \"5\", \"6\", \"7\", \"8\", \"9\", \"10\", \"11\", \"12\", \"13\", \"14\", \"16\", \"17\", \"18\", \"19\", \"20\", \"21\", \"22\", \"23\", \"24\", \"25\", \"26\", \"27\", \"28\", \"29\", \"30\", \"31\", \"32\", \"33\", \"34\", \"35\", \"38\", \"39\"], \"mode\": \"markers\", \"name\": \"average_precision_score_weighted\", \"stepped\": false, \"type\": \"scatter\", \"data\": [0.9030533078318148, 0.9098338442363666, 0.8922653928798443, 0.8639263214380059, 0.615549188411285, 0.9109280649772009, 0.865768012182559, 0.9130130812259967, 0.6241022113797563, 0.8292439380803758, 0.8985506382739071, 0.9039573399230655, 0.8795704885673734, 0.889583216377536, 0.8114112785781754, 0.7715634810937215, 0.8829228290781432, 0.9041403740560503, 0.9043237137551006, 0.875741083404629, 0.9050056824635873, 0.8785534772952251, 0.9180181341935328, 0.9162886585442145, 0.9160926538967694, 0.8844874853552608, 0.9068483713332367, 0.9134136143228124, 0.9104391825052569, 0.9050891078866337, 0.8541616246161587, 0.9074238520918734, 0.9042296151618268, 0.9136505704035387, 0.8276646021821945, 0.9123732365805568, 0.9095237394716937]}, {\"categories\": [\"0\", \"1\", \"2\", \"3\", \"4\", \"5\", \"6\", \"7\", \"8\", \"9\", \"10\", \"11\", \"12\", \"13\", \"14\", \"16\", \"17\", \"18\", \"19\", \"20\", \"21\", \"22\", \"23\", \"24\", \"25\", \"26\", \"27\", \"28\", \"29\", \"30\", \"31\", \"32\", \"33\", \"34\", \"35\", \"38\", \"39\"], \"mode\": \"lines\", \"name\": \"average_precision_score_weighted_max\", \"stepped\": true, \"type\": \"scatter\", \"data\": [0.9030533078318148, 0.9098338442363666, 0.9098338442363666, 0.9098338442363666, 0.9098338442363666, 0.9109280649772009, 0.9109280649772009, 0.9130130812259967, 0.9130130812259967, 0.9130130812259967, 0.9130130812259967, 0.9130130812259967, 0.9130130812259967, 0.9130130812259967, 0.9130130812259967, 0.9130130812259967, 0.9130130812259967, 0.9130130812259967, 0.9130130812259967, 0.9130130812259967, 0.9130130812259967, 0.9130130812259967, 0.9180181341935328, 0.9180181341935328, 0.9180181341935328, 0.9180181341935328, 0.9180181341935328, 0.9180181341935328, 0.9180181341935328, 0.9180181341935328, 0.9180181341935328, 0.9180181341935328, 0.9180181341935328, 0.9180181341935328, 0.9180181341935328, 0.9180181341935328, 0.9180181341935328]}]}, \"metricName\": null, \"primaryMetricName\": \"accuracy\", \"showLegend\": false}, \"run_metrics\": [{\"name\": \"experiment_status\", \"run_id\": \"AutoML_082e177e-f879-4eb9-ba30-bdc8979214da\", \"categories\": [0, 1, 2, 3, 4, 5, 6, 7, 8, 9, 10, 11, 12, 13], \"series\": [{\"data\": [\"DatasetEvaluation\", \"FeaturesGeneration\", \"DatasetFeaturization\", \"DatasetFeaturizationCompleted\", \"DatasetCrossValidationSplit\", \"ModelSelection\", \"BestRunExplainModel\", \"ModelExplanationDataSetSetup\", \"PickSurrogateModel\", \"EngineeredFeatureExplanations\", \"EngineeredFeatureExplanations\", \"RawFeaturesExplanations\", \"RawFeaturesExplanations\", \"BestRunExplainModel\"]}]}, {\"name\": \"experiment_status_description\", \"run_id\": \"AutoML_082e177e-f879-4eb9-ba30-bdc8979214da\", \"categories\": [0, 1, 2, 3, 4, 5, 6, 7, 8, 9, 10, 11, 12, 13], \"series\": [{\"data\": [\"Gathering dataset statistics.\", \"Generating features for the dataset.\", \"Beginning to fit featurizers and featurize the dataset.\", \"Completed fit featurizers and featurizing the dataset.\", \"Generating individually featurized CV splits.\", \"Beginning model selection.\", \"Best run model explanations started\", \"Model explanations data setup completed\", \"Choosing LightGBM as the surrogate model for explanations\", \"Computation of engineered features started\", \"Computation of engineered features completed\", \"Computation of raw features started\", \"Computation of raw features completed\", \"Best run model explanations completed\"]}]}, {\"name\": \"balanced_accuracy\", \"run_id\": \"AutoML_082e177e-f879-4eb9-ba30-bdc8979214da\", \"categories\": [0], \"series\": [{\"data\": [0.8265685379827329]}]}, {\"name\": \"matthews_correlation\", \"run_id\": \"AutoML_082e177e-f879-4eb9-ba30-bdc8979214da\", \"categories\": [0], \"series\": [{\"data\": [0.6871372145654745]}]}, {\"name\": \"recall_score_micro\", \"run_id\": \"AutoML_082e177e-f879-4eb9-ba30-bdc8979214da\", \"categories\": [0], \"series\": [{\"data\": [0.866126126126126]}]}, {\"name\": \"weighted_accuracy\", \"run_id\": \"AutoML_082e177e-f879-4eb9-ba30-bdc8979214da\", \"categories\": [0], \"series\": [{\"data\": [0.8929963269988462]}]}, {\"name\": \"f1_score_macro\", \"run_id\": \"AutoML_082e177e-f879-4eb9-ba30-bdc8979214da\", \"categories\": [0], \"series\": [{\"data\": [0.8354493907625058]}]}, {\"name\": \"f1_score_weighted\", \"run_id\": \"AutoML_082e177e-f879-4eb9-ba30-bdc8979214da\", \"categories\": [0], \"series\": [{\"data\": [0.8610660544772686]}]}, {\"name\": \"average_precision_score_micro\", \"run_id\": \"AutoML_082e177e-f879-4eb9-ba30-bdc8979214da\", \"categories\": [0], \"series\": [{\"data\": [0.9156178252623035]}]}, {\"name\": \"precision_score_micro\", \"run_id\": \"AutoML_082e177e-f879-4eb9-ba30-bdc8979214da\", \"categories\": [0], \"series\": [{\"data\": [0.866126126126126]}]}, {\"name\": \"accuracy\", \"run_id\": \"AutoML_082e177e-f879-4eb9-ba30-bdc8979214da\", \"categories\": [0], \"series\": [{\"data\": [0.866126126126126]}]}, {\"name\": \"precision_score_weighted\", \"run_id\": \"AutoML_082e177e-f879-4eb9-ba30-bdc8979214da\", \"categories\": [0], \"series\": [{\"data\": [0.8718187513532341]}]}, {\"name\": \"AUC_micro\", \"run_id\": \"AutoML_082e177e-f879-4eb9-ba30-bdc8979214da\", \"categories\": [0], \"series\": [{\"data\": [0.9141805372940508]}]}, {\"name\": \"average_precision_score_macro\", \"run_id\": \"AutoML_082e177e-f879-4eb9-ba30-bdc8979214da\", \"categories\": [0], \"series\": [{\"data\": [0.8827546675215476]}]}, {\"name\": \"recall_score_macro\", \"run_id\": \"AutoML_082e177e-f879-4eb9-ba30-bdc8979214da\", \"categories\": [0], \"series\": [{\"data\": [0.8265685379827329]}]}, {\"name\": \"average_precision_score_weighted\", \"run_id\": \"AutoML_082e177e-f879-4eb9-ba30-bdc8979214da\", \"categories\": [0], \"series\": [{\"data\": [0.9123732365805568]}]}, {\"name\": \"log_loss\", \"run_id\": \"AutoML_082e177e-f879-4eb9-ba30-bdc8979214da\", \"categories\": [0], \"series\": [{\"data\": [0.4219576391808034]}]}, {\"name\": \"AUC_macro\", \"run_id\": \"AutoML_082e177e-f879-4eb9-ba30-bdc8979214da\", \"categories\": [0], \"series\": [{\"data\": [0.91118513796833]}]}, {\"name\": \"precision_score_macro\", \"run_id\": \"AutoML_082e177e-f879-4eb9-ba30-bdc8979214da\", \"categories\": [0], \"series\": [{\"data\": [0.8620010449320794]}]}, {\"name\": \"recall_score_weighted\", \"run_id\": \"AutoML_082e177e-f879-4eb9-ba30-bdc8979214da\", \"categories\": [0], \"series\": [{\"data\": [0.866126126126126]}]}, {\"name\": \"norm_macro_recall\", \"run_id\": \"AutoML_082e177e-f879-4eb9-ba30-bdc8979214da\", \"categories\": [0], \"series\": [{\"data\": [0.6531370759654658]}]}, {\"name\": \"AUC_weighted\", \"run_id\": \"AutoML_082e177e-f879-4eb9-ba30-bdc8979214da\", \"categories\": [0], \"series\": [{\"data\": [0.9111851379683301]}]}, {\"name\": \"f1_score_micro\", \"run_id\": \"AutoML_082e177e-f879-4eb9-ba30-bdc8979214da\", \"categories\": [0], \"series\": [{\"data\": [0.866126126126126]}]}], \"run_logs\": \"\\nRun is completed.\", \"graph\": {}, \"widget_settings\": {\"childWidgetDisplay\": \"popup\", \"send_telemetry\": false, \"log_level\": \"INFO\", \"sdk_version\": \"1.32.0\"}, \"loading\": false}"
     },
     "metadata": {},
     "output_type": "display_data"
    },
    {
     "data": {
      "text/html": [
       "<table style=\"width:100%\"><tr><th>Experiment</th><th>Id</th><th>Type</th><th>Status</th><th>Details Page</th><th>Docs Page</th></tr><tr><td>automl-experiment</td><td>AutoML_082e177e-f879-4eb9-ba30-bdc8979214da</td><td>automl</td><td>NotStarted</td><td><a href=\"https://ml.azure.com/runs/AutoML_082e177e-f879-4eb9-ba30-bdc8979214da?wsid=/subscriptions/5a4ab2ba-6c51-4805-8155-58759ad589d8/resourcegroups/aml-quickstarts-154849/workspaces/quick-starts-ws-154849&amp;tid=660b3398-b80e-49d2-bc5b-ac1dc93b5254\" target=\"_blank\" rel=\"noopener\">Link to Azure Machine Learning studio</a></td><td><a href=\"https://docs.microsoft.com/en-us/python/api/overview/azure/ml/intro?view=azure-ml-py\" target=\"_blank\" rel=\"noopener\">Link to Documentation</a></td></tr></table>"
      ],
      "text/plain": [
       "<IPython.core.display.HTML object>"
      ]
     },
     "metadata": {},
     "output_type": "display_data"
    },
    {
     "name": "stdout",
     "output_type": "stream",
     "text": [
      "\n",
      "Current status: FeaturesGeneration. Generating features for the dataset.\n",
      "Current status: ModelSelection. Beginning model selection.\n",
      "\n",
      "****************************************************************************************************\n",
      "DATA GUARDRAILS: \n",
      "\n",
      "TYPE:         Class balancing detection\n",
      "STATUS:       PASSED\n",
      "DESCRIPTION:  Your inputs were analyzed, and all classes are balanced in your training data.\n",
      "              Learn more about imbalanced data: https://aka.ms/AutomatedMLImbalancedData\n",
      "\n",
      "****************************************************************************************************\n",
      "\n",
      "TYPE:         Missing feature values imputation\n",
      "STATUS:       PASSED\n",
      "DESCRIPTION:  No feature missing values were detected in the training data.\n",
      "              Learn more about missing value imputation: https://aka.ms/AutomatedMLFeaturization\n",
      "\n",
      "****************************************************************************************************\n",
      "\n",
      "TYPE:         High cardinality feature detection\n",
      "STATUS:       PASSED\n",
      "DESCRIPTION:  Your inputs were analyzed, and no high cardinality features were detected.\n",
      "              Learn more about high cardinality feature handling: https://aka.ms/AutomatedMLFeaturization\n",
      "\n",
      "****************************************************************************************************\n",
      "\n",
      "****************************************************************************************************\n",
      "ITERATION: The iteration being evaluated.\n",
      "PIPELINE: A summary description of the pipeline being evaluated.\n",
      "DURATION: Time taken for the current iteration.\n",
      "METRIC: The result of computing score on the fitted pipeline.\n",
      "BEST: The best observed score thus far.\n",
      "****************************************************************************************************\n",
      "\n",
      " ITERATION   PIPELINE                                       DURATION      METRIC      BEST\n",
      "         2   MaxAbsScaler ExtremeRandomTrees                0:00:43       0.8259    0.8259\n",
      "         0   MaxAbsScaler LightGBM                          0:00:48       0.8327    0.8327\n",
      "         4   StandardScalerWrapper KNN                      0:01:54       0.5953    0.8327\n",
      "         3   SparseNormalizer XGBoostClassifier             0:01:34       0.8127    0.8327\n",
      "         6   RobustScaler LogisticRegression                0:00:58       0.7991    0.8327\n",
      "         7   MaxAbsScaler LightGBM                          0:00:50       0.8260    0.8327\n",
      "         9   StandardScalerWrapper SVM                      0:00:44       0.7624    0.8327\n",
      "        10   StandardScalerWrapper XGBoostClassifier        0:01:29       0.8394    0.8394\n",
      "         1   MaxAbsScaler XGBoostClassifier                 0:06:19       0.8361    0.8394\n",
      "        11   MinMaxScaler RandomForest                      0:01:11       0.8325    0.8394\n",
      "         5   MaxAbsScaler LightGBM                          0:06:07       0.8394    0.8394\n",
      "        12   StandardScalerWrapper LogisticRegression       0:01:10       0.7456    0.8394\n",
      "        13   StandardScalerWrapper KNN                      0:00:53       0.7994    0.8394\n",
      "         8   StandardScalerWrapper KNN                      0:06:17       0.6118    0.8394\n",
      "        16   SparseNormalizer KNN                           0:00:45       0.7392    0.8394\n",
      "        17   MaxAbsScaler LogisticRegression                0:00:44       0.8427    0.8427\n",
      "        14   RobustScaler KNN                               0:01:40       0.7725    0.8427\n",
      "        18   StandardScalerWrapper XGBoostClassifier        0:00:42       0.8460    0.8460\n",
      "        19   StandardScalerWrapper XGBoostClassifier        0:00:55       0.8494    0.8494\n",
      "        21   StandardScalerWrapper XGBoostClassifier        0:00:41       0.8560    0.8560\n",
      "        22   SparseNormalizer RandomForest                  0:00:42       0.8426    0.8560\n",
      "        20   MaxAbsScaler LogisticRegression                0:01:40       0.8158    0.8560\n",
      "        23   StandardScalerWrapper RandomForest             0:00:42       0.8460    0.8560\n",
      "        24   StandardScalerWrapper XGBoostClassifier        0:00:40       0.8360    0.8560\n",
      "        25   StandardScalerWrapper XGBoostClassifier        0:00:40       0.8294    0.8560\n",
      "        26   SparseNormalizer XGBoostClassifier             0:00:44       0.8160    0.8560\n",
      "        27   RobustScaler RandomForest                      0:00:44       0.8324    0.8560\n",
      "        28   RobustScaler LightGBM                          0:00:43       0.8427    0.8560\n",
      "        29   StandardScalerWrapper XGBoostClassifier        0:00:44       0.8459    0.8560\n",
      "        30   StandardScalerWrapper XGBoostClassifier        0:00:40       0.8359    0.8560\n",
      "        31   SparseNormalizer XGBoostClassifier             0:00:41       0.8227    0.8560\n",
      "        33   RobustScaler LightGBM                          0:00:43       0.8393    0.8560\n",
      "        32   StandardScalerWrapper RandomForest             0:01:42       0.8392    0.8560\n",
      "        34   MaxAbsScaler LightGBM                          0:00:50       0.8327    0.8560\n",
      "        35   SparseNormalizer XGBoostClassifier             0:00:52       0.8093    0.8560\n",
      "        36                                                  0:00:04          nan    0.8560\n",
      "        15                                                  0:07:20          nan    0.8560\n",
      "        37                                                  0:00:05          nan    0.8560\n",
      "        38    VotingEnsemble                                0:01:41       0.8661    0.8661\n",
      "        39    StackEnsemble                                 0:01:42       0.8159    0.8661\n"
     ]
    },
    {
     "name": "stderr",
     "output_type": "stream",
     "text": [
      "WARNING:urllib3.connectionpool:Retrying (Retry(total=2, connect=2, read=3, redirect=None, status=None)) after connection broken by 'NewConnectionError('<urllib3.connection.HTTPSConnection object at 0x7fa45c7392e8>: Failed to establish a new connection: [Errno 111] Connection refused',)': /history/v1.0/subscriptions/5a4ab2ba-6c51-4805-8155-58759ad589d8/resourceGroups/aml-quickstarts-154849/providers/Microsoft.MachineLearningServices/workspaces/quick-starts-ws-154849/experiments/hyperdrive-experiment/runs/HD_3a272fc5-d160-442a-8436-7cd5e824c563\n"
     ]
    }
   ],
   "source": [
    "RunDetails(automl).show()\n",
    "automl.wait_for_completion(show_output=True)\n",
    "\n",
    "assert(automl.get_status() == \"Completed\")"
   ]
  },
  {
   "cell_type": "markdown",
   "metadata": {},
   "source": [
    "## Best Model"
   ]
  },
  {
   "cell_type": "code",
   "execution_count": 13,
   "metadata": {
    "gather": {
     "logged": 1629280992491
    },
    "jupyter": {
     "outputs_hidden": false,
     "source_hidden": false
    },
    "nteract": {
     "transient": {
      "deleting": false
     }
    }
   },
   "outputs": [
    {
     "name": "stderr",
     "output_type": "stream",
     "text": [
      "WARNING:root:The version of the SDK does not match the version the model was trained on.\n",
      "WARNING:root:The consistency in the result may not be guaranteed.\n",
      "WARNING:root:Package:azureml-automl-core, training version:1.33.0, current version:1.32.0\n",
      "Package:azureml-automl-runtime, training version:1.33.0, current version:1.32.0\n",
      "Package:azureml-core, training version:1.33.0, current version:1.32.0\n",
      "Package:azureml-dataprep, training version:2.20.1, current version:2.18.0\n",
      "Package:azureml-dataprep-native, training version:38.0.0, current version:36.0.0\n",
      "Package:azureml-dataprep-rslex, training version:1.18.0, current version:1.16.1\n",
      "Package:azureml-dataset-runtime, training version:1.33.0, current version:1.32.0\n",
      "Package:azureml-defaults, training version:1.33.0, current version:1.32.0\n",
      "Package:azureml-interpret, training version:1.33.0, current version:1.32.0\n",
      "Package:azureml-mlflow, training version:1.33.0, current version:1.32.0\n",
      "Package:azureml-pipeline-core, training version:1.33.0, current version:1.32.0\n",
      "Package:azureml-responsibleai, training version:1.33.0, current version:1.32.0\n",
      "Package:azureml-telemetry, training version:1.33.0, current version:1.32.0\n",
      "Package:azureml-train-automl-client, training version:1.33.0, current version:1.32.0\n",
      "Package:azureml-train-automl-runtime, training version:1.33.0, current version:1.32.0\n",
      "WARNING:root:Please ensure the version of your local conda dependencies match the version on which your model was trained in order to properly retrieve your model.\n"
     ]
    },
    {
     "name": "stdout",
     "output_type": "stream",
     "text": [
      "\n",
      "\n",
      "Best run ID:  AutoML_082e177e-f879-4eb9-ba30-bdc8979214da_38\n",
      "Best run Accuracy:  0.866126126126126\n",
      "Metrics:  {'matthews_correlation': 0.6871372145654745, 'norm_macro_recall': 0.6531370759654658, 'average_precision_score_macro': 0.8827546675215476, 'recall_score_micro': 0.866126126126126, 'f1_score_micro': 0.866126126126126, 'AUC_weighted': 0.9111851379683301, 'precision_score_macro': 0.8620010449320794, 'recall_score_weighted': 0.866126126126126, 'AUC_micro': 0.9141805372940508, 'precision_score_weighted': 0.8718187513532341, 'accuracy': 0.866126126126126, 'f1_score_macro': 0.8354493907625058, 'precision_score_micro': 0.866126126126126, 'weighted_accuracy': 0.8929963269988462, 'recall_score_macro': 0.8265685379827329, 'f1_score_weighted': 0.8610660544772686, 'AUC_macro': 0.91118513796833, 'log_loss': 0.4219576391808034, 'balanced_accuracy': 0.8265685379827329, 'average_precision_score_micro': 0.9156178252623035, 'average_precision_score_weighted': 0.9123732365805568, 'accuracy_table': 'aml://artifactId/ExperimentRun/dcid.AutoML_082e177e-f879-4eb9-ba30-bdc8979214da_38/accuracy_table', 'confusion_matrix': 'aml://artifactId/ExperimentRun/dcid.AutoML_082e177e-f879-4eb9-ba30-bdc8979214da_38/confusion_matrix'}\n",
      "\n",
      "\n"
     ]
    }
   ],
   "source": [
    "best_run_automl, best_model_automl = automl.get_output()\n",
    "best_run_metrics_automl = best_run_automl.get_metrics()\n",
    "\n",
    "print(\"\\n\")\n",
    "print('Best run ID: ', best_run_automl.id)\n",
    "print('Best run Accuracy: ', best_run_metrics_automl['accuracy'])\n",
    "print('Metrics: ', best_run_metrics_automl)\n",
    "print(\"\\n\")"
   ]
  },
  {
   "cell_type": "code",
   "execution_count": 17,
   "metadata": {
    "collapsed": true,
    "gather": {
     "logged": 1629281814795
    },
    "jupyter": {
     "outputs_hidden": false,
     "source_hidden": false
    },
    "nteract": {
     "transient": {
      "deleting": false
     }
    }
   },
   "outputs": [
    {
     "name": "stdout",
     "output_type": "stream",
     "text": [
      "Pipeline(memory=None,\n",
      "         steps=[('datatransformer',\n",
      "                 DataTransformer(enable_dnn=False, enable_feature_sweeping=True, feature_sweeping_config={}, feature_sweeping_timeout=86400, featurization_config=None, force_text_dnn=False, is_cross_validation=True, is_onnx_compatible=False, observer=None, task='classification', working_dir='/mnt/batch/tasks/shared/LS_root/mount...\n",
      "), random_state=0, reg_alpha=2.3958333333333335, reg_lambda=1.5625, subsample=0.5, tree_method='auto'))], verbose=False))], flatten_transform=None, weights=[0.09090909090909091, 0.18181818181818182, 0.09090909090909091, 0.09090909090909091, 0.09090909090909091, 0.09090909090909091, 0.09090909090909091, 0.09090909090909091, 0.09090909090909091, 0.09090909090909091]))],\n",
      "         verbose=False)\n"
     ]
    }
   ],
   "source": [
    "print(best_model_automl)"
   ]
  },
  {
   "cell_type": "code",
   "execution_count": 18,
   "metadata": {
    "gather": {
     "logged": 1629286893192
    },
    "jupyter": {
     "outputs_hidden": false,
     "source_hidden": false
    },
    "nteract": {
     "transient": {
      "deleting": false
     }
    }
   },
   "outputs": [
    {
     "data": {
      "text/plain": [
       "['outputs/best_model_automl.pkl']"
      ]
     },
     "execution_count": 18,
     "metadata": {},
     "output_type": "execute_result"
    }
   ],
   "source": [
    "# Save the best model\n",
    "joblib.dump(best_model_automl, filename='outputs/best_model_automl.pkl')"
   ]
  },
  {
   "cell_type": "markdown",
   "metadata": {},
   "source": [
    "## Model Deployment\n",
    "\n",
    "Remember you have to deploy only one of the two models you trained.. Perform the steps in the rest of this notebook only if you wish to deploy this model.\n",
    "\n",
    "Register the model, create an inference config and deploy the model as a web service."
   ]
  },
  {
   "cell_type": "code",
   "execution_count": 22,
   "metadata": {
    "gather": {
     "logged": 1629288116701
    },
    "jupyter": {
     "outputs_hidden": false,
     "source_hidden": false
    },
    "nteract": {
     "transient": {
      "deleting": false
     }
    }
   },
   "outputs": [
    {
     "name": "stdout",
     "output_type": "stream",
     "text": [
      "Tips: You can try get_logs(): https://aka.ms/debugimage#dockerlog or local deployment: https://aka.ms/debugimage#debug-locally to debug if deployment takes longer than 10 minutes.\n",
      "Running\n",
      "2021-08-18 11:47:16+00:00 Creating Container Registry if not exists..\n",
      "2021-08-18 11:57:16+00:00 Registering the environment.\n",
      "2021-08-18 11:57:17+00:00 Use the existing image.\n",
      "2021-08-18 11:57:18+00:00 Generating deployment configuration..\n",
      "2021-08-18 11:57:19+00:00 Submitting deployment to compute.\n",
      "2021-08-18 11:57:22+00:00 Checking the status of deployment automl-deploy..\n",
      "2021-08-18 12:01:47+00:00 Checking the status of inference endpoint automl-deploy.\n",
      "Succeeded\n",
      "ACI service creation operation finished, operation \"Succeeded\"\n",
      "Deployment state:  Healthy\n",
      "Scoring URI:  http://c55aee43-1cff-46b2-b394-95a2e22cedbe.southcentralus.azurecontainer.io/score\n"
     ]
    }
   ],
   "source": [
    "# Register the best model\n",
    "#best_run_automl.upload_file('outputs/best_model_automl.pkl', 'outputs/best_model_automl.pkl')\n",
    "#model = best_run_automl.register_model(model_name='best_model_automl', model_path='outputs/best_model_automl.pkl')\n",
    "\n",
    "# Deploy the model\n",
    "service_name = 'automl-deploy'\n",
    "inference_config = InferenceConfig(entry_script='score.py', environment=best_run_automl.get_environment())\n",
    "aci_deployment_config = AciWebservice.deploy_configuration(cpu_cores=1, \n",
    "                                                           memory_gb=1,\n",
    "                                                           auth_enabled=True,\n",
    "                                                           enable_app_insights=True,\n",
    "                                                           description='AutoML model deploy')\n",
    "\n",
    "service = Model.deploy(workspace=ws,\n",
    "                       name=service_name,\n",
    "                       models=[model],\n",
    "                       inference_config=inference_config,\n",
    "                       deployment_config=aci_deployment_config,\n",
    "                       overwrite=True\n",
    "                      )\n",
    "\n",
    "service.wait_for_deployment(show_output=True)\n",
    "\n",
    "\n",
    "print('Deployment state: ', service.state)\n",
    "print('Scoring URI: ', service.scoring_uri)"
   ]
  },
  {
   "cell_type": "markdown",
   "metadata": {
    "collapsed": true,
    "gather": {
     "logged": 1598431657736
    },
    "jupyter": {
     "outputs_hidden": false,
     "source_hidden": false
    },
    "nteract": {
     "transient": {
      "deleting": false
     }
    }
   },
   "source": [
    "Send a request to the web service you deployed to test it."
   ]
  },
  {
   "cell_type": "code",
   "execution_count": null,
   "metadata": {
    "gather": {
     "logged": 1598432707604
    },
    "jupyter": {
     "outputs_hidden": false,
     "source_hidden": false
    },
    "nteract": {
     "transient": {
      "deleting": false
     }
    }
   },
   "outputs": [],
   "source": [
    "# Send a POST requests to the web service\n",
    "\n",
    "# URL for the web service\n",
    "scoring_uri = str(service.scoring_uri)\n",
    "# If the service is authenticated, set the key or token\n",
    "primary, secondary = service.get_keys()\n",
    "key = str(primary)\n",
    "\n",
    "# Two sets of data to score, so we get two results back\n",
    "data = {\"data\":\n",
    "        [\n",
    "          {\n",
    "            'age': 50.0, \n",
    "            'anaemia': 1, \n",
    "            'creatinine_phosphokinase': 230,\n",
    "            'diabetes': 0,\n",
    "            'ejection_fraction': 38,\n",
    "            'high_blood_pressure': 1,\n",
    "            'platelets': 390000.0,\n",
    "            'serum_creatinine': 1.8,\n",
    "            'serum_sodium': 135,\n",
    "            'sex': 1,\n",
    "            'smoking': 0,\n",
    "            'time': 14\n",
    "          }\n",
    "    ]\n",
    "}\n",
    "\n",
    "# Convert to JSON string\n",
    "input_data = json.dumps(data)\n",
    "with open(\"data.json\", \"w\") as _f:\n",
    "    _f.write(input_data)\n",
    "\n",
    "# Set the content type\n",
    "headers = {'Content-Type': 'application/json'}\n",
    "# If authentication is enabled, set the authorization header\n",
    "headers['Authorization'] = f'Bearer {key}'\n",
    "\n",
    "# Make the request and display the response\n",
    "resp = requests.post(scoring_uri, input_data, headers=headers)\n",
    "print(resp.text)\n",
    "print(resp.json())"
   ]
  },
  {
   "cell_type": "markdown",
   "metadata": {
    "collapsed": true,
    "gather": {
     "logged": 1598432765711
    },
    "jupyter": {
     "outputs_hidden": false,
     "source_hidden": false
    },
    "nteract": {
     "transient": {
      "deleting": false
     }
    }
   },
   "source": [
    "Print the logs of the web service and delete the service"
   ]
  },
  {
   "cell_type": "code",
   "execution_count": null,
   "metadata": {
    "jupyter": {
     "outputs_hidden": false,
     "source_hidden": false
    },
    "nteract": {
     "transient": {
      "deleting": false
     }
    }
   },
   "outputs": [],
   "source": [
    "# Logs of the web service\n",
    "print(service.get_logs())\n",
    "\n",
    "# Delete the service\n",
    "service.delete()"
   ]
  }
 ],
 "metadata": {
  "kernel_info": {
   "name": "python3-azureml"
  },
  "kernelspec": {
   "display_name": "Python 3",
   "language": "python",
   "name": "python3"
  },
  "language_info": {
   "codemirror_mode": {
    "name": "ipython",
    "version": 3
   },
   "file_extension": ".py",
   "mimetype": "text/x-python",
   "name": "python",
   "nbconvert_exporter": "python",
   "pygments_lexer": "ipython3",
   "version": "3.8.8"
  },
  "microsoft": {
   "host": {
    "AzureML": {
     "notebookHasBeenCompleted": true
    }
   }
  },
  "nteract": {
   "version": "nteract-front-end@1.0.0"
  }
 },
 "nbformat": 4,
 "nbformat_minor": 2
}
